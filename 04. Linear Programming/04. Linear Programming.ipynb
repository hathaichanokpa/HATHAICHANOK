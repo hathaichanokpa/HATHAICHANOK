{
 "cells": [
  {
   "cell_type": "markdown",
   "source": [
    "# Numpy Basic\n",
    "\n",
    "## The data type\n",
    "\n",
    "- The data type can be used as the dimension representation.\n",
    "- Using like the linear equation\n",
    "- `numpy` package is used to define the linear equations\n",
    "\n",
    "​\t **note** many data science techniques use the linear equation to manipulate the value.\n",
    "\n",
    "There are two type of data\n",
    "\n",
    "**Scalar**\n",
    "\n",
    "- a number\n",
    "- no direction\n",
    "\n",
    "\n",
    "\n",
    "**Vector**\n",
    "\n",
    "- list of numbers\n",
    "- identify that point in space\n",
    "- use as the direction"
   ],
   "metadata": {
    "collapsed": false
   }
  },
  {
   "cell_type": "markdown",
   "source": [
    "If we have the point (3,4)\n",
    "\n",
    "![image-20230731183241242](./assets/image-20230731183241242.png)\n",
    "\n",
    "* $\\overrightarrow{a}$ show the scalar value of the vector\n",
    "\n",
    "* aka the absolute value\n",
    "\n",
    "* The dimension may have more than one di### Creating the vector\n",
    "\n",
    "\n",
    "\n",
    "using the function array which will convert the list to an array\n",
    "\n",
    "```\n",
    "import numpy as np\n",
    "v = np.array ([1.,2.,3.])\n",
    "```\n",
    "\n",
    "now v will act as the vector in linear algebra instead of a list"
   ],
   "metadata": {
    "collapsed": false
   }
  },
  {
   "cell_type": "code",
   "source": [
    "import numpy as np\n",
    "v = np.array([1.,2.,3.])"
   ],
   "metadata": {
    "collapsed": false,
    "ExecuteTime": {
     "end_time": "2024-09-07T16:17:49.206067Z",
     "start_time": "2024-09-07T16:17:40.287417Z"
    }
   },
   "outputs": [],
   "execution_count": 1
  },
  {
   "cell_type": "markdown",
   "source": [
    "### Create the numpy as given\n",
    "\n",
    "```python\n",
    "import numpy as np\n",
    "v1 = np.array([1.,3,-5])\n",
    "v2 = np.array([4,-2,-1])\n",
    "```\n",
    "\n",
    "Then try to draw the 3d image for this vector?"
   ],
   "metadata": {
    "collapsed": false
   }
  },
  {
   "cell_type": "code",
   "source": [
    "import numpy as np\n",
    "v1 = np.array([1.,3,-5])\n",
    "v2 = np.array([4,-2,-1])"
   ],
   "metadata": {
    "collapsed": false,
    "ExecuteTime": {
     "end_time": "2024-09-07T16:17:55.588572Z",
     "start_time": "2024-09-07T16:17:55.585264Z"
    }
   },
   "outputs": [],
   "execution_count": 2
  },
  {
   "cell_type": "markdown",
   "source": [
    "Try to guess what is the result of this two command\n",
    "\n",
    "```python\n",
    "print (2*v1)\n",
    "print (v1/2)\n",
    "```\n",
    "\n"
   ],
   "metadata": {
    "collapsed": false
   }
  },
  {
   "cell_type": "code",
   "source": [
    "print (2*v1)\n",
    "print (v1/2)"
   ],
   "metadata": {
    "collapsed": false,
    "ExecuteTime": {
     "end_time": "2024-09-07T16:18:04.629634Z",
     "start_time": "2024-09-07T16:18:04.625031Z"
    }
   },
   "outputs": [
    {
     "name": "stdout",
     "output_type": "stream",
     "text": [
      "[  2.   6. -10.]\n",
      "[ 0.5  1.5 -2.5]\n"
     ]
    }
   ],
   "execution_count": 3
  },
  {
   "cell_type": "markdown",
   "source": [
    "Try this combination\n",
    "\n",
    "```python\n",
    "print(3*v1)\n",
    "print (v1 + v2)\n",
    "```"
   ],
   "metadata": {
    "collapsed": false
   }
  },
  {
   "cell_type": "code",
   "source": [
    "print(3*v1)\n",
    "print (v1 + v2)"
   ],
   "metadata": {
    "collapsed": false,
    "ExecuteTime": {
     "end_time": "2024-09-07T16:18:09.114667Z",
     "start_time": "2024-09-07T16:18:09.110716Z"
    }
   },
   "outputs": [
    {
     "name": "stdout",
     "output_type": "stream",
     "text": [
      "[  3.   9. -15.]\n",
      "[ 5.  1. -6.]\n"
     ]
    }
   ],
   "execution_count": 4
  },
  {
   "cell_type": "markdown",
   "source": [
    "Try this code\n",
    "```python\n",
    "v4 = np.array([1,2,3,4,5])\n",
    "print (v1 + v4)\n",
    "```"
   ],
   "metadata": {
    "collapsed": false
   }
  },
  {
   "cell_type": "code",
   "source": [
    "v4 = np.array([1,2,3,4,5])\n",
    "print (v1 + v4)"
   ],
   "metadata": {
    "collapsed": false,
    "ExecuteTime": {
     "end_time": "2024-09-07T16:18:27.760680Z",
     "start_time": "2024-09-07T16:18:27.745151Z"
    }
   },
   "outputs": [
    {
     "ename": "ValueError",
     "evalue": "operands could not be broadcast together with shapes (3,) (5,) ",
     "output_type": "error",
     "traceback": [
      "\u001B[0;31m---------------------------------------------------------------------------\u001B[0m",
      "\u001B[0;31mValueError\u001B[0m                                Traceback (most recent call last)",
      "Cell \u001B[0;32mIn[6], line 2\u001B[0m\n\u001B[1;32m      1\u001B[0m v4 \u001B[38;5;241m=\u001B[39m np\u001B[38;5;241m.\u001B[39marray([\u001B[38;5;241m1\u001B[39m,\u001B[38;5;241m2\u001B[39m,\u001B[38;5;241m3\u001B[39m,\u001B[38;5;241m4\u001B[39m,\u001B[38;5;241m5\u001B[39m])\n\u001B[0;32m----> 2\u001B[0m \u001B[38;5;28mprint\u001B[39m (\u001B[43mv1\u001B[49m\u001B[43m \u001B[49m\u001B[38;5;241;43m+\u001B[39;49m\u001B[43m \u001B[49m\u001B[43mv4\u001B[49m)\n",
      "\u001B[0;31mValueError\u001B[0m: operands could not be broadcast together with shapes (3,) (5,) "
     ]
    }
   ],
   "execution_count": 6
  },
  {
   "cell_type": "markdown",
   "source": [
    "## Matrix\n",
    "\n",
    "Matrix is a data structure that consists of rows and columns.\n",
    "\n",
    "The matrix can be implemented using the numpy\n",
    "\n",
    "![image-20230731184629040](./assets/image-20230731184629040.png)\n",
    "\n",
    "<img src=\"./assets/1024px-Matrix.svg.png\" alt=\"undefined\" style=\"zoom:50%;\" />\n",
    "\n",
    "**Note**\n",
    "\n",
    "Vectors are no column - and no row matrices\n",
    "\n",
    "> the $n$ vector, and $n \\times 1$ and a $1 \\times n$ matrix are three different objects even if they contain the same data.\n",
    "\n"
   ],
   "metadata": {
    "collapsed": false
   }
  },
  {
   "cell_type": "markdown",
   "source": [
    "To create the matrix\n",
    "\n",
    "using array function, but from the list of the list instead\n",
    "\n",
    "```python\n",
    "M = np.array([[1.,2],\n",
    "              [0.,1]])\n",
    "M\n",
    "```"
   ],
   "metadata": {
    "collapsed": false
   }
  },
  {
   "cell_type": "code",
   "source": [
    "M = np.array([[1.,2],\n",
    "              [0.,1]])\n",
    "M"
   ],
   "metadata": {
    "collapsed": false,
    "ExecuteTime": {
     "end_time": "2024-09-07T16:18:39.347482Z",
     "start_time": "2024-09-07T16:18:39.339343Z"
    }
   },
   "outputs": [
    {
     "data": {
      "text/plain": [
       "array([[1., 2.],\n",
       "       [0., 1.]])"
      ]
     },
     "execution_count": 7,
     "metadata": {},
     "output_type": "execute_result"
    }
   ],
   "execution_count": 7
  },
  {
   "cell_type": "markdown",
   "source": [
    "#### shape function\n",
    "\n",
    "To define the number of raw, and column of the matrix\n",
    "\n",
    "```python\n",
    "np.shape(M)\n",
    "```"
   ],
   "metadata": {
    "collapsed": false
   }
  },
  {
   "cell_type": "code",
   "source": "np.shape(M)",
   "metadata": {
    "collapsed": false,
    "ExecuteTime": {
     "end_time": "2024-09-07T16:18:48.116456Z",
     "start_time": "2024-09-07T16:18:48.109196Z"
    }
   },
   "outputs": [
    {
     "data": {
      "text/plain": [
       "(2, 2)"
      ]
     },
     "execution_count": 8,
     "metadata": {},
     "output_type": "execute_result"
    }
   ],
   "execution_count": 8
  },
  {
   "cell_type": "markdown",
   "source": [
    "#### Task\n",
    "\n",
    "Create this matrix and show the shape of the matrix\n",
    "$$\n",
    "\\begin{bmatrix}\n",
    "    1 & 2 & 3 & 4 \\\\\n",
    "    5 & 6 & 7 & 8 \\\\\n",
    "\\end{bmatrix}\n",
    "$$"
   ],
   "metadata": {
    "collapsed": false
   }
  },
  {
   "cell_type": "code",
   "source": [
    "N = np.array([[1.,2.,3.,4],\n",
    "              [5.,6.,7.,8]])\n",
    "N"
   ],
   "metadata": {
    "collapsed": false,
    "ExecuteTime": {
     "end_time": "2024-09-07T16:19:44.948774Z",
     "start_time": "2024-09-07T16:19:44.928826Z"
    }
   },
   "outputs": [
    {
     "data": {
      "text/plain": [
       "array([[1., 2., 3., 4.],\n",
       "       [5., 6., 7., 8.]])"
      ]
     },
     "execution_count": 9,
     "metadata": {},
     "output_type": "execute_result"
    }
   ],
   "execution_count": 9
  },
  {
   "cell_type": "markdown",
   "source": [
    "#### reshape\n",
    "\n",
    "change the column and matrix\n",
    "\n",
    "try\n",
    "\n",
    "```python\n",
    "K = M.reshape(4,1)\n",
    "K\n",
    "```"
   ],
   "metadata": {
    "collapsed": false
   }
  },
  {
   "cell_type": "code",
   "source": [
    "K = M.reshape(4,1)\n",
    "K"
   ],
   "metadata": {
    "collapsed": false,
    "ExecuteTime": {
     "end_time": "2024-09-07T16:19:54.359486Z",
     "start_time": "2024-09-07T16:19:54.354553Z"
    }
   },
   "outputs": [
    {
     "data": {
      "text/plain": [
       "array([[1.],\n",
       "       [2.],\n",
       "       [0.],\n",
       "       [1.]])"
      ]
     },
     "execution_count": 10,
     "metadata": {},
     "output_type": "execute_result"
    }
   ],
   "execution_count": 10
  },
  {
   "cell_type": "markdown",
   "source": [
    "```python\n",
    "L = M.reshape(1,4)\n",
    "```"
   ],
   "metadata": {
    "collapsed": false
   }
  },
  {
   "cell_type": "code",
   "source": "L = M.reshape(1,4)",
   "metadata": {
    "collapsed": false,
    "ExecuteTime": {
     "end_time": "2024-09-07T16:19:59.523427Z",
     "start_time": "2024-09-07T16:19:59.518989Z"
    }
   },
   "outputs": [],
   "execution_count": 11
  },
  {
   "cell_type": "markdown",
   "source": [],
   "metadata": {
    "collapsed": false
   }
  },
  {
   "cell_type": "markdown",
   "source": [
    "The reshape matrix should be the same amount of data; otherwise, the error will be occurred.\n",
    "\n",
    "Try to change your created data to 3*3 matrix from matrix M\n"
   ],
   "metadata": {
    "collapsed": false
   }
  },
  {
   "cell_type": "code",
   "execution_count": null,
   "outputs": [],
   "source": [],
   "metadata": {
    "collapsed": false
   }
  },
  {
   "cell_type": "markdown",
   "source": [
    "Try to make it to 4 x 2 matrix"
   ],
   "metadata": {
    "collapsed": false
   }
  },
  {
   "cell_type": "code",
   "execution_count": null,
   "outputs": [],
   "source": [],
   "metadata": {
    "collapsed": false
   }
  },
  {
   "cell_type": "markdown",
   "source": [
    "Try to make it as 2,2,2 matrix"
   ],
   "metadata": {
    "collapsed": false
   }
  },
  {
   "cell_type": "code",
   "execution_count": null,
   "outputs": [],
   "source": [],
   "metadata": {
    "collapsed": false
   }
  },
  {
   "cell_type": "markdown",
   "source": [
    "## Using other packages\n",
    "\n",
    "We can create the files which is contains some function by created `my_funcs.py` and post it near by this code (in the same directory)\n",
    "\n",
    "```python\n",
    "def print_a():\n",
    "    print(\"a\")\n",
    "\n",
    "def print_b():\n",
    "    print(\"b\")\n",
    "```"
   ],
   "metadata": {
    "collapsed": false
   }
  },
  {
   "metadata": {
    "ExecuteTime": {
     "end_time": "2024-09-07T16:26:22.429418Z",
     "start_time": "2024-09-07T16:26:22.415964Z"
    }
   },
   "cell_type": "code",
   "source": [
    "def print_a():\n",
    "    print(\"a\")\n",
    "\n",
    "def print_b():\n",
    "    print(\"b\")"
   ],
   "outputs": [],
   "execution_count": 12
  },
  {
   "cell_type": "markdown",
   "source": [
    "Then type the code as given\n",
    "\n",
    "```python\n",
    "import my_funcs\n",
    "my_funcs.print_a()\n",
    "my_funcs.print_b()\n",
    "```"
   ],
   "metadata": {
    "collapsed": false
   }
  },
  {
   "cell_type": "code",
   "source": [
    "import my_funcs\n",
    "my_funcs.print_a()\n",
    "my_funcs.print_b()"
   ],
   "metadata": {
    "collapsed": false,
    "ExecuteTime": {
     "end_time": "2024-09-07T16:27:08.185029Z",
     "start_time": "2024-09-07T16:27:07.823280Z"
    }
   },
   "outputs": [
    {
     "ename": "ModuleNotFoundError",
     "evalue": "No module named 'my_funcs'",
     "output_type": "error",
     "traceback": [
      "\u001B[0;31m---------------------------------------------------------------------------\u001B[0m",
      "\u001B[0;31mModuleNotFoundError\u001B[0m                       Traceback (most recent call last)",
      "Cell \u001B[0;32mIn[1], line 1\u001B[0m\n\u001B[0;32m----> 1\u001B[0m \u001B[38;5;28;01mimport\u001B[39;00m \u001B[38;5;21;01mmy_funcs\u001B[39;00m\n\u001B[1;32m      2\u001B[0m my_funcs\u001B[38;5;241m.\u001B[39mprint_a()\n\u001B[1;32m      3\u001B[0m my_funcs\u001B[38;5;241m.\u001B[39mprint_b()\n",
      "\u001B[0;31mModuleNotFoundError\u001B[0m: No module named 'my_funcs'"
     ]
    }
   ],
   "execution_count": 1
  },
  {
   "cell_type": "markdown",
   "source": [
    "### import thechniques\n",
    "\n",
    "* import module directly\n",
    "```python\n",
    "import math\n",
    "print(math.pi)"
   ],
   "metadata": {
    "collapsed": false
   }
  },
  {
   "cell_type": "code",
   "source": [
    "import math\n",
    "print(math.pi)"
   ],
   "metadata": {
    "collapsed": false,
    "ExecuteTime": {
     "end_time": "2024-09-07T16:26:56.069369Z",
     "start_time": "2024-09-07T16:26:56.065803Z"
    }
   },
   "outputs": [
    {
     "name": "stdout",
     "output_type": "stream",
     "text": [
      "3.141592653589793\n"
     ]
    }
   ],
   "execution_count": 15
  },
  {
   "cell_type": "markdown",
   "source": [
    "\n",
    "* using static import\n",
    "> import the function or attribute directly, no need to add the package name when call\n",
    "\n",
    "```python\n",
    "from math import pi\n",
    "# Note that in the above examples,\n",
    "# we used math.pi. Here we have to used pi direcly.\n",
    "print(pi)\n",
    "```"
   ],
   "metadata": {
    "collapsed": false
   }
  },
  {
   "cell_type": "code",
   "source": [
    "from math import pi\n",
    "print(pi)"
   ],
   "metadata": {
    "collapsed": false,
    "ExecuteTime": {
     "end_time": "2024-09-07T16:27:25.501379Z",
     "start_time": "2024-09-07T16:27:25.493220Z"
    }
   },
   "outputs": [
    {
     "name": "stdout",
     "output_type": "stream",
     "text": [
      "3.141592653589793\n"
     ]
    }
   ],
   "execution_count": 2
  },
  {
   "cell_type": "markdown",
   "source": [
    "* static import to use all methods in the package\n",
    "```python\n",
    "from math import *\n",
    "print(pi)\n",
    "print(factorial(6))\n",
    "```"
   ],
   "metadata": {
    "collapsed": false
   }
  },
  {
   "cell_type": "code",
   "source": [
    "from math import *\n",
    "print(pi)\n",
    "print(factorial(6))"
   ],
   "metadata": {
    "collapsed": false,
    "ExecuteTime": {
     "end_time": "2024-09-07T16:27:43.377688Z",
     "start_time": "2024-09-07T16:27:43.366007Z"
    }
   },
   "outputs": [
    {
     "name": "stdout",
     "output_type": "stream",
     "text": [
      "3.141592653589793\n",
      "720\n"
     ]
    }
   ],
   "execution_count": 4
  },
  {
   "cell_type": "markdown",
   "source": [
    "What do we use here?\n",
    "  ```python\n",
    "import numpy as np\n",
    "from scipy.linalg import solve\n",
    "A = np.array([[1.,2.],[3.,4.]])\n",
    "b = np.array([1.,4.])\n",
    "x = solve(A,b)\n",
    "print(x)\n",
    "```"
   ],
   "metadata": {
    "collapsed": false
   }
  },
  {
   "cell_type": "code",
   "source": [
    "import numpy as np\n",
    "from scipy.linalg import solve\n",
    "A = np.array([[1.,2.],[3.,4.]])\n",
    "b = np.array([1.,4.])\n",
    "x = solve(A,b)\n",
    "print(x)"
   ],
   "metadata": {
    "collapsed": false,
    "ExecuteTime": {
     "end_time": "2024-09-07T16:28:33.113174Z",
     "start_time": "2024-09-07T16:28:22.174391Z"
    }
   },
   "outputs": [
    {
     "name": "stdout",
     "output_type": "stream",
     "text": [
      "[ 2.  -0.5]\n"
     ]
    }
   ],
   "execution_count": 5
  },
  {
   "cell_type": "markdown",
   "source": [
    "# Linear Programming\n",
    "\n",
    "\n",
    "\n",
    "Using Linear algebra to help people\n",
    "\n",
    "\n",
    "\n",
    "## Using the Decision support system\n",
    "\n",
    "- computer-based information system\n",
    "- supports business or organizational decision-making\n",
    "- DSS serve the management, operations, and planning level of and organization\n",
    "- help to make decision\n",
    "  - of the situation which may be rapidly chaining and not easily specified in advance"
   ],
   "metadata": {
    "collapsed": false
   }
  },
  {
   "cell_type": "markdown",
   "source": [
    "## Optimization\n",
    "\n",
    "\n",
    "\n",
    "- selection of the best elements\n",
    "- from a set of available alternatives\n",
    "\n",
    "![image-20230801172230114](./assets/image-20230801172230114.png)"
   ],
   "metadata": {
    "collapsed": false
   }
  },
  {
   "cell_type": "markdown",
   "source": [
    "**The best solution**\n",
    "\n",
    "if we have many relationships\n",
    "\n",
    "![image-20230801172343701](./assets/image-20230801172343701.png)"
   ],
   "metadata": {
    "collapsed": false
   }
  },
  {
   "cell_type": "markdown",
   "source": [
    "### Steps for Formulating and Optimization Model\n",
    "\n",
    "1. Obtain Data\n",
    "2. Define the decision variables\n",
    "3. Define the objective functions (in term of the decision variables)\n",
    "4. Write the constraints as equalities or inqualities\n",
    "------"
   ],
   "metadata": {
    "collapsed": false
   }
  },
  {
   "cell_type": "markdown",
   "source": [
    "### Characteristics of Linear Programming\n",
    "\n",
    "- Continuous- valued variables\n",
    "\n",
    "- No dependence between variables\n",
    "\n",
    "  - The contribution of each variable to the objective or constraints is independent of that from the other variables\n",
    "\n",
    "    > NO $x_1 \\cdot x_2$\n",
    "\n",
    "  - The contribution of each variable to the objective or constraints is directly proportional to the variable value\n",
    "\n",
    "    > No $x^n or \\, x^2  \\, x^3$\n",
    "\n",
    "- The model is deterministic\n",
    "\n",
    "- Not guarantee to get feasible solution"
   ],
   "metadata": {
    "collapsed": false
   }
  },
  {
   "cell_type": "markdown",
   "source": [
    "### Example\n",
    "\n",
    "In the custom-made shirt factory, shirt A and shirt B are produced.\n",
    "\n",
    "&emsp;Shirt type A\n",
    "\n",
    "&emsp;&emsp;requires 9 hrs of labor and 12 buttons\n",
    "\n",
    "&emsp;&emsp;the profit is 350 THB/unit\n",
    "\n",
    "&emsp;Shirt type B\n",
    "\n",
    "&emsp;&emsp;requires 6 hours and labor of 16 buttons\n",
    "\n",
    "&emsp;&emsp;the profit is 300 THB/unit\n",
    "\n",
    "There are 2880 buttons, 1566 hrs. of labor, and 200 cloths available in the factory\n",
    "\n",
    "How many type A and type B shirts that the manufacturer should produce?\n",
    "\n",
    "Try to write the related equations?\n"
   ],
   "metadata": {
    "collapsed": false
   }
  },
  {
   "cell_type": "markdown",
   "source": [
    "#### Step 1\n",
    "\n",
    "![image-20230801165028646](./assets/image-20230801165028646.png)\n",
    "\n",
    "#### Step 2\n",
    "\n",
    "![image-20230801165047841](./assets/image-20230801165047841.png)\n",
    "\n",
    "#### Step 3\n",
    "\n",
    "![image-20230801165103187](./assets/image-20230801165103187.png)\n",
    "\n",
    "#### Step 4\n",
    "\n",
    "![image-20230801165117222](./assets/image-20230801165117222.png)\n",
    "\n",
    "\n",
    "\n",
    "#### Step 5\n",
    "\n",
    "![image-20230801165132452](./assets/image-20230801165132452.png)\n",
    "\n",
    "#### Step 6\n",
    "\n",
    "![image-20230801165148808](./assets/image-20230801165148808.png)\n",
    "\n",
    "#### Step 7\n",
    "\n",
    "![image-20230801165204453](./assets/image-20230801165204453.png)\n",
    "\n",
    "#### Step 8\n",
    "\n",
    "![image-20230801165219675](./assets/image-20230801165219675.png)\n",
    "\n"
   ],
   "metadata": {
    "collapsed": false
   }
  },
  {
   "cell_type": "markdown",
   "source": [
    "## Using Python Linear Programming\n",
    "\n",
    "\n",
    "\n",
    "Using the pulp component\n",
    "\n",
    "the given work can be implement with this code\n",
    "\n",
    "```python\n",
    "from pulp import *\n",
    "# create the new problem\n",
    "prob = LpProblem(\"Cloth_Problem\",LpMaximize)\n",
    "# add the variable https://www.coin-or.org/PuLP/pulp.html\n",
    "x1 = LpVariable(\"Shirt A\",lowBound = 0,cat='Integer')\n",
    "x2 = LpVariable(\"Shirt B\",lowBound = 0,cat='Integer')\n",
    "# add the constraint\n",
    "c1 = x1 + x2 <= 200\n",
    "c2 = 9*x1+6*x2 <= 1566\n",
    "c3 = 12*x1 + 16*x2 <= 2880\n",
    "# Objective value\n",
    "obj = 350*x1 + 300*x2\n",
    "\n",
    "prob += obj, \"Maximum profit\"\n",
    "prob += c1, \"The amount of all shirt\"\n",
    "prob += c2, \"The labour amount\"\n",
    "prob += c3, \"The button amount\"\n",
    "\n",
    "prob.solve()\n",
    "\n",
    "print(\"Status:\" + LpStatus[prob.status])\n",
    "for v in prob.variables():\n",
    "    print (v.name, \"=\", v.varValue)\n",
    "for v in prob.constraints:\n",
    "    print (v)\n",
    "print (\"Total profit is\" , value(prob.objective))\n",
    "print (\"Total profit is\" , value(prob.objective))\n",
    "```\n",
    "\n",
    "**Note** you may not need to type the comments\n",
    "\n",
    "**Note** you may need to run the command `pip install pulp` to install the pacakge to the run time first.\n",
    "\n",
    "this is just one implementation of the solution"
   ],
   "metadata": {
    "collapsed": false
   }
  },
  {
   "cell_type": "code",
   "source": [
    "!pip install pulp"
   ],
   "metadata": {
    "collapsed": false,
    "ExecuteTime": {
     "end_time": "2024-09-07T16:29:23.682340Z",
     "start_time": "2024-09-07T16:29:19.281556Z"
    }
   },
   "outputs": [
    {
     "name": "stdout",
     "output_type": "stream",
     "text": [
      "Requirement already satisfied: pulp in /Users/hathaichanokp./Note/venv/lib/python3.12/site-packages (2.9.0)\r\n",
      "\r\n",
      "\u001B[1m[\u001B[0m\u001B[34;49mnotice\u001B[0m\u001B[1;39;49m]\u001B[0m\u001B[39;49m A new release of pip is available: \u001B[0m\u001B[31;49m23.2.1\u001B[0m\u001B[39;49m -> \u001B[0m\u001B[32;49m24.2\u001B[0m\r\n",
      "\u001B[1m[\u001B[0m\u001B[34;49mnotice\u001B[0m\u001B[1;39;49m]\u001B[0m\u001B[39;49m To update, run: \u001B[0m\u001B[32;49mpip install --upgrade pip\u001B[0m\r\n"
     ]
    }
   ],
   "execution_count": 6
  },
  {
   "cell_type": "code",
   "source": [
    "from pulp import *\n",
    "# create the new problem\n",
    "prob = LpProblem(\"Cloth_Problem\",LpMaximize)\n",
    "# add the variable https://www.coin-or.org/PuLP/pulp.html\n",
    "x1 = LpVariable(\"Shirt A\",lowBound = 0,cat='Integer')\n",
    "x2 = LpVariable(\"Shirt B\",lowBound = 0,cat='Integer')\n",
    "# add the constraint\n",
    "c1 = x1 + x2 <= 200\n",
    "c2 = 9*x1+6*x2 <= 1566\n",
    "c3 = 12*x1 + 16*x2 <= 2880\n",
    "# Objective value\n",
    "obj = 350*x1 + 300*x2\n",
    "\n",
    "prob += obj, \"Maximum profit\"\n",
    "prob += c1, \"The amount of all shirt\"\n",
    "prob += c2, \"The labour amount\"\n",
    "prob += c3, \"The button amount\"\n",
    "\n",
    "prob.solve()\n",
    "\n",
    "print(\"Status:\" + LpStatus[prob.status])\n",
    "for v in prob.variables():\n",
    "    print (v.name, \"=\", v.varValue)\n",
    "for v in prob.constraints:\n",
    "    print (v)\n",
    "print (\"Total profit is\" , value(prob.objective))\n",
    "print (\"Total profit is\" , value(prob.objective))"
   ],
   "metadata": {
    "collapsed": false,
    "ExecuteTime": {
     "end_time": "2024-09-07T16:29:27.687204Z",
     "start_time": "2024-09-07T16:29:26.909213Z"
    }
   },
   "outputs": [
    {
     "name": "stdout",
     "output_type": "stream",
     "text": [
      "Welcome to the CBC MILP Solver \n",
      "Version: 2.10.3 \n",
      "Build Date: Dec 15 2019 \n",
      "\n",
      "command line - /Users/hathaichanokp./Note/venv/lib/python3.12/site-packages/pulp/solverdir/cbc/osx/64/cbc /var/folders/q2/n7kvrhfn6pl7tqqhzw_fjwn40000gn/T/bef579098e154f7baaa43a19ae99feaf-pulp.mps -max -timeMode elapsed -branch -printingOptions all -solution /var/folders/q2/n7kvrhfn6pl7tqqhzw_fjwn40000gn/T/bef579098e154f7baaa43a19ae99feaf-pulp.sol (default strategy 1)\n",
      "At line 2 NAME          MODEL\n",
      "At line 3 ROWS\n",
      "At line 8 COLUMNS\n",
      "At line 21 RHS\n",
      "At line 25 BOUNDS\n",
      "At line 28 ENDATA\n",
      "Problem MODEL has 3 rows, 2 columns and 6 elements\n",
      "Coin0008I MODEL read with 0 errors\n",
      "Option for timeMode changed from cpu to elapsed\n",
      "Continuous objective value is 66100 - 0.00 seconds\n",
      "Cgl0004I processed model has 3 rows, 2 columns (2 integer (0 of which binary)) and 6 elements\n",
      "Cutoff increment increased from 1e-05 to 49.9999\n",
      "Cbc0012I Integer solution of -66100 found by DiveCoefficient after 0 iterations and 0 nodes (0.00 seconds)\n",
      "Cbc0001I Search completed - best objective -66100, took 0 iterations and 0 nodes (0.00 seconds)\n",
      "Cbc0035I Maximum depth 0, 0 variables fixed on reduced cost\n",
      "Cuts at root node changed objective from -66100 to -66100\n",
      "Probing was tried 0 times and created 0 cuts of which 0 were active after adding rounds of cuts (0.000 seconds)\n",
      "Gomory was tried 0 times and created 0 cuts of which 0 were active after adding rounds of cuts (0.000 seconds)\n",
      "Knapsack was tried 0 times and created 0 cuts of which 0 were active after adding rounds of cuts (0.000 seconds)\n",
      "Clique was tried 0 times and created 0 cuts of which 0 were active after adding rounds of cuts (0.000 seconds)\n",
      "MixedIntegerRounding2 was tried 0 times and created 0 cuts of which 0 were active after adding rounds of cuts (0.000 seconds)\n",
      "FlowCover was tried 0 times and created 0 cuts of which 0 were active after adding rounds of cuts (0.000 seconds)\n",
      "TwoMirCuts was tried 0 times and created 0 cuts of which 0 were active after adding rounds of cuts (0.000 seconds)\n",
      "ZeroHalf was tried 0 times and created 0 cuts of which 0 were active after adding rounds of cuts (0.000 seconds)\n",
      "\n",
      "Result - Optimal solution found\n",
      "\n",
      "Objective value:                66100.00000000\n",
      "Enumerated nodes:               0\n",
      "Total iterations:               0\n",
      "Time (CPU seconds):             0.00\n",
      "Time (Wallclock seconds):       0.00\n",
      "\n",
      "Option for printingOptions changed from normal to all\n",
      "Total time (CPU seconds):       0.00   (Wallclock seconds):       0.00\n",
      "\n",
      "Status:Optimal\n",
      "Shirt_A = 122.0\n",
      "Shirt_B = 78.0\n",
      "The_amount_of_all_shirt\n",
      "The_labour_amount\n",
      "The_button_amount\n",
      "Total profit is 66100.0\n",
      "Total profit is 66100.0\n"
     ]
    }
   ],
   "execution_count": 7
  },
  {
   "cell_type": "markdown",
   "source": [
    "### Task\n",
    "\n",
    "**The Ice-cream shop**\n",
    "\n",
    "Assume you open your ice cream shop, there are only two types of ice cream, vanilla and strawberry. When a box of ice cream is sold, you will get the benefit for $2 for vanilla ice cream and $3 for strawberry ice cream. To make the ice cream, the fresh milk is required. To make a box of vanilla ice cream requires 0.5 liter and strawberry ice cream requires 0.2 liter. You daily order 10 liters of fresh milk. To promote your ice cream shop, you give a doll for each ice cream box. The number of dolls, that you can give to customers, is 30 dolls per day.\n",
    "\n",
    "So, how many boxes of vanilla ice cream and strawberry ice cream that you would like to produce to get maximum profit ?\n",
    "\n"
   ],
   "metadata": {
    "collapsed": false
   }
  },
  {
   "cell_type": "code",
   "source": [
    "from pulp import *\n",
    "prob = LpProblem(\"ICECREAMPROBLEM\",LpMaximize)\n",
    "x1 = LpVariable(\"Vanilla\",lowBound = 0,cat='Integer')\n",
    "x2 = LpVariable(\"Strawberry\",lowBound = 0,cat='Integer')\n",
    "# add the constraint\n",
    "c1 = 0.5*x1 + 0.2*x2 <= 10\n",
    "c2 = x1+x2 <= 30\n",
    "# Objective value\n",
    "obj = 2*x1 + 3*x2\n",
    "\n",
    "prob += obj, \"Maximum profit\"\n",
    "prob += c1, \"The freshmilk order\"\n",
    "prob += c2, \"The dolls\"\n",
    "\n",
    "prob.solve()\n",
    "\n",
    "print(\"Status:\" + LpStatus[prob.status])\n",
    "for v in prob.variables():\n",
    "    print (v.name, \"=\", v.varValue)\n",
    "for v in prob.constraints:\n",
    "    print (v)\n",
    "print (\"Total profit is\" , value(prob.objective))\n",
    "print (\"Total profit is\" , value(prob.objective))"
   ],
   "metadata": {
    "collapsed": false,
    "ExecuteTime": {
     "end_time": "2024-09-07T16:35:29.622061Z",
     "start_time": "2024-09-07T16:35:29.364325Z"
    }
   },
   "outputs": [
    {
     "name": "stdout",
     "output_type": "stream",
     "text": [
      "Welcome to the CBC MILP Solver \n",
      "Version: 2.10.3 \n",
      "Build Date: Dec 15 2019 \n",
      "\n",
      "command line - /Users/hathaichanokp./Note/venv/lib/python3.12/site-packages/pulp/solverdir/cbc/osx/64/cbc /var/folders/q2/n7kvrhfn6pl7tqqhzw_fjwn40000gn/T/08914f1d44a5437e9aa32a81ad5d9a31-pulp.mps -max -timeMode elapsed -branch -printingOptions all -solution /var/folders/q2/n7kvrhfn6pl7tqqhzw_fjwn40000gn/T/08914f1d44a5437e9aa32a81ad5d9a31-pulp.sol (default strategy 1)\n",
      "At line 2 NAME          MODEL\n",
      "At line 3 ROWS\n",
      "At line 7 COLUMNS\n",
      "At line 18 RHS\n",
      "At line 21 BOUNDS\n",
      "At line 24 ENDATA\n",
      "Problem MODEL has 2 rows, 2 columns and 4 elements\n",
      "Coin0008I MODEL read with 0 errors\n",
      "Option for timeMode changed from cpu to elapsed\n",
      "Continuous objective value is 90 - 0.00 seconds\n",
      "Cgl0004I processed model has 2 rows, 2 columns (2 integer (0 of which binary)) and 4 elements\n",
      "Cutoff increment increased from 1e-05 to 0.9999\n",
      "Cbc0012I Integer solution of -90 found by DiveCoefficient after 0 iterations and 0 nodes (0.05 seconds)\n",
      "Cbc0001I Search completed - best objective -90, took 0 iterations and 0 nodes (0.05 seconds)\n",
      "Cbc0035I Maximum depth 0, 0 variables fixed on reduced cost\n",
      "Cuts at root node changed objective from -90 to -90\n",
      "Probing was tried 0 times and created 0 cuts of which 0 were active after adding rounds of cuts (0.000 seconds)\n",
      "Gomory was tried 0 times and created 0 cuts of which 0 were active after adding rounds of cuts (0.000 seconds)\n",
      "Knapsack was tried 0 times and created 0 cuts of which 0 were active after adding rounds of cuts (0.000 seconds)\n",
      "Clique was tried 0 times and created 0 cuts of which 0 were active after adding rounds of cuts (0.000 seconds)\n",
      "MixedIntegerRounding2 was tried 0 times and created 0 cuts of which 0 were active after adding rounds of cuts (0.000 seconds)\n",
      "FlowCover was tried 0 times and created 0 cuts of which 0 were active after adding rounds of cuts (0.000 seconds)\n",
      "TwoMirCuts was tried 0 times and created 0 cuts of which 0 were active after adding rounds of cuts (0.000 seconds)\n",
      "ZeroHalf was tried 0 times and created 0 cuts of which 0 were active after adding rounds of cuts (0.000 seconds)\n",
      "\n",
      "Result - Optimal solution found\n",
      "\n",
      "Objective value:                90.00000000\n",
      "Enumerated nodes:               0\n",
      "Total iterations:               0\n",
      "Time (CPU seconds):             0.00\n",
      "Time (Wallclock seconds):       0.05\n",
      "\n",
      "Option for printingOptions changed from normal to all\n",
      "Total time (CPU seconds):       0.00   (Wallclock seconds):       0.11\n",
      "\n",
      "Status:Optimal\n",
      "Strawberry = 30.0\n",
      "Vanilla = 0.0\n",
      "The_freshmilk_order\n",
      "The_dolls\n",
      "Total profit is 90.0\n",
      "Total profit is 90.0\n"
     ]
    }
   ],
   "execution_count": 8
  },
  {
   "cell_type": "markdown",
   "source": [
    "### Portfolio Selection\n",
    "\n",
    "Maximize the return rate\n",
    "\n",
    "with the given portfolio\n",
    "\n",
    "![image-20230801165530908](./assets/image-20230801165530908.png)\n",
    "\n",
    "With these policies\n",
    "\n",
    "- Total amount= €90000\n",
    "- Amount in shares of a sector no larger than50% of total available\n",
    "- Amount in shares with the larger return of a sector less or equal to 80% of sector’s total amount\n",
    "- Amount in manufacturing company Β less or equal to 10% of the whole share amount\n",
    "- Amount in mutual funds less or equal to 25% of the amount in manufacturing shares"
   ],
   "metadata": {
    "collapsed": false
   }
  },
  {
   "cell_type": "markdown",
   "source": [],
   "metadata": {
    "collapsed": false
   }
  },
  {
   "metadata": {},
   "cell_type": "code",
   "outputs": [],
   "execution_count": null,
   "source": ""
  }
 ],
 "metadata": {
  "kernelspec": {
   "display_name": "Python 3",
   "language": "python",
   "name": "python3"
  },
  "language_info": {
   "codemirror_mode": {
    "name": "ipython",
    "version": 2
   },
   "file_extension": ".py",
   "mimetype": "text/x-python",
   "name": "python",
   "nbconvert_exporter": "python",
   "pygments_lexer": "ipython2",
   "version": "2.7.6"
  }
 },
 "nbformat": 4,
 "nbformat_minor": 0
}
