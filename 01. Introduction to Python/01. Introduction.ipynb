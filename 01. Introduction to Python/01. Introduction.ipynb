{
 "cells": [
  {
   "cell_type": "markdown",
   "metadata": {
    "ExecuteTime": {
     "end_time": "2023-06-30T16:08:43.551069800Z",
     "start_time": "2023-06-30T16:08:43.542864900Z"
    },
    "slideshow": {
     "slide_type": "slide"
    }
   },
   "source": [
    "# Introduction to Python\n",
    "\n",
    "## Python Example\n",
    "\n",
    "Try to type the following source code\n",
    "\n",
    "Start providing dependency in the console\n",
    "\n",
    "\n",
    "```python\n",
    "pip install opencv-python==4.7.0.72\n",
    "```\n",
    "\n",
    "```python\n",
    "pip install -q mediapipe==0.10.1\n",
    "```\n",
    "\n"
   ]
  },
  {
   "cell_type": "markdown",
   "metadata": {
    "ExecuteTime": {
     "end_time": "2023-06-30T16:01:30.474442200Z",
     "start_time": "2023-06-30T16:01:30.467494100Z"
    },
    "slideshow": {
     "slide_type": "slide"
    }
   },
   "source": [
    "Create a new Python file with any name, then type the following source code.\n",
    "\n",
    "```python\n",
    "# STEP 1: Import libraries and set the initial value for a variable.\n",
    "import numpy as np\n",
    "import mediapipe as mp\n",
    "import cv2\n",
    "import os\n",
    "print(os.getcwd())\n",
    "\n",
    "MARGIN = 10  # pixels\n",
    "ROW_SIZE = 10  # pixels\n",
    "FONT_SIZE = 1\n",
    "FONT_THICKNESS = 1\n",
    "TEXT_COLOR = (255, 0, 0)  # red\n",
    "\n",
    "def visualize(\n",
    "    image,\n",
    "    detection_result\n",
    ") -> np.ndarray:\n",
    "  \"\"\"Draws bounding boxes on the input image and return it.\n",
    "  Args:\n",
    "    image: The input RGB image.\n",
    "    detection_result: The list of all \"Detection\" entities to be visualize.\n",
    "  Returns:\n",
    "    Image with bounding boxes.\n",
    "  \"\"\"\n",
    "  for detection in detection_result.detections:\n",
    "    # Draw bounding_box\n",
    "    bbox = detection.bounding_box\n",
    "    start_point = bbox.origin_x, bbox.origin_y\n",
    "    end_point = bbox.origin_x + bbox.width, bbox.origin_y + bbox.height\n",
    "    cv2.rectangle(image, start_point, end_point, TEXT_COLOR, 3)\n",
    "\n",
    "    # Draw label and score\n",
    "    category = detection.categories[0]\n",
    "    category_name = category.category_name\n",
    "    probability = round(category.score, 2)\n",
    "    result_text = category_name + ' (' + str(probability) + ')'\n",
    "    text_location = (MARGIN + bbox.origin_x,\n",
    "                     MARGIN + ROW_SIZE + bbox.origin_y)\n",
    "    cv2.putText(image, result_text, text_location, cv2.FONT_HERSHEY_PLAIN,\n",
    "                FONT_SIZE, TEXT_COLOR, FONT_THICKNESS)\n",
    "\n",
    "  return image\n",
    "\n",
    "import numpy as np\n",
    "from mediapipe.tasks import python\n",
    "from mediapipe.tasks.python import vision\n",
    "\n",
    "# STEP 2: Create an ObjectDetector object.\n",
    "base_options = python.BaseOptions(model_asset_path='efficientdet.tflite')\n",
    "options = vision.ObjectDetectorOptions(base_options=base_options,\n",
    "                                       score_threshold=0.5)\n",
    "detector = vision.ObjectDetector.create_from_options(options)\n",
    "\n",
    "# STEP 3: Load the input image.\n",
    "webcam = cv2.VideoCapture(0)\n",
    "image = webcam.read()\n",
    "mp_hands = mp.solutions.hands\n",
    "hands = mp_hands.Hands()\n",
    "mp_draw = mp.solutions.drawing_utils\n",
    "while True:\n",
    "    success, image = webcam.read()\n",
    "    image_rgb = cv2.cvtColor(image,cv2.COLOR_BGR2RGB)\n",
    "    image = mp.Image(image_format=mp.ImageFormat.SRGB, data=image_rgb)\n",
    "\n",
    "    # STEP 4: Detect objects in the input image.\n",
    "    detection_result = detector.detect(image)\n",
    "\n",
    "    # STEP 5: Process the detection result. In this case, visualize it.\n",
    "    image_copy = np.copy(image.numpy_view())\n",
    "    annotated_image = visualize(image_copy, detection_result)\n",
    "    rgb_annotated_image = cv2.cvtColor(annotated_image, cv2.COLOR_BGR2RGB)\n",
    "\n",
    "    cv2.imshow(\"Image\",rgb_annotated_image)\n",
    "    k =cv2.waitKey(1)\n",
    "    if k == 27:\n",
    "        break\n",
    "\n",
    "cv2.destroyAllWindows()\n",
    "```\n",
    "\n"
   ]
  },
  {
   "cell_type": "markdown",
   "metadata": {
    "ExecuteTime": {
     "end_time": "2023-06-30T16:06:15.426784Z",
     "start_time": "2023-06-30T16:06:11.234550900Z"
    },
    "slideshow": {
     "slide_type": "subslide"
    }
   },
   "source": [
    "Copy the <a href=\"./assets/efficientdet_metadata.tflite\" download>metadata file</a> and place it in the exact location with your file.\n",
    "\n",
    "Then click run the file, then we can try the result.\n",
    "\n",
    "![image-20230630065141896](./assets/image-20230630065141896.png)"
   ]
  },
  {
   "cell_type": "markdown",
   "metadata": {
    "slideshow": {
     "slide_type": "slide"
    }
   },
   "source": [
    "## Virtual Environment\n",
    "\n",
    "### What is a Virtual Environment\n",
    "\n",
    "\n",
    "\n",
    "- Each Python project requires different dependency\n",
    "  - The package someone has created\n",
    "  - Different version \n",
    "- Different configuration\n",
    "\n",
    "- `pip` is to set up the components for environments"
   ]
  },
  {
   "cell_type": "markdown",
   "metadata": {
    "slideshow": {
     "slide_type": "fragment"
    }
   },
   "source": [
    "- Without Environment\n",
    "  - Dependency must be loaded every time we used\n",
    "  - Hard to move to other computer\n",
    "- With Environment\n",
    "  - components do not need to install every time\n",
    "    - just only the first time\n",
    "  - `pip freeze` to see what we have in our environments\n",
    "  - using `requirement.txt` for migration"
   ]
  },
  {
   "cell_type": "markdown",
   "metadata": {
    "slideshow": {
     "slide_type": "slide"
    }
   },
   "source": [
    "### How to Create a Virtual Environment\n",
    "\n",
    "- using ide\n",
    "\n",
    "  - create the `venv` folder\n",
    "\n",
    "    ![image-20230630071634886](./assets/image-20230630071634886.png)\n",
    "\n",
    "  - other tools can be used as well\n",
    "\n",
    "  - System interpreter means all projects in your computer without a virtual environment will use the same dependencies\n"
   ]
  },
  {
   "cell_type": "markdown",
   "metadata": {
    "slideshow": {
     "slide_type": "subslide"
    }
   },
   "source": [
    "Using command line\n",
    "\n",
    "- `python -m venv /path/to/new/virtual/environment` to create a virtual environment\n",
    "\n",
    "- one project can have many environments\n",
    "\n",
    "  - for more details, [click!!!](https://docs.python.org/3/library/venv.html)"
   ]
  },
  {
   "cell_type": "markdown",
   "metadata": {
    "slideshow": {
     "slide_type": "slide"
    }
   },
   "source": [
    "## IPython\n",
    "\n",
    "- Interactive Python\n",
    "\n",
    "- Python works as the interpreter\n",
    "  - read the code line by line\n",
    "  - execute line by line\n",
    "\n",
    "- try small code\n",
    "  - Good to try"
   ]
  },
  {
   "cell_type": "markdown",
   "metadata": {
    "slideshow": {
     "slide_type": "subslide"
    }
   },
   "source": [
    "### Task\n",
    "\n",
    "Try this code in the Python console\n",
    "\n",
    "```python\n",
    "i = 10\n",
    "name = 'this is a book'\n",
    "y = i + 12\n",
    "print(i,name,y)\n",
    "```\n",
    "\n",
    "Push enter after every line of code\n",
    "\n",
    "**Note** that using the shift enter to enter more than one line of code at the same time"
   ]
  },
  {
   "metadata": {
    "ExecuteTime": {
     "end_time": "2024-09-07T06:58:34.683009Z",
     "start_time": "2024-09-07T06:58:34.674609Z"
    }
   },
   "cell_type": "code",
   "source": [
    "i = 10\n",
    "name = 'this is a book'\n",
    "y = i + 12\n",
    "print(i,name,y)"
   ],
   "outputs": [
    {
     "name": "stdout",
     "output_type": "stream",
     "text": [
      "10 this is a book 22\n"
     ]
    }
   ],
   "execution_count": 1
  },
  {
   "cell_type": "markdown",
   "metadata": {
    "slideshow": {
     "slide_type": "slide"
    }
   },
   "source": [
    "## Jupyter Notebook\n",
    "\n",
    "- The tools for visualize the source code  and explain it\n",
    "\n",
    "- help for study, and also documents\n",
    "\n",
    "- Required Jupyter Server to be run in the system\n",
    "\n",
    "- Provide the web server to host the file, and also provide the virtual machine to  run the code"
   ]
  },
  {
   "cell_type": "markdown",
   "metadata": {
    "slideshow": {
     "slide_type": "subslide"
    }
   },
   "source": [
    "### Task\n",
    "\n",
    "Type this in the different cell\n",
    "\n",
    "```python\n",
    "i = 10\n",
    "name = 'this is a book'\n",
    "```\n"
   ]
  },
  {
   "cell_type": "code",
   "metadata": {
    "slideshow": {
     "slide_type": "-"
    },
    "ExecuteTime": {
     "end_time": "2024-09-07T06:58:54.326882Z",
     "start_time": "2024-09-07T06:58:54.314782Z"
    }
   },
   "source": [
    "i = 10\n",
    "name = 'this is a book'"
   ],
   "outputs": [],
   "execution_count": 2
  },
  {
   "cell_type": "markdown",
   "metadata": {
    "slideshow": {
     "slide_type": "fragment"
    }
   },
   "source": [
    "```python\n",
    "y = i + 12\n",
    "print(i,name,y)\n",
    "```\n"
   ]
  },
  {
   "cell_type": "code",
   "metadata": {
    "slideshow": {
     "slide_type": "-"
    },
    "ExecuteTime": {
     "end_time": "2024-09-07T06:59:07.934432Z",
     "start_time": "2024-09-07T06:59:07.926103Z"
    }
   },
   "source": [
    "y = i + 12\n",
    "print(i,name,y)"
   ],
   "outputs": [
    {
     "name": "stdout",
     "output_type": "stream",
     "text": [
      "10 this is a book 22\n"
     ]
    }
   ],
   "execution_count": 3
  },
  {
   "cell_type": "markdown",
   "metadata": {
    "slideshow": {
     "slide_type": "slide"
    }
   },
   "source": [
    "### markdown\n",
    "\n",
    "The markdown is the language we can use to write the explanation\n",
    "\n",
    "It is similar to the html (with different syntax)\n",
    "\n",
    "you may try to type this in the box."
   ]
  },
  {
   "cell_type": "markdown",
   "metadata": {
    "slideshow": {
     "slide_type": "subslide"
    }
   },
   "source": [
    "### Task\n",
    "\n",
    "> # This is a book\n",
    ">\n",
    "> ## Do not know what it is\n",
    ">\n",
    "> but we can trust any  one here or not?\n",
    "\n",
    "For more detail on you can check [here](https://www.markdownguide.org/) "
   ]
  },
  {
   "cell_type": "markdown",
   "metadata": {},
   "source": []
  },
  {
   "cell_type": "markdown",
   "metadata": {
    "slideshow": {
     "slide_type": "slide"
    }
   },
   "source": [
    "## Python\n",
    "\n",
    "![image-20230630062803274](./assets/image-20230630062803274.png)"
   ]
  },
  {
   "cell_type": "markdown",
   "metadata": {
    "slideshow": {
     "slide_type": "slide"
    }
   },
   "source": [
    "## Writing the code\n",
    "\n",
    "Now we try to write the code in Jupyter\n",
    "\n",
    "What happen when we type the first cell as \n",
    "\n",
    "```python\n",
    "'hello world'\n",
    "```\n",
    "\n"
   ]
  },
  {
   "cell_type": "code",
   "metadata": {
    "ExecuteTime": {
     "end_time": "2024-09-07T07:00:00.914744Z",
     "start_time": "2024-09-07T07:00:00.906540Z"
    }
   },
   "source": "'hello world'",
   "outputs": [
    {
     "data": {
      "text/plain": [
       "'hello world'"
      ]
     },
     "execution_count": 4,
     "metadata": {},
     "output_type": "execute_result"
    }
   ],
   "execution_count": 4
  },
  {
   "cell_type": "markdown",
   "metadata": {
    "slideshow": {
     "slide_type": "slide"
    }
   },
   "source": [
    "### Basic Calculation\n",
    "\n",
    "The basic usage of the computer programming is to calculate the value.\n",
    "\n",
    "Try to see what happen when you type\n",
    "\n",
    "```python\n",
    " 1 + 4 * 3\n",
    "```\n",
    "\n",
    "\n",
    "\n"
   ]
  },
  {
   "cell_type": "code",
   "metadata": {
    "ExecuteTime": {
     "end_time": "2024-09-07T07:00:10.528609Z",
     "start_time": "2024-09-07T07:00:10.523148Z"
    }
   },
   "source": "1 + 4 * 3",
   "outputs": [
    {
     "data": {
      "text/plain": [
       "13"
      ]
     },
     "execution_count": 5,
     "metadata": {},
     "output_type": "execute_result"
    }
   ],
   "execution_count": 5
  },
  {
   "cell_type": "markdown",
   "metadata": {
    "slideshow": {
     "slide_type": "fragment"
    }
   },
   "source": [
    "```python\n",
    "42\n",
    "```"
   ]
  },
  {
   "cell_type": "code",
   "metadata": {
    "ExecuteTime": {
     "end_time": "2024-09-07T07:00:24.371073Z",
     "start_time": "2024-09-07T07:00:24.365563Z"
    }
   },
   "source": "42",
   "outputs": [
    {
     "data": {
      "text/plain": [
       "42"
      ]
     },
     "execution_count": 6,
     "metadata": {},
     "output_type": "execute_result"
    }
   ],
   "execution_count": 6
  },
  {
   "cell_type": "markdown",
   "metadata": {
    "slideshow": {
     "slide_type": "slide"
    }
   },
   "source": [
    "#### The Arithmetic operator\n",
    "\n",
    "```python\n",
    "+ - * /\t\taddition, subtraction/negation, multiplication, division\n",
    "% \t\t\tmodulus, a.k.a. remainder\n",
    "**\t \t\texponentiation\n",
    "```\n",
    "Try\n",
    "\n",
    "```python\n",
    "5 % 2\n",
    "```\n"
   ]
  },
  {
   "cell_type": "code",
   "metadata": {
    "ExecuteTime": {
     "end_time": "2024-09-07T07:00:31.753573Z",
     "start_time": "2024-09-07T07:00:31.747557Z"
    }
   },
   "source": "5%2",
   "outputs": [
    {
     "data": {
      "text/plain": [
       "1"
      ]
     },
     "execution_count": 7,
     "metadata": {},
     "output_type": "execute_result"
    }
   ],
   "execution_count": 7
  },
  {
   "cell_type": "markdown",
   "metadata": {
    "slideshow": {
     "slide_type": "fragment"
    }
   },
   "source": [
    "```python\n",
    "2**4\n",
    "```\n"
   ]
  },
  {
   "metadata": {
    "ExecuteTime": {
     "end_time": "2024-09-07T07:03:53.279858Z",
     "start_time": "2024-09-07T07:03:53.256874Z"
    }
   },
   "cell_type": "code",
   "source": "2**4",
   "outputs": [
    {
     "data": {
      "text/plain": [
       "16"
      ]
     },
     "execution_count": 8,
     "metadata": {},
     "output_type": "execute_result"
    }
   ],
   "execution_count": 8
  },
  {
   "cell_type": "markdown",
   "metadata": {
    "slideshow": {
     "slide_type": "slide"
    }
   },
   "source": [
    "#### Order of computation\n",
    "\n",
    "What is the result of \n",
    "\n",
    "```python\n",
    " 1 + 3 * 4 = ?\n",
    "```\n",
    "\n",
    "\n"
   ]
  },
  {
   "cell_type": "markdown",
   "metadata": {
    "slideshow": {
     "slide_type": "fragment"
    }
   },
   "source": [
    "and \n",
    "\n",
    "```python\n",
    " (1 + 3) * 4 = ?\n",
    "```\n"
   ]
  },
  {
   "metadata": {
    "ExecuteTime": {
     "end_time": "2024-09-07T07:04:36.803654Z",
     "start_time": "2024-09-07T07:04:36.792941Z"
    }
   },
   "cell_type": "code",
   "source": "(1 + 3) * 4",
   "outputs": [
    {
     "data": {
      "text/plain": [
       "16"
      ]
     },
     "execution_count": 11,
     "metadata": {},
     "output_type": "execute_result"
    }
   ],
   "execution_count": 11
  },
  {
   "cell_type": "markdown",
   "metadata": {
    "slideshow": {
     "slide_type": "fragment"
    }
   },
   "source": [
    "\n",
    "**Why?**\n",
    "Try to write the code"
   ]
  },
  {
   "cell_type": "code",
   "metadata": {
    "ExecuteTime": {
     "end_time": "2024-09-07T07:04:23.410193Z",
     "start_time": "2024-09-07T07:04:23.403166Z"
    }
   },
   "source": "1 + 3 * 4",
   "outputs": [
    {
     "data": {
      "text/plain": [
       "13"
      ]
     },
     "execution_count": 10,
     "metadata": {},
     "output_type": "execute_result"
    }
   ],
   "execution_count": 10
  },
  {
   "cell_type": "markdown",
   "metadata": {
    "slideshow": {
     "slide_type": "slide"
    }
   },
   "source": [
    "##### The precedence order\n",
    "\n",
    "| Operators                                                    | Meaning                                           |\n",
    "| :----------------------------------------------------------- | :------------------------------------------------ |\n",
    "| `()`                                                         | Parentheses                                       |\n",
    "| `**`                                                         | Exponent                                          |\n",
    "| `+x`, `-x`, `~x`                                             | Unary plus, Unary minus, Bitwise NOT              |\n",
    "| `*`, `/`, `//`, `%`                                          | Multiplication, Division, Floor division, Modulus |\n",
    "| `+`, `-`                                                     | Addition, Subtraction                             |\n",
    "| `<<`, `>>`                                                   | Bitwise shift operators                           |\n",
    "| `&`                                                          | Bitwise AND                                       |\n",
    "| `^`                                                          | Bitwise XOR                                       |\n",
    "| `|`                                                          | Bitwise OR                                        |\n",
    "| `==`, `!=`, `>`, `>=`, `<`, `<=`, `is`, `is not`, `in`, `not in` | Comparisons, Identity, Membership operators       |\n",
    "| `not`                                                        | Logical NOT                                       |\n",
    "| `and`                                                        | Logical AND                                       |\n",
    "| `or`                                                         | Logical OR                                        |"
   ]
  },
  {
   "cell_type": "markdown",
   "metadata": {
    "slideshow": {
     "slide_type": "slide"
    }
   },
   "source": [
    "#### Task\n",
    "\n",
    "Try to calculate this by hand as group first.\n",
    "\n",
    "`5 + 6 * 7 / 8`"
   ]
  },
  {
   "cell_type": "code",
   "metadata": {
    "ExecuteTime": {
     "end_time": "2024-09-07T07:04:53.460652Z",
     "start_time": "2024-09-07T07:04:53.443531Z"
    }
   },
   "source": "5 + 6 * 7 / 8",
   "outputs": [
    {
     "data": {
      "text/plain": [
       "10.25"
      ]
     },
     "execution_count": 12,
     "metadata": {},
     "output_type": "execute_result"
    }
   ],
   "execution_count": 12
  },
  {
   "cell_type": "markdown",
   "metadata": {
    "slideshow": {
     "slide_type": "fragment"
    }
   },
   "source": [
    "```python\n",
    "7/3*1.2+3/2\n",
    "```\n"
   ]
  },
  {
   "cell_type": "code",
   "metadata": {
    "ExecuteTime": {
     "end_time": "2024-09-07T07:05:03.949723Z",
     "start_time": "2024-09-07T07:05:03.936933Z"
    }
   },
   "source": "7/3*1.2+3/2",
   "outputs": [
    {
     "data": {
      "text/plain": [
       "4.300000000000001"
      ]
     },
     "execution_count": 13,
     "metadata": {},
     "output_type": "execute_result"
    }
   ],
   "execution_count": 13
  },
  {
   "cell_type": "markdown",
   "metadata": {
    "slideshow": {
     "slide_type": "slide"
    }
   },
   "source": [
    "### Real Number and Integer Number\n",
    "\n",
    "* Python can also manipulate real numbers.\n",
    "\n",
    "  * Examples: 6.022\t-15.9997\t42.0\t2.143e17\n",
    "\n"
   ]
  },
  {
   "cell_type": "markdown",
   "metadata": {
    "slideshow": {
     "slide_type": "fragment"
    }
   },
   "source": [
    "* The operators + - * / % **  ( ) all work for real numbers.\n",
    "  * The / produces an exact answer: `15.0 / 2.0` is 7.5\n",
    "  * The same rules of precedence also apply to real numbers:\n",
    "    Evaluate  ( )  before  * / %  before  + -\n",
    "\n"
   ]
  },
  {
   "cell_type": "markdown",
   "metadata": {
    "slideshow": {
     "slide_type": "fragment"
    }
   },
   "source": [
    "* When integers and reals are mixed, the result is a real number.\n",
    "  * Example:  `1 / 2.0`  is  0.5\n",
    "  * The conversion occurs on a per-operator basis.\n",
    "\n",
    "\n"
   ]
  },
  {
   "cell_type": "markdown",
   "metadata": {
    "slideshow": {
     "slide_type": "fragment"
    }
   },
   "source": [
    " **Note that Python 2 and Python 3 are not the same!**"
   ]
  },
  {
   "cell_type": "markdown",
   "metadata": {
    "slideshow": {
     "slide_type": "slide"
    }
   },
   "source": [
    "#### Task\n",
    "\n",
    "Now try\n",
    "\n",
    "```python\n",
    "1/2.0\n",
    "```\n",
    "\n",
    "\n",
    "\n"
   ]
  },
  {
   "cell_type": "code",
   "metadata": {
    "ExecuteTime": {
     "end_time": "2024-09-07T07:05:20.581010Z",
     "start_time": "2024-09-07T07:05:20.573653Z"
    }
   },
   "source": "1/2.0",
   "outputs": [
    {
     "data": {
      "text/plain": [
       "0.5"
      ]
     },
     "execution_count": 14,
     "metadata": {},
     "output_type": "execute_result"
    }
   ],
   "execution_count": 14
  },
  {
   "cell_type": "markdown",
   "metadata": {
    "slideshow": {
     "slide_type": "fragment"
    }
   },
   "source": [
    "```python\n",
    "1/2\n",
    "```"
   ]
  },
  {
   "cell_type": "code",
   "metadata": {
    "ExecuteTime": {
     "end_time": "2024-09-07T07:05:23.535304Z",
     "start_time": "2024-09-07T07:05:23.527245Z"
    }
   },
   "source": "1/2",
   "outputs": [
    {
     "data": {
      "text/plain": [
       "0.5"
      ]
     },
     "execution_count": 15,
     "metadata": {},
     "output_type": "execute_result"
    }
   ],
   "execution_count": 15
  },
  {
   "cell_type": "markdown",
   "metadata": {
    "slideshow": {
     "slide_type": "slide"
    }
   },
   "source": [
    "### Variable\n",
    "\n",
    "A name of a piece of memory that can store a value.\n",
    "\n",
    "* Compute and expression result\n",
    "* Store that result in a variable\n",
    "* Use the value later in the program"
   ]
  },
  {
   "cell_type": "markdown",
   "metadata": {
    "slideshow": {
     "slide_type": "slide"
    }
   },
   "source": [
    "#### Assignment Statement\n",
    "\n",
    "```python\n",
    "name = value\n",
    "```\n",
    "\n",
    "![image-20230630225106493](./assets/image-20230630225106493.png)"
   ]
  },
  {
   "cell_type": "markdown",
   "metadata": {
    "slideshow": {
     "slide_type": "slide"
    }
   },
   "source": [
    "Try in your computer\n",
    "\n",
    "```python\n",
    "x=5\n",
    "gpa = 3.14\n",
    "```"
   ]
  },
  {
   "cell_type": "code",
   "metadata": {
    "ExecuteTime": {
     "end_time": "2024-09-07T07:05:51.747070Z",
     "start_time": "2024-09-07T07:05:51.743369Z"
    }
   },
   "source": [
    "x = 5\n",
    "gpa = 3.14"
   ],
   "outputs": [],
   "execution_count": 17
  },
  {
   "cell_type": "markdown",
   "metadata": {
    "slideshow": {
     "slide_type": "fragment"
    }
   },
   "source": [
    "```python\n",
    "x\n",
    "```"
   ]
  },
  {
   "cell_type": "code",
   "metadata": {
    "ExecuteTime": {
     "end_time": "2024-09-07T07:05:57.588545Z",
     "start_time": "2024-09-07T07:05:57.578712Z"
    }
   },
   "source": "x",
   "outputs": [
    {
     "data": {
      "text/plain": [
       "5"
      ]
     },
     "execution_count": 18,
     "metadata": {},
     "output_type": "execute_result"
    }
   ],
   "execution_count": 18
  },
  {
   "cell_type": "markdown",
   "metadata": {
    "slideshow": {
     "slide_type": "fragment"
    }
   },
   "source": [
    "```python\n",
    "x = 9\n",
    "```"
   ]
  },
  {
   "cell_type": "code",
   "metadata": {
    "ExecuteTime": {
     "end_time": "2024-09-07T07:06:01.408195Z",
     "start_time": "2024-09-07T07:06:01.403853Z"
    }
   },
   "source": "x = 9",
   "outputs": [],
   "execution_count": 19
  },
  {
   "cell_type": "markdown",
   "metadata": {
    "slideshow": {
     "slide_type": "fragment"
    }
   },
   "source": [
    "y"
   ]
  },
  {
   "cell_type": "code",
   "metadata": {
    "slideshow": {
     "slide_type": "-"
    },
    "ExecuteTime": {
     "end_time": "2024-09-07T07:06:04.142321Z",
     "start_time": "2024-09-07T07:06:04.136416Z"
    }
   },
   "source": "y",
   "outputs": [
    {
     "data": {
      "text/plain": [
       "22"
      ]
     },
     "execution_count": 20,
     "metadata": {},
     "output_type": "execute_result"
    }
   ],
   "execution_count": 20
  },
  {
   "cell_type": "markdown",
   "metadata": {
    "slideshow": {
     "slide_type": "slide"
    }
   },
   "source": [
    "A variable that has been given a value can be used in expressions.\n",
    "\n",
    "```python\n",
    "  x + 4 = ?\n",
    "```\n"
   ]
  },
  {
   "cell_type": "code",
   "metadata": {
    "ExecuteTime": {
     "end_time": "2024-09-07T07:06:17.116263Z",
     "start_time": "2024-09-07T07:06:17.107132Z"
    }
   },
   "source": "x + 4",
   "outputs": [
    {
     "data": {
      "text/plain": [
       "13"
      ]
     },
     "execution_count": 21,
     "metadata": {},
     "output_type": "execute_result"
    }
   ],
   "execution_count": 21
  },
  {
   "cell_type": "markdown",
   "metadata": {
    "slideshow": {
     "slide_type": "slide"
    }
   },
   "source": [
    "### Task 1\n",
    "\n",
    "Create variable name\n",
    "\n",
    "- assign any value to it\n",
    "- run the statement"
   ]
  },
  {
   "cell_type": "code",
   "metadata": {
    "ExecuteTime": {
     "end_time": "2024-09-07T07:09:51.908726Z",
     "start_time": "2024-09-07T07:09:51.905244Z"
    }
   },
   "source": [
    "university_name = 'chiang mai university'\n",
    "print(university_name)"
   ],
   "outputs": [
    {
     "name": "stdout",
     "output_type": "stream",
     "text": [
      "chiang mai university\n"
     ]
    }
   ],
   "execution_count": 26
  },
  {
   "cell_type": "markdown",
   "metadata": {
    "slideshow": {
     "slide_type": "subslide"
    }
   },
   "source": [
    "### Task 2\n",
    "\n",
    "Write only a variable name you have declared and run it"
   ]
  },
  {
   "cell_type": "code",
   "metadata": {
    "ExecuteTime": {
     "end_time": "2024-09-07T07:10:30.449608Z",
     "start_time": "2024-09-07T07:10:30.442287Z"
    }
   },
   "source": "university_name",
   "outputs": [
    {
     "data": {
      "text/plain": [
       "'chiang mai university'"
      ]
     },
     "execution_count": 27,
     "metadata": {},
     "output_type": "execute_result"
    }
   ],
   "execution_count": 27
  },
  {
   "cell_type": "markdown",
   "metadata": {
    "slideshow": {
     "slide_type": "subslide"
    }
   },
   "source": [
    "### Task 3\n",
    "\n",
    "Given a linear equation\n",
    "\n",
    "```\n",
    "Y = aX + b\n",
    "```\n",
    "\n",
    "when a,b,X are variables. which you can define in one piece of code\n",
    "\n",
    "**Find Y**"
   ]
  },
  {
   "cell_type": "code",
   "metadata": {
    "ExecuteTime": {
     "end_time": "2024-09-07T07:11:22.600294Z",
     "start_time": "2024-09-07T07:11:22.595609Z"
    }
   },
   "source": [
    "a = 1\n",
    "b = 3\n",
    "X = 4"
   ],
   "outputs": [],
   "execution_count": 31
  },
  {
   "metadata": {
    "ExecuteTime": {
     "end_time": "2024-09-07T07:11:39.962568Z",
     "start_time": "2024-09-07T07:11:39.954609Z"
    }
   },
   "cell_type": "code",
   "source": [
    "Y = a * X + b\n",
    "print(Y)"
   ],
   "outputs": [
    {
     "name": "stdout",
     "output_type": "stream",
     "text": [
      "7\n"
     ]
    }
   ],
   "execution_count": 32
  },
  {
   "cell_type": "markdown",
   "metadata": {
    "slideshow": {
     "slide_type": "slide"
    }
   },
   "source": [
    "### print\n",
    "\n",
    "`print`: Produce a text output on the console\n",
    "\n",
    "Syntax\n",
    "\n",
    "```python\n",
    "   print(\"Message\")\n",
    "   print(Expression)\n",
    "```\n",
    "\n",
    "Prints the given text message or expression value on the console, and moves the cursor down to the next line.\n",
    "\n",
    "```python\n",
    "   print (Item1, Item2, ..., ItemN)\n",
    "```\n",
    "\n",
    "Prints several messages and/or expressions on the same line."
   ]
  },
  {
   "cell_type": "code",
   "metadata": {
    "ExecuteTime": {
     "end_time": "2024-09-07T07:12:36.777332Z",
     "start_time": "2024-09-07T07:12:36.752551Z"
    }
   },
   "source": [
    "print(\"Message\")\n",
    "print"
   ],
   "outputs": [
    {
     "name": "stdout",
     "output_type": "stream",
     "text": [
      "Message\n"
     ]
    },
    {
     "data": {
      "text/plain": [
       "<function print(*args, sep=' ', end='\\n', file=None, flush=False)>"
      ]
     },
     "execution_count": 35,
     "metadata": {},
     "output_type": "execute_result"
    }
   ],
   "execution_count": 35
  },
  {
   "cell_type": "markdown",
   "metadata": {
    "slideshow": {
     "slide_type": "slide"
    }
   },
   "source": [
    "### Task\n",
    "\n",
    "Try the code\n",
    "\n",
    "```python\n",
    "print('Hello, world!!')\n",
    "```"
   ]
  },
  {
   "cell_type": "code",
   "metadata": {
    "ExecuteTime": {
     "end_time": "2024-09-07T07:13:02.369475Z",
     "start_time": "2024-09-07T07:13:02.365088Z"
    }
   },
   "source": "print('Hello, world!!')",
   "outputs": [
    {
     "name": "stdout",
     "output_type": "stream",
     "text": [
      "Hello, world!!\n"
     ]
    }
   ],
   "execution_count": 37
  },
  {
   "cell_type": "markdown",
   "metadata": {
    "slideshow": {
     "slide_type": "fragment"
    }
   },
   "source": [
    "```python\n",
    "print('Hello', 'world!!')\n",
    "```"
   ]
  },
  {
   "cell_type": "code",
   "metadata": {
    "ExecuteTime": {
     "end_time": "2024-09-07T07:13:19.195162Z",
     "start_time": "2024-09-07T07:13:19.190421Z"
    }
   },
   "source": "print('Hello', 'world!!')",
   "outputs": [
    {
     "name": "stdout",
     "output_type": "stream",
     "text": [
      "Hello world!!\n"
     ]
    }
   ],
   "execution_count": 38
  },
  {
   "cell_type": "markdown",
   "metadata": {
    "slideshow": {
     "slide_type": "fragment"
    }
   },
   "source": [
    "```python\n",
    "age = 40\n",
    "print('You have', 60-age, 'years until retirement')\n",
    "```"
   ]
  },
  {
   "cell_type": "code",
   "metadata": {
    "ExecuteTime": {
     "end_time": "2024-09-07T07:13:50.639021Z",
     "start_time": "2024-09-07T07:13:50.634065Z"
    }
   },
   "source": [
    "age = 40\n",
    "print('You have', 60-age, 'years until retirement')"
   ],
   "outputs": [
    {
     "name": "stdout",
     "output_type": "stream",
     "text": [
      "You have 20 years until retirement\n"
     ]
    }
   ],
   "execution_count": 39
  },
  {
   "cell_type": "markdown",
   "metadata": {
    "slideshow": {
     "slide_type": "slide"
    }
   },
   "source": [
    "### Task 2\n",
    "\n",
    "Write the statements to show the number of all parliament member (including the Senate, and House of Representative\n",
    "\n",
    "- Keep in mind that the number of Senate, and House of Representative can be changed all the time"
   ]
  },
  {
   "metadata": {
    "ExecuteTime": {
     "end_time": "2024-09-07T07:24:29.372375Z",
     "start_time": "2024-09-07T07:24:29.352080Z"
    }
   },
   "cell_type": "code",
   "source": [
    "num_Senate_members = 100\n",
    "num_House_Repr_members = 400\n",
    "number_all_parliament_members = num_Senate_members + num_House_Repr_members\n",
    "number_all_parliament_members"
   ],
   "outputs": [
    {
     "data": {
      "text/plain": [
       "500"
      ]
     },
     "execution_count": 40,
     "metadata": {},
     "output_type": "execute_result"
    }
   ],
   "execution_count": 40
  },
  {
   "cell_type": "markdown",
   "metadata": {
    "slideshow": {
     "slide_type": "slide"
    }
   },
   "source": [
    "## Program input\n",
    "\n",
    "`input` Read data from user input\n",
    "\n",
    "*read* from console\n",
    "\n",
    "You can assign (store) the result of input into a variable.\n",
    "\n"
   ]
  },
  {
   "cell_type": "markdown",
   "metadata": {
    "slideshow": {
     "slide_type": "fragment"
    }
   },
   "source": [
    "Try\n",
    "\n",
    "```python\n",
    "age = int(input('How old are you?'))\n",
    "print('Your age is', age)\n",
    "print ('You have', 60-age, 'years until retirement')\n",
    "```\n"
   ]
  },
  {
   "cell_type": "code",
   "metadata": {
    "ExecuteTime": {
     "end_time": "2024-09-07T07:25:41.273006Z",
     "start_time": "2024-09-07T07:25:37.276002Z"
    }
   },
   "source": [
    "age = int(input('How old are you?'))\n",
    "print('Your age is', age)\n",
    "print('You have', 60-age, 'years until retirement')"
   ],
   "outputs": [
    {
     "name": "stdout",
     "output_type": "stream",
     "text": [
      "Your age is 23\n",
      "You have 37 years until retirement\n"
     ]
    }
   ],
   "execution_count": 41
  },
  {
   "cell_type": "code",
   "metadata": {
    "slideshow": {
     "slide_type": "slide"
    },
    "ExecuteTime": {
     "end_time": "2024-09-07T07:26:13.343781Z",
     "start_time": "2024-09-07T07:26:13.329264Z"
    }
   },
   "source": [
    "### Task\n",
    "\n",
    "Write the program which ask for `name` and `age` and then show the year of retirement\n",
    "\n",
    "For example:\n",
    "\tSomepong, you will retired in 2052"
   ],
   "outputs": [
    {
     "ename": "SyntaxError",
     "evalue": "invalid syntax (1036830013.py, line 3)",
     "output_type": "error",
     "traceback": [
      "\u001B[0;36m  Cell \u001B[0;32mIn[42], line 3\u001B[0;36m\u001B[0m\n\u001B[0;31m    Write the program which ask for `name` and `age` and then show the year of retirement\u001B[0m\n\u001B[0m          ^\u001B[0m\n\u001B[0;31mSyntaxError\u001B[0m\u001B[0;31m:\u001B[0m invalid syntax\n"
     ]
    }
   ],
   "execution_count": 42
  },
  {
   "cell_type": "code",
   "metadata": {
    "ExecuteTime": {
     "end_time": "2024-09-07T15:05:03.430032Z",
     "start_time": "2024-09-07T15:04:58.354716Z"
    }
   },
   "source": [
    "name = input('What is your name?')\n",
    "age = int(input('How old are you?'))\n",
    "retirement_age = 60\n",
    "current_year = 2024\n",
    "retirement_year = (retirement_age - age) + current_year\n",
    "print(name, 'You will retired in', retirement_year)"
   ],
   "outputs": [
    {
     "name": "stdout",
     "output_type": "stream",
     "text": [
      "nine You will retired in 2061\n"
     ]
    }
   ],
   "execution_count": 46
  },
  {
   "cell_type": "code",
   "execution_count": null,
   "metadata": {},
   "outputs": [],
   "source": []
  }
 ],
 "metadata": {
  "celltoolbar": "Slideshow",
  "kernelspec": {
   "display_name": "Python 3 (ipykernel)",
   "language": "python",
   "name": "python3"
  },
  "language_info": {
   "codemirror_mode": {
    "name": "ipython",
    "version": 3
   },
   "file_extension": ".py",
   "mimetype": "text/x-python",
   "name": "python",
   "nbconvert_exporter": "python",
   "pygments_lexer": "ipython3",
   "version": "3.11.1"
  },
  "widgets": {
   "application/vnd.jupyter.widget-state+json": {
    "state": {},
    "version_major": 2,
    "version_minor": 0
   }
  }
 },
 "nbformat": 4,
 "nbformat_minor": 1
}
