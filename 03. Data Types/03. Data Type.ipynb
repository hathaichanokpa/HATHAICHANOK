{
 "cells": [
  {
   "cell_type": "markdown",
   "source": [
    "# Data types\n",
    "\n",
    "## Basic Data Types\n",
    "\n",
    "### Integer\n",
    "\n",
    "The simple counting number\n",
    "\n",
    "we can use the integer values which based other than 10\n",
    "\n",
    "![image-20230719055605284](./assets/image-20230719055605284.png)"
   ],
   "metadata": {
    "collapsed": false
   }
  },
  {
   "cell_type": "markdown",
   "source": [
    "### Floating point Number\n",
    "\n",
    "> designates a floating-point number\n",
    "\n",
    "- float values are specified with a decimal point\n",
    "- the character `e` or `E` followed by a positive or negative integer may be appended to specify scientific notation\n",
    "- Python float values is 64-bit \"double-prceision\"\n",
    "- the maximum value is 1.8 ⨉ 10308\n",
    "\n",
    "```python\n",
    "6.123456789123456789123456789e10\n",
    "```\n",
    "\n",
    "try"
   ],
   "metadata": {
    "collapsed": false
   }
  },
  {
   "cell_type": "code",
   "source": "1.9 * 5.308567",
   "metadata": {
    "collapsed": false,
    "ExecuteTime": {
     "end_time": "2024-09-07T15:49:16.361025Z",
     "start_time": "2024-09-07T15:49:16.345993Z"
    }
   },
   "outputs": [
    {
     "data": {
      "text/plain": [
       "10.086277299999999"
      ]
     },
     "execution_count": 1,
     "metadata": {},
     "output_type": "execute_result"
    }
   ],
   "execution_count": 1
  },
  {
   "cell_type": "markdown",
   "source": [
    "### boolean\n",
    "\n",
    "The boolean values indicate `True` or `False`\n",
    "\n",
    "```python\n",
    "a  < b  < c \t\t# same as: a < b and b < c\n",
    "a == b == c\t\t\t# same as: a = b and b = c\n",
    "```\n",
    "\n",
    "#### Rule of Conversion to Booleans:\n",
    "\n",
    "![image-20230719055637023](./assets/image-20230719055637023.png)\n",
    "\n",
    "```python\n",
    "x = 0\n",
    "if x:\n",
    "  print('true')\n",
    "else:\n",
    "  print('false')\n",
    "```"
   ],
   "metadata": {
    "collapsed": false
   }
  },
  {
   "cell_type": "code",
   "source": [
    "x = 0\n",
    "if x:\n",
    "    print('true')\n",
    "else:\n",
    "    print('false')"
   ],
   "metadata": {
    "collapsed": false,
    "ExecuteTime": {
     "end_time": "2024-09-07T15:49:55.464250Z",
     "start_time": "2024-09-07T15:49:55.459600Z"
    }
   },
   "outputs": [
    {
     "name": "stdout",
     "output_type": "stream",
     "text": [
      "false\n"
     ]
    }
   ],
   "execution_count": 3
  },
  {
   "cell_type": "markdown",
   "source": [
    "## Container Data Types\n",
    "\n",
    "When we refer to data, they may be a bunch of data\n",
    "\n",
    "> container type\n",
    ">\n",
    "> - group objects together\n",
    "> - the differences are\n",
    ">   - how to access individual elements\n",
    ">   - how operations are defined"
   ],
   "metadata": {
    "collapsed": false
   }
  },
  {
   "cell_type": "markdown",
   "source": [
    "### List\n",
    "\n",
    "a list of object of any kind\n",
    "\n",
    "Try to create this object, and show the value\n",
    "\n",
    "```python\n",
    "L = ['a', 20.0, 5]\n",
    "M = [3,['a',-3.0,5]]\n",
    "```"
   ],
   "metadata": {
    "collapsed": false
   }
  },
  {
   "cell_type": "code",
   "source": [
    "L = ['a', 20.0, 5]\n",
    "M = [3,['a',-3.0,5]]"
   ],
   "metadata": {
    "collapsed": false,
    "ExecuteTime": {
     "end_time": "2024-09-07T15:50:39.063126Z",
     "start_time": "2024-09-07T15:50:39.059653Z"
    }
   },
   "outputs": [],
   "execution_count": 5
  },
  {
   "cell_type": "markdown",
   "source": [
    "To access any individual value,\n",
    "\n",
    "Try to access the given data\n",
    "\n",
    "```python\n",
    "L[1]\n",
    "L[0]\n",
    "M[1]\n",
    "M[1][2]\n",
    "```\n",
    "\n"
   ],
   "metadata": {
    "collapsed": false
   }
  },
  {
   "cell_type": "code",
   "source": [
    "L[1]\n",
    "L[0]\n",
    "M[1]\n",
    "M[1][2]"
   ],
   "metadata": {
    "collapsed": false,
    "ExecuteTime": {
     "end_time": "2024-09-07T15:50:49.027519Z",
     "start_time": "2024-09-07T15:50:49.009578Z"
    }
   },
   "outputs": [
    {
     "data": {
      "text/plain": [
       "5"
      ]
     },
     "execution_count": 6,
     "metadata": {},
     "output_type": "execute_result"
    }
   ],
   "execution_count": 6
  },
  {
   "cell_type": "markdown",
   "source": [
    "> The range can also generate the values, and put in to the list The `list` function define how to create list from the range\n",
    "\n",
    "Try to write the code as given and see the L value\n",
    "\n",
    "```python\n",
    "L = list(range(4))\n",
    "```"
   ],
   "metadata": {
    "collapsed": false
   }
  },
  {
   "cell_type": "code",
   "source": "L = list(range(4))",
   "metadata": {
    "collapsed": false,
    "ExecuteTime": {
     "end_time": "2024-09-07T15:51:02.738543Z",
     "start_time": "2024-09-07T15:51:02.735222Z"
    }
   },
   "outputs": [],
   "execution_count": 7
  },
  {
   "cell_type": "markdown",
   "source": [
    "```python\n",
    "L = list(range(17,29,4))\n",
    "```"
   ],
   "metadata": {
    "collapsed": false
   }
  },
  {
   "cell_type": "code",
   "source": "L = list(range(17,29,4))",
   "metadata": {
    "collapsed": false,
    "ExecuteTime": {
     "end_time": "2024-09-07T15:51:12.295331Z",
     "start_time": "2024-09-07T15:51:12.291164Z"
    }
   },
   "outputs": [],
   "execution_count": 8
  },
  {
   "cell_type": "markdown",
   "source": [
    "> `len` function returns the length of the list\n",
    " Try\n",
    "\n",
    "```\n",
    "len(L)\n",
    "```"
   ],
   "metadata": {
    "collapsed": false
   }
  },
  {
   "metadata": {
    "ExecuteTime": {
     "end_time": "2024-09-07T15:51:22.896453Z",
     "start_time": "2024-09-07T15:51:22.891099Z"
    }
   },
   "cell_type": "code",
   "source": "len(L)",
   "outputs": [
    {
     "data": {
      "text/plain": [
       "3"
      ]
     },
     "execution_count": 9,
     "metadata": {},
     "output_type": "execute_result"
    }
   ],
   "execution_count": 9
  },
  {
   "cell_type": "markdown",
   "source": [
    "#### List Slicing\n",
    "\n",
    "\n",
    "\n",
    "Slicing is to get only the list we want\n",
    "\n",
    "it will create a new list\n",
    "\n",
    "- `L[i:j]` means create a list by taking all element at `L[i]` until `L[j-1]`\n",
    "\n",
    "`L[2:5]`\n",
    "\n",
    "![image-20230719055731424](./assets/image-20230719055731424.png)\n",
    "\n",
    "\n",
    "\n",
    "\n",
    "- `L[i:]` all elements except the `1` first ones\n",
    "\n",
    "`L[2:]`\n",
    "\n",
    "![image-20230719055753762](./assets/image-20230719055753762.png)\n",
    "\n",
    "\n",
    "\n",
    "\n",
    "- `L[:i]` taking the first `i` elements\n",
    "\n",
    "`L[:2]`\n",
    "\n",
    "![image-20230719055812702](./assets/image-20230719055812702.png)\n",
    "\n",
    "\n",
    "\n",
    "\n",
    "- `L[-i:]` taking the last `i` elements\n",
    "\n",
    "`L[-2:]`\n",
    "\n",
    "![image-20230719055825194](./assets/image-20230719055825194.png)\n",
    "\n",
    "\n",
    "\n",
    "\n",
    "- `L[:-i]` means create a list by taking all element at `L[i]` until `L[j-1]`\n",
    "\n",
    "`L[:-2]`\n",
    "\n",
    "![image-20230719055841629](./assets/image-20230719055841629.png)\n",
    "\n",
    "\n",
    "\n",
    "\n",
    "Or we can mix them together\n",
    "\n",
    "`L[2:-1]`\n",
    "\n",
    "![image-20230719055856406](./assets/image-20230719055856406.png)\n",
    "\n",
    "`L[-4,-1]`\n",
    "\n",
    "![image-20230719055914019](./assets/image-20230719055914019.png)\n",
    "\n"
   ],
   "metadata": {
    "collapsed": false
   }
  },
  {
   "cell_type": "markdown",
   "source": [
    "#### Task\n",
    "\n",
    "Execute the following statements:\n",
    "\n",
    "```python\n",
    "L = [1,5]\n",
    "L3 = 3*L\n",
    "```"
   ],
   "metadata": {
    "collapsed": false
   }
  },
  {
   "cell_type": "code",
   "source": [
    "L = [1,5]\n",
    "L3 = 3*L\n",
    "print(L3)"
   ],
   "metadata": {
    "collapsed": false,
    "ExecuteTime": {
     "end_time": "2024-09-07T15:51:59.366223Z",
     "start_time": "2024-09-07T15:51:59.361139Z"
    }
   },
   "outputs": [
    {
     "name": "stdout",
     "output_type": "stream",
     "text": [
      "[1, 5, 1, 5, 1, 5]\n"
     ]
    }
   ],
   "execution_count": 12
  },
  {
   "cell_type": "markdown",
   "source": [
    "1. What is the content of `L3`?\n",
    "\n",
    "2. Try to predict the outcome of the following command\n",
    "\n",
    "```python\n",
    "L3[0]\n",
    "L3[-1]\n",
    "L3[10]\n",
    "```"
   ],
   "metadata": {
    "collapsed": false
   }
  },
  {
   "cell_type": "code",
   "source": [
    "L3[0]\n",
    "L3[-1]\n",
    "L3[10]"
   ],
   "metadata": {
    "collapsed": false,
    "ExecuteTime": {
     "end_time": "2024-09-07T15:52:11.628409Z",
     "start_time": "2024-09-07T15:52:11.251102Z"
    }
   },
   "outputs": [
    {
     "ename": "IndexError",
     "evalue": "list index out of range",
     "output_type": "error",
     "traceback": [
      "\u001B[0;31m---------------------------------------------------------------------------\u001B[0m",
      "\u001B[0;31mIndexError\u001B[0m                                Traceback (most recent call last)",
      "Cell \u001B[0;32mIn[13], line 3\u001B[0m\n\u001B[1;32m      1\u001B[0m L3[\u001B[38;5;241m0\u001B[39m]\n\u001B[1;32m      2\u001B[0m L3[\u001B[38;5;241m-\u001B[39m\u001B[38;5;241m1\u001B[39m]\n\u001B[0;32m----> 3\u001B[0m \u001B[43mL3\u001B[49m\u001B[43m[\u001B[49m\u001B[38;5;241;43m10\u001B[39;49m\u001B[43m]\u001B[49m\n",
      "\u001B[0;31mIndexError\u001B[0m: list index out of range"
     ]
    }
   ],
   "execution_count": 13
  },
  {
   "cell_type": "markdown",
   "source": [
    "3. What does the following command do?\n",
    "\n",
    "```python\n",
    "L4 = [k**2 for k in L3]\n",
    "```"
   ],
   "metadata": {
    "collapsed": false
   }
  },
  {
   "cell_type": "code",
   "source": [
    "L4 = [k**2 for k in L3]\n",
    "print(L4)"
   ],
   "metadata": {
    "collapsed": false,
    "ExecuteTime": {
     "end_time": "2024-09-07T15:52:29.216705Z",
     "start_time": "2024-09-07T15:52:29.212082Z"
    }
   },
   "outputs": [
    {
     "name": "stdout",
     "output_type": "stream",
     "text": [
      "[1, 25, 1, 25, 1, 25]\n"
     ]
    }
   ],
   "execution_count": 15
  },
  {
   "cell_type": "markdown",
   "source": [
    "4. Concatenate `L3` and `L4` to a new list `L5`"
   ],
   "metadata": {
    "collapsed": false
   }
  },
  {
   "cell_type": "code",
   "source": [
    "L5 = [L3 * L4]\n",
    "print(L5)"
   ],
   "metadata": {
    "collapsed": false,
    "ExecuteTime": {
     "end_time": "2024-09-07T15:54:17.552847Z",
     "start_time": "2024-09-07T15:54:17.535975Z"
    }
   },
   "outputs": [
    {
     "ename": "TypeError",
     "evalue": "can't multiply sequence by non-int of type 'list'",
     "output_type": "error",
     "traceback": [
      "\u001B[0;31m---------------------------------------------------------------------------\u001B[0m",
      "\u001B[0;31mTypeError\u001B[0m                                 Traceback (most recent call last)",
      "Cell \u001B[0;32mIn[18], line 1\u001B[0m\n\u001B[0;32m----> 1\u001B[0m L5 \u001B[38;5;241m=\u001B[39m [\u001B[43mL3\u001B[49m\u001B[43m \u001B[49m\u001B[38;5;241;43m*\u001B[39;49m\u001B[43m \u001B[49m\u001B[43mL4\u001B[49m]\n\u001B[1;32m      2\u001B[0m \u001B[38;5;28mprint\u001B[39m(L5)\n",
      "\u001B[0;31mTypeError\u001B[0m: can't multiply sequence by non-int of type 'list'"
     ]
    }
   ],
   "execution_count": 18
  },
  {
   "cell_type": "markdown",
   "source": [
    "### Altering List\n",
    "\n",
    "List can be deleted using the empty list `[]`\n",
    "\n",
    "```python\n",
    "L = ['a','b','c','d','e']\n",
    "L[2:3] = []\n",
    "L\n",
    "```"
   ],
   "metadata": {
    "collapsed": false
   }
  },
  {
   "cell_type": "code",
   "source": [
    "L = ['a','b','c','d','e']\n",
    "L[2:3] = []\n",
    "L"
   ],
   "metadata": {
    "collapsed": false,
    "ExecuteTime": {
     "end_time": "2024-09-07T15:54:27.265398Z",
     "start_time": "2024-09-07T15:54:27.258778Z"
    }
   },
   "outputs": [
    {
     "data": {
      "text/plain": [
       "['a', 'b', 'd', 'e']"
      ]
     },
     "execution_count": 19,
     "metadata": {},
     "output_type": "execute_result"
    }
   ],
   "execution_count": 19
  },
  {
   "cell_type": "markdown",
   "source": [
    "In addition Two list can be concatenated by plus operator +\n",
    "\n",
    "```python\n",
    "L = [1, -17]\n",
    "M = [-23.5, 18.3, 5.0]\n",
    "L+M\n",
    "```"
   ],
   "metadata": {
    "collapsed": false
   }
  },
  {
   "cell_type": "code",
   "source": [
    "L = [1, -17]\n",
    "M = [-23.5, 18.3, 5.0]\n",
    "L+M"
   ],
   "metadata": {
    "collapsed": false,
    "ExecuteTime": {
     "end_time": "2024-09-07T15:54:33.184265Z",
     "start_time": "2024-09-07T15:54:33.179732Z"
    }
   },
   "outputs": [
    {
     "data": {
      "text/plain": [
       "[1, -17, -23.5, 18.3, 5.0]"
      ]
     },
     "execution_count": 20,
     "metadata": {},
     "output_type": "execute_result"
    }
   ],
   "execution_count": 20
  },
  {
   "cell_type": "markdown",
   "source": [
    "### Belonging to a List\n",
    "\n",
    "in and not in to determine whetehr an element belongs to a list or not\n",
    "\n",
    "```python\n",
    "L = ['a', 1,'b',2]\n",
    "'a' in L\n",
    "```"
   ],
   "metadata": {
    "collapsed": false
   }
  },
  {
   "cell_type": "code",
   "source": [
    "L = ['a', 1,'b',2]\n",
    "'a' in L"
   ],
   "metadata": {
    "collapsed": false,
    "ExecuteTime": {
     "end_time": "2024-09-07T15:54:39.953010Z",
     "start_time": "2024-09-07T15:54:39.948139Z"
    }
   },
   "outputs": [
    {
     "data": {
      "text/plain": [
       "True"
      ]
     },
     "execution_count": 21,
     "metadata": {},
     "output_type": "execute_result"
    }
   ],
   "execution_count": 21
  },
  {
   "cell_type": "markdown",
   "source": [
    "\n",
    "\n",
    "```python\n",
    "1 in L\n",
    "```"
   ],
   "metadata": {
    "collapsed": false
   }
  },
  {
   "cell_type": "code",
   "source": "1 in L",
   "metadata": {
    "collapsed": false,
    "ExecuteTime": {
     "end_time": "2024-09-07T15:54:45.339973Z",
     "start_time": "2024-09-07T15:54:45.335089Z"
    }
   },
   "outputs": [
    {
     "data": {
      "text/plain": [
       "True"
      ]
     },
     "execution_count": 22,
     "metadata": {},
     "output_type": "execute_result"
    }
   ],
   "execution_count": 22
  },
  {
   "cell_type": "markdown",
   "source": [
    "```python\n",
    "4 not in L\n",
    "```"
   ],
   "metadata": {
    "collapsed": false
   }
  },
  {
   "cell_type": "code",
   "source": "4 not in L",
   "metadata": {
    "collapsed": false,
    "ExecuteTime": {
     "end_time": "2024-09-07T15:54:49.242837Z",
     "start_time": "2024-09-07T15:54:49.238414Z"
    }
   },
   "outputs": [
    {
     "data": {
      "text/plain": [
       "True"
      ]
     },
     "execution_count": 23,
     "metadata": {},
     "output_type": "execute_result"
    }
   ],
   "execution_count": 23
  },
  {
   "cell_type": "markdown",
   "source": [
    "L.reverse()\n",
    "#### List Methods\n",
    "\n",
    "many useful Methods\n",
    "\n",
    "![image-20230719060506595](./assets/image-20230719060506595.png)\n",
    "\n",
    "Try\n",
    "\n",
    "```python\n",
    "L.reverse()\n",
    "L\n",
    "```"
   ],
   "metadata": {
    "collapsed": false
   }
  },
  {
   "metadata": {
    "ExecuteTime": {
     "end_time": "2024-09-07T15:55:04.945119Z",
     "start_time": "2024-09-07T15:55:04.939404Z"
    }
   },
   "cell_type": "code",
   "source": [
    "L.reverse()\n",
    "L"
   ],
   "outputs": [
    {
     "data": {
      "text/plain": [
       "[2, 'b', 1, 'a']"
      ]
     },
     "execution_count": 24,
     "metadata": {},
     "output_type": "execute_result"
    }
   ],
   "execution_count": 24
  },
  {
   "cell_type": "markdown",
   "source": [
    "```python\n",
    "L.append('y')\n",
    "```"
   ],
   "metadata": {
    "collapsed": false
   }
  },
  {
   "cell_type": "code",
   "source": "L.append('y')",
   "metadata": {
    "collapsed": false,
    "ExecuteTime": {
     "end_time": "2024-09-07T15:55:12.407589Z",
     "start_time": "2024-09-07T15:55:12.404475Z"
    }
   },
   "outputs": [],
   "execution_count": 25
  },
  {
   "cell_type": "markdown",
   "source": [
    "### Tuple\n",
    "- immutable list\n",
    "- cannot be modified\n",
    "- can be just a comma separated sequence of objects\n",
    "- or encloses the tuple in a pair of parentheses\n",
    "\n",
    "```\n",
    "my_tuple = 1, 2, 3\n",
    "my_tuple = (1, 2, 3)\n",
    "my_tuple = 1, 2, 3,\n",
    "```\n"
   ],
   "metadata": {
    "collapsed": false
   }
  },
  {
   "cell_type": "code",
   "source": [
    "my_tuple = 1, 2, 3\n",
    "my_tuple = (1, 2, 3)\n",
    "my_tuple = 1, 2, 3,"
   ],
   "metadata": {
    "collapsed": false,
    "ExecuteTime": {
     "end_time": "2024-09-07T15:55:34.570297Z",
     "start_time": "2024-09-07T15:55:34.563420Z"
    }
   },
   "outputs": [],
   "execution_count": 1
  },
  {
   "cell_type": "markdown",
   "source": [
    "try\n",
    "\n",
    "```\n",
    "len(my_tuple)\n",
    "\n",
    "my_tuple[0] = 'a'\n",
    "```"
   ],
   "metadata": {
    "collapsed": false
   }
  },
  {
   "cell_type": "code",
   "source": [
    "len(my_tuple)\n",
    "\n",
    "my_tuple[0] = 'a'"
   ],
   "metadata": {
    "collapsed": false,
    "ExecuteTime": {
     "end_time": "2024-09-07T15:55:58.840788Z",
     "start_time": "2024-09-07T15:55:58.824747Z"
    }
   },
   "outputs": [
    {
     "ename": "TypeError",
     "evalue": "'tuple' object does not support item assignment",
     "output_type": "error",
     "traceback": [
      "\u001B[0;31m---------------------------------------------------------------------------\u001B[0m",
      "\u001B[0;31mTypeError\u001B[0m                                 Traceback (most recent call last)",
      "Cell \u001B[0;32mIn[5], line 3\u001B[0m\n\u001B[1;32m      1\u001B[0m \u001B[38;5;28mlen\u001B[39m(my_tuple)\n\u001B[0;32m----> 3\u001B[0m \u001B[43mmy_tuple\u001B[49m\u001B[43m[\u001B[49m\u001B[38;5;241;43m0\u001B[39;49m\u001B[43m]\u001B[49m \u001B[38;5;241m=\u001B[39m \u001B[38;5;124m'\u001B[39m\u001B[38;5;124ma\u001B[39m\u001B[38;5;124m'\u001B[39m\n",
      "\u001B[0;31mTypeError\u001B[0m: 'tuple' object does not support item assignment"
     ]
    }
   ],
   "execution_count": 5
  },
  {
   "cell_type": "markdown",
   "source": [
    "### Dictionaries\n",
    "\n",
    "\n",
    "\n",
    "- Lists, tuple are ordered set of object\n",
    "- object are inserted, accessed, and processed according to the **index** position\n",
    "- dictionary is an unordered set of pairs\n",
    "- access dictionary data by keys\n",
    "\n",
    "> The data can be created as followed\n",
    "\n",
    "```python\n",
    "truck_wheel = {\n",
    "              'name':'wheel',\n",
    "              'mass':5.7,\n",
    "              'Ix': 20.0,\n",
    "              'Iy': 1.,\n",
    "              'Iz' : 17.,\n",
    "              'center of mass': [0.,0.,0.]\n",
    "              }\n",
    "```"
   ],
   "metadata": {
    "collapsed": false
   }
  },
  {
   "cell_type": "code",
   "source": [
    "truck_wheel = {\n",
    "              'name':'wheel',\n",
    "              'mass':5.7,\n",
    "              'Ix': 20.0,\n",
    "              'Iy': 1.,\n",
    "              'Iz' : 17.,\n",
    "              'center of mass': [0.,0.,0.]\n",
    "              }"
   ],
   "metadata": {
    "collapsed": false,
    "ExecuteTime": {
     "end_time": "2024-09-07T15:56:10.178147Z",
     "start_time": "2024-09-07T15:56:10.174172Z"
    }
   },
   "outputs": [],
   "execution_count": 6
  },
  {
   "cell_type": "markdown",
   "source": [
    "The element can be accessed by their keys\n",
    "\n",
    "```python\n",
    "truck_wheel['name']\n",
    "truck_wheel['mass']\n",
    "```"
   ],
   "metadata": {
    "collapsed": false
   }
  },
  {
   "cell_type": "code",
   "source": [
    "truck_wheel['name']\n",
    "truck_wheel['mass']"
   ],
   "metadata": {
    "collapsed": false,
    "ExecuteTime": {
     "end_time": "2024-09-07T15:56:14.912468Z",
     "start_time": "2024-09-07T15:56:14.904348Z"
    }
   },
   "outputs": [
    {
     "data": {
      "text/plain": [
       "5.7"
      ]
     },
     "execution_count": 7,
     "metadata": {},
     "output_type": "execute_result"
    }
   ],
   "execution_count": 7
  },
  {
   "cell_type": "markdown",
   "source": [
    "New objects are added to the dictionary by creating a new *key*\n",
    "\n",
    "```python\n",
    "truck_wheel['Ixy'] = 0.0\n",
    "truck_wheel\n",
    "```"
   ],
   "metadata": {
    "collapsed": false
   }
  },
  {
   "cell_type": "code",
   "source": [
    "truck_wheel['Ixy'] = 0.0\n",
    "truck_wheel"
   ],
   "metadata": {
    "collapsed": false,
    "ExecuteTime": {
     "end_time": "2024-09-07T15:56:19.767651Z",
     "start_time": "2024-09-07T15:56:19.763128Z"
    }
   },
   "outputs": [
    {
     "data": {
      "text/plain": [
       "{'name': 'wheel',\n",
       " 'mass': 5.7,\n",
       " 'Ix': 20.0,\n",
       " 'Iy': 1.0,\n",
       " 'Iz': 17.0,\n",
       " 'center of mass': [0.0, 0.0, 0.0],\n",
       " 'Ixy': 0.0}"
      ]
     },
     "execution_count": 8,
     "metadata": {},
     "output_type": "execute_result"
    }
   ],
   "execution_count": 8
  },
  {
   "cell_type": "markdown",
   "source": [
    "#### Looping over dictionaries\n",
    "\n",
    "\n",
    "\n",
    "It can be done using the keys\n",
    "\n",
    "```python\n",
    "for key in truck_wheel.keys():\n",
    "  print(key)\n",
    "```\n",
    "\n",
    "or equivalently:\n",
    "\n",
    "```python\n",
    "for key in truck_wheel:\n",
    "  print(key)\n",
    "```"
   ],
   "metadata": {
    "collapsed": false
   }
  },
  {
   "cell_type": "code",
   "source": [
    "for key in truck_wheel.keys():\n",
    "  print(key)"
   ],
   "metadata": {
    "collapsed": false,
    "ExecuteTime": {
     "end_time": "2024-09-07T15:56:26.447837Z",
     "start_time": "2024-09-07T15:56:26.443734Z"
    }
   },
   "outputs": [
    {
     "name": "stdout",
     "output_type": "stream",
     "text": [
      "name\n",
      "mass\n",
      "Ix\n",
      "Iy\n",
      "Iz\n",
      "center of mass\n",
      "Ixy\n"
     ]
    }
   ],
   "execution_count": 9
  },
  {
   "metadata": {
    "ExecuteTime": {
     "end_time": "2024-09-07T15:56:35.929473Z",
     "start_time": "2024-09-07T15:56:35.924836Z"
    }
   },
   "cell_type": "code",
   "source": [
    "for key in truck_wheel:\n",
    "  print(key)"
   ],
   "outputs": [
    {
     "name": "stdout",
     "output_type": "stream",
     "text": [
      "name\n",
      "mass\n",
      "Ix\n",
      "Iy\n",
      "Iz\n",
      "center of mass\n",
      "Ixy\n"
     ]
    }
   ],
   "execution_count": 10
  },
  {
   "cell_type": "markdown",
   "source": [
    "ฺOr by values\n",
    "\n",
    "```python\n",
    "for value in truck_wheel.values():\n",
    "  print (value)\n",
    "```"
   ],
   "metadata": {
    "collapsed": false
   }
  },
  {
   "cell_type": "code",
   "source": [
    "for value in truck_wheel.values():\n",
    "  print (value)"
   ],
   "metadata": {
    "collapsed": false,
    "ExecuteTime": {
     "end_time": "2024-09-07T15:56:41.257011Z",
     "start_time": "2024-09-07T15:56:41.253589Z"
    }
   },
   "outputs": [
    {
     "name": "stdout",
     "output_type": "stream",
     "text": [
      "wheel\n",
      "5.7\n",
      "20.0\n",
      "1.0\n",
      "17.0\n",
      "[0.0, 0.0, 0.0]\n",
      "0.0\n"
     ]
    }
   ],
   "execution_count": 11
  },
  {
   "cell_type": "markdown",
   "source": [
    "To get by item (both, key and value pairs)\n",
    "\n",
    "```python\n",
    "for item in truck_wheel.items():\n",
    "  print(item)\n",
    "```"
   ],
   "metadata": {
    "collapsed": false
   }
  },
  {
   "cell_type": "code",
   "source": [
    "for item in truck_wheel.items():\n",
    "  print(item)"
   ],
   "metadata": {
    "collapsed": false,
    "ExecuteTime": {
     "end_time": "2024-09-07T15:56:45.969979Z",
     "start_time": "2024-09-07T15:56:45.966295Z"
    }
   },
   "outputs": [
    {
     "name": "stdout",
     "output_type": "stream",
     "text": [
      "('name', 'wheel')\n",
      "('mass', 5.7)\n",
      "('Ix', 20.0)\n",
      "('Iy', 1.0)\n",
      "('Iz', 17.0)\n",
      "('center of mass', [0.0, 0.0, 0.0])\n",
      "('Ixy', 0.0)\n"
     ]
    }
   ],
   "execution_count": 12
  },
  {
   "cell_type": "markdown",
   "source": [
    "### Sets\n",
    "\n",
    "\n",
    "\n",
    "- Sets is the same properties, and operation as set in methametics\n",
    "- collection of distint objects\n",
    "\n",
    "Some mathematic set expression are\n",
    "$$\n",
    "A = {1,2,3,4}, B = 5\\\\\n",
    "C = A \\cup B\\\\\n",
    "D = A \\cap B\\\\\n",
    "E = C \\backslash A\\\\\n",
    "$$\n",
    "Will equivaent to the code\n",
    "\n",
    "```python\n",
    "A = {1,2,3,4}\n",
    "B = {5}\n",
    "C = A.union(B)\n",
    "D = A.intersection(C)\n",
    "E = C.difference(A)\n",
    "5 in c\n",
    "```\n",
    "\n"
   ],
   "metadata": {
    "collapsed": false
   }
  },
  {
   "cell_type": "code",
   "source": [
    "A = {1,2,3,4}\n",
    "B = {5}\n",
    "C = A.union(B)\n",
    "D = A.intersection(C)\n",
    "E = C.difference(A)\n",
    "5 in C"
   ],
   "metadata": {
    "collapsed": false,
    "ExecuteTime": {
     "end_time": "2024-09-07T15:56:58.485328Z",
     "start_time": "2024-09-07T15:56:58.478034Z"
    }
   },
   "outputs": [
    {
     "data": {
      "text/plain": [
       "True"
      ]
     },
     "execution_count": 14,
     "metadata": {},
     "output_type": "execute_result"
    }
   ],
   "execution_count": 14
  },
  {
   "cell_type": "markdown",
   "source": [
    "> Set contain element only once, see this\n",
    "\n",
    "```python\n",
    "A = {1,2,3,3,3}\n",
    "B = {1,2,3}\n",
    "A == B\n",
    "```"
   ],
   "metadata": {
    "collapsed": false
   }
  },
  {
   "cell_type": "code",
   "source": [
    "A = {1,2,3,3,3}\n",
    "B = {1,2,3}\n",
    "A == B"
   ],
   "metadata": {
    "collapsed": false,
    "ExecuteTime": {
     "end_time": "2024-09-07T15:57:03.383135Z",
     "start_time": "2024-09-07T15:57:03.378390Z"
    }
   },
   "outputs": [
    {
     "data": {
      "text/plain": [
       "True"
      ]
     },
     "execution_count": 15,
     "metadata": {},
     "output_type": "execute_result"
    }
   ],
   "execution_count": 15
  },
  {
   "cell_type": "markdown",
   "source": [
    "> and a set is unordered\n",
    "\n",
    "the order of set is not definded\n",
    "\n",
    "```python\n",
    "A = {1,2,3}\n",
    "B = {1,3,2}\n",
    "A == B\n",
    "```"
   ],
   "metadata": {
    "collapsed": false
   }
  },
  {
   "cell_type": "code",
   "source": [
    "A = {1,2,3}\n",
    "B = {1,3,2}\n",
    "A == B"
   ],
   "metadata": {
    "collapsed": false,
    "ExecuteTime": {
     "end_time": "2024-09-07T15:57:07.920046Z",
     "start_time": "2024-09-07T15:57:07.913469Z"
    }
   },
   "outputs": [
    {
     "data": {
      "text/plain": [
       "True"
      ]
     },
     "execution_count": 16,
     "metadata": {},
     "output_type": "execute_result"
    }
   ],
   "execution_count": 16
  },
  {
   "cell_type": "markdown",
   "source": [
    "## Type checking\n",
    "\n",
    "The direct way to see the type of a varialbe is to use the `type` command\n",
    "\n",
    "```python\n",
    "label = 'local error'\n",
    "type(label)\n",
    "```"
   ],
   "metadata": {
    "collapsed": false
   }
  },
  {
   "cell_type": "code",
   "source": [
    "label = 'local error'\n",
    "type(label)"
   ],
   "metadata": {
    "collapsed": false,
    "ExecuteTime": {
     "end_time": "2024-09-07T15:57:13.394112Z",
     "start_time": "2024-09-07T15:57:13.388922Z"
    }
   },
   "outputs": [
    {
     "data": {
      "text/plain": [
       "str"
      ]
     },
     "execution_count": 17,
     "metadata": {},
     "output_type": "execute_result"
    }
   ],
   "execution_count": 17
  },
  {
   "cell_type": "markdown",
   "source": [
    "```python\n",
    "x = [1,2]\n",
    "type(x)\n",
    "```"
   ],
   "metadata": {
    "collapsed": false
   }
  },
  {
   "cell_type": "code",
   "source": [
    "x = [1,2]\n",
    "type(x)"
   ],
   "metadata": {
    "collapsed": false,
    "ExecuteTime": {
     "end_time": "2024-09-07T15:57:17.543706Z",
     "start_time": "2024-09-07T15:57:17.538286Z"
    }
   },
   "outputs": [
    {
     "data": {
      "text/plain": [
       "list"
      ]
     },
     "execution_count": 18,
     "metadata": {},
     "output_type": "execute_result"
    }
   ],
   "execution_count": 18
  },
  {
   "cell_type": "markdown",
   "source": [
    "> To check that the data is this type or ot use `isinstance` Comparing with the type\n",
    "\n",
    "```python\n",
    "isinstance(x,list)\n",
    "```"
   ],
   "metadata": {
    "collapsed": false
   }
  },
  {
   "cell_type": "code",
   "source": "isinstance(x,list)",
   "metadata": {
    "collapsed": false,
    "ExecuteTime": {
     "end_time": "2024-09-07T15:57:23.307874Z",
     "start_time": "2024-09-07T15:57:23.303904Z"
    }
   },
   "outputs": [
    {
     "data": {
      "text/plain": [
       "True"
      ]
     },
     "execution_count": 19,
     "metadata": {},
     "output_type": "execute_result"
    }
   ],
   "execution_count": 19
  },
  {
   "cell_type": "markdown",
   "source": [
    "## Task\n",
    "\n",
    "### Task 1 Fibonacci\n",
    "\n",
    "Write a function that computes the list of the first 100 Fibonacci numbers. By definition, the first two numbers in Fibonacci sequence are 0 and 1, and each subsequent number is the sum of the previous two. As an example, here are the first 10 Fibonacci numbers: 0,1,1,2,3,5,8,13,21, and 34\n",
    "\n",
    "![image-20230719061113056](./assets/image-20230719061113056.png)"
   ],
   "metadata": {
    "collapsed": false
   }
  },
  {
   "cell_type": "code",
   "source": [
    "n = 100\n",
    "num1 = 0\n",
    "num2 = 1\n",
    "next_number = num2  \n",
    "count = 1\n",
    "\n",
    "while count <= n:\n",
    "    print(next_number, end=\" \")\n",
    "    count += 1\n",
    "    num1, num2 = num2, next_number\n",
    "    next_number = num1 + num2\n",
    "print()"
   ],
   "metadata": {
    "collapsed": false,
    "ExecuteTime": {
     "end_time": "2024-09-07T16:13:19.234256Z",
     "start_time": "2024-09-07T16:13:19.183153Z"
    }
   },
   "outputs": [
    {
     "name": "stdout",
     "output_type": "stream",
     "text": [
      "1 2 3 5 8 13 21 34 55 89 144 233 377 610 987 1597 2584 4181 6765 10946 17711 28657 46368 75025 121393 196418 317811 514229 832040 1346269 2178309 3524578 5702887 9227465 14930352 24157817 39088169 63245986 102334155 165580141 267914296 433494437 701408733 1134903170 1836311903 2971215073 4807526976 7778742049 12586269025 20365011074 32951280099 53316291173 86267571272 139583862445 225851433717 365435296162 591286729879 956722026041 1548008755920 2504730781961 4052739537881 6557470319842 10610209857723 17167680177565 27777890035288 44945570212853 72723460248141 117669030460994 190392490709135 308061521170129 498454011879264 806515533049393 1304969544928657 2111485077978050 3416454622906707 5527939700884757 8944394323791464 14472334024676221 23416728348467685 37889062373143906 61305790721611591 99194853094755497 160500643816367088 259695496911122585 420196140727489673 679891637638612258 1100087778366101931 1779979416004714189 2880067194370816120 4660046610375530309 7540113804746346429 12200160415121876738 19740274219868223167 31940434634990099905 51680708854858323072 83621143489848422977 135301852344706746049 218922995834555169026 354224848179261915075 573147844013817084101 \n"
     ]
    }
   ],
   "execution_count": 20
  },
  {
   "cell_type": "markdown",
   "source": [
    "### Task 2 Morse code\n",
    "\n",
    "- Write a program that can generate the morse code from any text string\n",
    "- Each character is separate by space\n",
    "- Using `.` and `-` for the code\n",
    "\n",
    "<img src=\"./assets/800px-International_Morse_Code.svg.png\" style=\"zoom:33%;\" />\n",
    "\n",
    "**Hint**\n",
    "\n",
    "- where to find the character\n",
    "- [https://home.unicode.org/](https://colab.research.google.com/corgiredirector?site=https%3A%2F%2Fhome.unicode.org%2F&link_redirector=1)\n",
    "- [http://www.unicode.org/charts/](https://colab.research.google.com/corgiredirector?site=http%3A%2F%2Fwww.unicode.org%2Fcharts%2F&link_redirector=1)\n",
    "\n",
    "after getting the Unicode -> use the chr(0x2558) to convert to character"
   ],
   "metadata": {
    "collapsed": false
   }
  },
  {
   "metadata": {
    "ExecuteTime": {
     "end_time": "2024-09-07T16:16:45.737032Z",
     "start_time": "2024-09-07T16:16:42.303632Z"
    }
   },
   "cell_type": "code",
   "source": [
    "MORSE_CODE_DICT = {\n",
    "    'A': '.-', 'B': '-...', 'C': '-.-.', 'D': '-..', 'E': '.', 'F': '..-.',\n",
    "    'G': '--.', 'H': '....', 'I': '..', 'J': '.---', 'K': '-.-', 'L': '.-..',\n",
    "    'M': '--', 'N': '-.', 'O': '---', 'P': '.--.', 'Q': '--.-', 'R': '.-.',\n",
    "    'S': '...', 'T': '-', 'U': '..-', 'V': '...-', 'W': '.--', 'X': '-..-',\n",
    "    'Y': '-.--', 'Z': '--..',\n",
    "    '1': '.----', '2': '..---', '3': '...--', '4': '....-', '5': '.....',\n",
    "    '6': '-....', '7': '--...', '8': '---..', '9': '----.', '0': '-----',\n",
    "    '.': '.-.-.-', ',': '--..--', '?': '..--..', \"'\": '.----.', '!': '-.-.--',\n",
    "    '/': '-..-.', '(': '-.--.', ')': '-.--.-', '&': '.-...', ':': '---...', \n",
    "    ';': '-.-.-.', '=': '-...-', '+': '.-.-.', '-': '-....-', '_': '..--.-',\n",
    "    '\"': '.-..-.', '@': '.--.-', ' ': '/'\n",
    "}\n",
    "\n",
    "def text_to_morse(text):\n",
    "    text = text.upper()\n",
    "    morse_code = []\n",
    "    for char in text:\n",
    "        if char in MORSE_CODE_DICT:\n",
    "            morse_code.append(MORSE_CODE_DICT[char])\n",
    "        else:\n",
    "            morse_code.append('')  # Handle characters not in dictionary\n",
    "\n",
    "    return ' '.join(morse_code)\n",
    "\n",
    "input_text = input(\"Write your sentence\")\n",
    "morse_code = text_to_morse(input_text)\n",
    "print(f\"The sentence is: {input_text}\")\n",
    "print(f\"Morse Code: {morse_code}\")"
   ],
   "outputs": [
    {
     "name": "stdout",
     "output_type": "stream",
     "text": [
      "The sentence is: i am nine\n",
      "Morse Code: .. / .- -- / -. .. -. .\n"
     ]
    }
   ],
   "execution_count": 24
  },
  {
   "cell_type": "code",
   "execution_count": null,
   "outputs": [],
   "source": [],
   "metadata": {
    "collapsed": false
   }
  },
  {
   "cell_type": "markdown",
   "source": [
    "### Task 3 Largest Formed Number - just for fun\n",
    "\n",
    "Write a program that accepts a list of four non negative integers, arranges them such that they form a largest possible number.\n",
    "\n",
    "For example [50,2,1,9], the largest formed number is 95021\n",
    "\n",
    "Be carefull if [10,1] the answer is not 101 but 110"
   ],
   "metadata": {
    "collapsed": false
   }
  },
  {
   "cell_type": "code",
   "execution_count": null,
   "outputs": [],
   "source": [],
   "metadata": {
    "collapsed": false
   }
  }
 ],
 "metadata": {
  "kernelspec": {
   "display_name": "Python 3",
   "language": "python",
   "name": "python3"
  },
  "language_info": {
   "codemirror_mode": {
    "name": "ipython",
    "version": 2
   },
   "file_extension": ".py",
   "mimetype": "text/x-python",
   "name": "python",
   "nbconvert_exporter": "python",
   "pygments_lexer": "ipython2",
   "version": "2.7.6"
  }
 },
 "nbformat": 4,
 "nbformat_minor": 0
}
