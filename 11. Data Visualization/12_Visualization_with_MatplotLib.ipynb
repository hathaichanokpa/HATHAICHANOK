{
 "cells": [
  {
   "cell_type": "markdown",
   "metadata": {
    "id": "s0qkZX6YrErT"
   },
   "source": [
    "# Ploting and Visulization"
   ]
  },
  {
   "cell_type": "markdown",
   "metadata": {
    "id": "pqn2B3c-rIJ9"
   },
   "source": [
    "Making the informative visualization\n",
    "* showing the relation of the data\n",
    "* easily explain the data"
   ]
  },
  {
   "cell_type": "markdown",
   "metadata": {
    "id": "aJ6gAfUCrOjj"
   },
   "source": [
    "## Mathplotlib\n",
    "* The MATLAB-like plotting interface in Python\n",
    "* can export to all common vector and raster graphics format\n"
   ]
  },
  {
   "cell_type": "code",
   "execution_count": null,
   "metadata": {
    "id": "v5hcI2Dvrfn8"
   },
   "outputs": [],
   "source": [
    "# Setup the lab execution\n",
    "import numpy as np\n",
    "import pandas as pd\n",
    "PREVIOUS_MAX_ROWS = pd.options.display.max_rows\n",
    "pd.options.display.max_rows = 20\n",
    "np.random.seed(12345)\n",
    "import matplotlib.pyplot as plt\n",
    "import matplotlib\n",
    "plt.rc('figure', figsize=(10, 6))\n",
    "np.set_printoptions(precision=4, suppress=True)"
   ]
  },
  {
   "cell_type": "markdown",
   "metadata": {
    "id": "5WMv7WJ7sNDt"
   },
   "source": [
    "Try to create the simple plot as given"
   ]
  },
  {
   "cell_type": "code",
   "execution_count": null,
   "metadata": {
    "colab": {
     "base_uri": "https://localhost:8080/",
     "height": 391
    },
    "id": "U4OOtcmDq9b8",
    "outputId": "3c2cecef-a4ba-4b76-9850-9fe0aabaaa1f"
   },
   "outputs": [],
   "source": [
    "import matplotlib.pyplot as plt\n",
    "import numpy as np\n",
    "data = np.arange(10)\n",
    "data\n",
    "plt.plot(data)"
   ]
  },
  {
   "cell_type": "code",
   "execution_count": null,
   "metadata": {
    "id": "Z5cRrziCQbe2"
   },
   "outputs": [],
   "source": []
  },
  {
   "cell_type": "code",
   "execution_count": null,
   "metadata": {
    "colab": {
     "base_uri": "https://localhost:8080/"
    },
    "id": "utoHPC-1sbvo",
    "outputId": "49d8396c-f081-4ff6-9170-cfd874595b89"
   },
   "outputs": [],
   "source": [
    "data"
   ]
  },
  {
   "cell_type": "markdown",
   "metadata": {
    "id": "9n21rvpesgps"
   },
   "source": [
    "## Figures and Subplots\n",
    "Plots in matplotlib is provided inside the `Figure` object. The new figure is provided by"
   ]
  },
  {
   "cell_type": "code",
   "execution_count": null,
   "metadata": {
    "colab": {
     "base_uri": "https://localhost:8080/",
     "height": 34
    },
    "id": "CxVFgfIusxX2",
    "outputId": "379a06e0-f47b-4667-cc9f-85da6c4d967a"
   },
   "outputs": [],
   "source": [
    "fig = plt.figure()"
   ]
  },
  {
   "cell_type": "markdown",
   "metadata": {
    "id": "zafnXrO0s2ea"
   },
   "source": [
    "> There is nothing now because it is the plain figure\n",
    "\n",
    "we need to provide the plot in the figure by adding the supplot as given\n"
   ]
  },
  {
   "cell_type": "code",
   "execution_count": null,
   "metadata": {
    "id": "Mt0a_Q9StL_V"
   },
   "outputs": [],
   "source": [
    "ax1 = fig.add_subplot(2, 2, 1)"
   ]
  },
  {
   "cell_type": "markdown",
   "metadata": {
    "id": "hU4s4UuOtP4d"
   },
   "source": [
    "This means the figure should be 2x2 (four plot in total)\n",
    "\n",
    "and the `ax1` is in the firt of for subplot"
   ]
  },
  {
   "cell_type": "markdown",
   "metadata": {
    "id": "Rta4N29itbMk"
   },
   "source": [
    "Try to add the other two subplot as given"
   ]
  },
  {
   "cell_type": "code",
   "execution_count": null,
   "metadata": {
    "id": "H0pc0PkKtfF3"
   },
   "outputs": [],
   "source": [
    "ax2 = fig.add_subplot(2, 2, 2)\n",
    "ax3 = fig.add_subplot(2, 2, 3)"
   ]
  },
  {
   "cell_type": "markdown",
   "metadata": {
    "id": "43mlDFCAtqZ7"
   },
   "source": [
    "Then call the `fig` object to see the result"
   ]
  },
  {
   "cell_type": "code",
   "execution_count": null,
   "metadata": {
    "colab": {
     "base_uri": "https://localhost:8080/",
     "height": 378
    },
    "id": "JyY1uxkCtmJy",
    "outputId": "e1ebd7ea-0088-41bb-d257-69dc1340cb4c"
   },
   "outputs": [],
   "source": [
    "fig"
   ]
  },
  {
   "cell_type": "markdown",
   "metadata": {
    "id": "gTIvFpFmt--I"
   },
   "source": [
    "we can plot each subplot using the varialbe we receive\n",
    "\n",
    "\n"
   ]
  },
  {
   "cell_type": "code",
   "execution_count": null,
   "metadata": {
    "colab": {
     "base_uri": "https://localhost:8080/"
    },
    "id": "ZX88RdbquCSQ",
    "outputId": "3e290d14-1003-4668-dd08-b8ff00c4de2f"
   },
   "outputs": [],
   "source": [
    "\n",
    "ax3.plot([1.5,3.5,-2,1.6])\n"
   ]
  },
  {
   "cell_type": "code",
   "execution_count": null,
   "metadata": {
    "colab": {
     "base_uri": "https://localhost:8080/",
     "height": 378
    },
    "id": "4lil3M7cur6Y",
    "outputId": "7f561529-b4a4-40b1-dd25-9904d91c1091"
   },
   "outputs": [],
   "source": [
    "fig"
   ]
  },
  {
   "cell_type": "markdown",
   "metadata": {
    "id": "4Y-nKIeveEzo"
   },
   "source": [
    "The other type of plotting may be provided"
   ]
  },
  {
   "cell_type": "code",
   "execution_count": null,
   "metadata": {
    "colab": {
     "base_uri": "https://localhost:8080/"
    },
    "id": "4mKnUDv3wz7S",
    "outputId": "a3319a6e-947c-4024-ce7c-b839b7bfc036"
   },
   "outputs": [],
   "source": [
    "ax1.hist(np.random.randn(100), bins=20, color='k', alpha=0.3)"
   ]
  },
  {
   "cell_type": "code",
   "execution_count": null,
   "metadata": {
    "colab": {
     "base_uri": "https://localhost:8080/",
     "height": 378
    },
    "id": "8sgRKT2ew2YI",
    "outputId": "2a596c79-4828-4332-8795-94a4a41260da"
   },
   "outputs": [],
   "source": [
    "fig"
   ]
  },
  {
   "cell_type": "markdown",
   "metadata": {
    "id": "7Z1MJZH9eVjC"
   },
   "source": [
    "Or the scatter graph"
   ]
  },
  {
   "cell_type": "code",
   "execution_count": null,
   "metadata": {
    "colab": {
     "base_uri": "https://localhost:8080/",
     "height": 374
    },
    "id": "3vOs4mJ5xAyR",
    "outputId": "c02dff64-eac7-4abc-d4bf-7db16bdcb8ed"
   },
   "outputs": [],
   "source": [
    "ax2.scatter(np.arange(30), np.arange(30) + 3 * np.random.randn(30))\n",
    "fig"
   ]
  },
  {
   "cell_type": "markdown",
   "metadata": {
    "id": "pvFFL0AytklY"
   },
   "source": [
    "The subplot can be modified by creating the subplot using the given options"
   ]
  },
  {
   "cell_type": "markdown",
   "metadata": {
    "id": "Kiat6a7yel6V"
   },
   "source": [
    "![image-25661025100436553](./assets/image-25661025100436553.png)"
   ]
  },
  {
   "cell_type": "code",
   "execution_count": null,
   "metadata": {
    "colab": {
     "base_uri": "https://localhost:8080/",
     "height": 374
    },
    "id": "0nJrcfUJep1A",
    "outputId": "231df3ef-dc5f-46ec-993a-7f5577840b61"
   },
   "outputs": [],
   "source": [
    "fig, axes = plt.subplots(2, 2, sharex=True, sharey=True)\n",
    "for i in range(2):\n",
    "    for j in range(2):\n",
    "        axes[i, j].hist(np.random.randn(500), bins=50, color='k', alpha=0.5)\n",
    "plt.subplots_adjust(wspace=0, hspace=0)"
   ]
  },
  {
   "cell_type": "markdown",
   "metadata": {
    "id": "rRh1SW5Fe628"
   },
   "source": [
    "## Colors, Markers, and Line Styles\n",
    "\n",
    "Ploting wiht plt.plot will create a new figure\n",
    "\n",
    "we can set the color or the line styles of the plot as given\n"
   ]
  },
  {
   "cell_type": "code",
   "execution_count": null,
   "metadata": {
    "colab": {
     "base_uri": "https://localhost:8080/",
     "height": 391
    },
    "id": "QLDEMZdCfPVC",
    "outputId": "1119dd79-c7d4-4879-9246-7152c12455ac"
   },
   "outputs": [],
   "source": [
    "from numpy.random import randn\n",
    "plt.plot(randn(30).cumsum(), 'H:r')"
   ]
  },
  {
   "cell_type": "markdown",
   "metadata": {
    "id": "XP-CvFlbfjCC"
   },
   "source": [
    "which is equivalent to"
   ]
  },
  {
   "cell_type": "code",
   "execution_count": null,
   "metadata": {
    "colab": {
     "base_uri": "https://localhost:8080/",
     "height": 391
    },
    "id": "DlsxhtILfkkC",
    "outputId": "3df385da-a6e4-461b-df5d-c025b82263ca"
   },
   "outputs": [],
   "source": []
  },
  {
   "cell_type": "code",
   "source": [
    "plt.plot(randn(30).cumsum(), '*-.b')"
   ],
   "metadata": {
    "colab": {
     "base_uri": "https://localhost:8080/",
     "height": 391
    },
    "id": "ooRhx21NGxvc",
    "outputId": "852040c3-8e0b-4b6d-f09a-93d35dff3d69"
   },
   "execution_count": null,
   "outputs": []
  },
  {
   "cell_type": "markdown",
   "metadata": {
    "id": "LDDgxi4igDtU"
   },
   "source": [
    "you may google \"*pyplot plot options*\" to see all the options.\n",
    "\n",
    "This may be led to this [web site](https://matplotlib.org/3.1.1/api/_as_gen/matplotlib.pyplot.plot.html)"
   ]
  },
  {
   "cell_type": "markdown",
   "metadata": {
    "id": "qGBILo9SgQyt"
   },
   "source": [
    "You can try the other styles setting as given"
   ]
  },
  {
   "cell_type": "code",
   "execution_count": null,
   "metadata": {
    "colab": {
     "base_uri": "https://localhost:8080/",
     "height": 391
    },
    "id": "1nHkSYjygWn9",
    "outputId": "5d37d05d-68a9-4d6c-e5be-549b15487ec3"
   },
   "outputs": [],
   "source": [
    "data = np.random.randn(30).cumsum()\n",
    "plt.plot(data, 'k--', label='Default')\n",
    "plt.plot(data, 'k-', drawstyle='steps-post', label='steps-post')\n",
    "plt.legend(loc='best')"
   ]
  },
  {
   "cell_type": "markdown",
   "metadata": {
    "id": "0OkWjjwFgskk"
   },
   "source": []
  },
  {
   "cell_type": "code",
   "execution_count": null,
   "metadata": {
    "colab": {
     "base_uri": "https://localhost:8080/",
     "height": 391
    },
    "id": "pZxQKcgrglzw",
    "outputId": "0bd37c06-e2b4-4240-aac4-107e9f26149d"
   },
   "outputs": [],
   "source": [
    "plt.plot(data, 'k--', label='Default')"
   ]
  },
  {
   "cell_type": "code",
   "execution_count": null,
   "metadata": {
    "colab": {
     "base_uri": "https://localhost:8080/",
     "height": 391
    },
    "id": "pcbkgAEZgnv-",
    "outputId": "8adf0d80-8b9a-488e-b72c-75218cbac90f"
   },
   "outputs": [],
   "source": [
    "plt.plot(data, 'k-', drawstyle='steps-post', label='steps-post')"
   ]
  },
  {
   "cell_type": "code",
   "execution_count": null,
   "metadata": {
    "colab": {
     "base_uri": "https://localhost:8080/",
     "height": 413
    },
    "id": "1kr-blqShJYQ",
    "outputId": "0da22d35-3306-4686-cae1-30932a1a4d05"
   },
   "outputs": [],
   "source": [
    "plt.plot(data, 'k-', drawstyle='steps-post', label='steps-post')\n",
    "plt.legend(loc='best')"
   ]
  },
  {
   "cell_type": "markdown",
   "metadata": {
    "id": "Uha2bLxBhVWV"
   },
   "source": [
    "To draw the same figures in the different cell, the subplot is required"
   ]
  },
  {
   "cell_type": "markdown",
   "metadata": {
    "id": "-f982e1LhK8O"
   },
   "source": [
    "## Ticks, Labels, and Legends"
   ]
  },
  {
   "cell_type": "markdown",
   "metadata": {
    "id": "yQXwF8vchnXG"
   },
   "source": [
    "When we need to setting the label, and range of x-axis. the matplotlib also provided the functions to call set this values.\n",
    "Provide the graph as given\n"
   ]
  },
  {
   "cell_type": "code",
   "execution_count": null,
   "metadata": {
    "colab": {
     "base_uri": "https://localhost:8080/",
     "height": 391
    },
    "id": "mj1s8lg_h4Ba",
    "outputId": "94915722-2866-4a5d-ce73-e085c8796040"
   },
   "outputs": [],
   "source": [
    "fig = plt.figure()\n",
    "ax = fig.add_subplot(1, 1, 1)\n",
    "ax.plot(np.random.randn(1000).cumsum())"
   ]
  },
  {
   "cell_type": "markdown",
   "metadata": {
    "id": "B_G-B3Sch-wb"
   },
   "source": [
    "Setting the ticks and label\n",
    "tics is the point that will show the value."
   ]
  },
  {
   "cell_type": "code",
   "execution_count": null,
   "metadata": {
    "colab": {
     "base_uri": "https://localhost:8080/",
     "height": 374
    },
    "id": "AqK-OYUgiKCW",
    "outputId": "8fc61815-3c3b-485a-8568-60a64956f51d"
   },
   "outputs": [],
   "source": [
    "ticks = ax.set_xticks([0, 250, 500, 750, 1000])\n",
    "fig"
   ]
  },
  {
   "cell_type": "markdown",
   "metadata": {
    "id": "pyeL7XYQiNk-"
   },
   "source": [
    "each Tick can change to the new label"
   ]
  },
  {
   "cell_type": "code",
   "execution_count": null,
   "metadata": {
    "colab": {
     "base_uri": "https://localhost:8080/",
     "height": 383
    },
    "id": "3flfQx9ciQsZ",
    "outputId": "3af6c186-a3bc-4849-ae49-681b83396cb0"
   },
   "outputs": [],
   "source": [
    "labels = ax.set_xticklabels(['one', 'two', 'three', 'four', 'five'],\n",
    "                            rotation=30, fontsize='small')\n",
    "fig"
   ]
  },
  {
   "cell_type": "markdown",
   "metadata": {
    "id": "3l_9qvFLibSz"
   },
   "source": [
    "## Adding a legends\n",
    "\n",
    "The label input parameters is used to show the label.\n",
    "\n",
    "\n",
    "\n",
    "> You have to set the different format for each of the graph\n",
    "\n",
    "\n"
   ]
  },
  {
   "cell_type": "code",
   "execution_count": null,
   "metadata": {
    "colab": {
     "base_uri": "https://localhost:8080/",
     "height": 391
    },
    "id": "18Ww54ACi0M-",
    "outputId": "89673d18-b9fc-4819-d6d1-471759003ff5"
   },
   "outputs": [],
   "source": [
    "from numpy.random import randn\n",
    "fig = plt.figure(); ax = fig.add_subplot(1, 1, 1)\n",
    "ax.plot(randn(1000).cumsum(), 'k', label='one')\n",
    "ax.plot(randn(1000).cumsum(), 'k--', label='two')\n",
    "ax.plot(randn(1000).cumsum(), 'k.', label='three')"
   ]
  },
  {
   "cell_type": "markdown",
   "metadata": {
    "id": "M_9UBl8Fi3ng"
   },
   "source": [
    "to set the Legend add code"
   ]
  },
  {
   "cell_type": "code",
   "execution_count": null,
   "metadata": {
    "colab": {
     "base_uri": "https://localhost:8080/",
     "height": 374
    },
    "id": "YMfJ3M0hi6hs",
    "outputId": "eb4b48b9-d69c-47ce-8e89-6e30d34287ce"
   },
   "outputs": [],
   "source": [
    "ax.legend(loc='best')\n",
    "fig"
   ]
  },
  {
   "cell_type": "markdown",
   "metadata": {
    "id": "7pG2g6Rli_rZ"
   },
   "source": [
    "The `loc = 'best'` will find the best location to put the legend.\n",
    "\n",
    "You can fix to somewhere else by checking the input paramters of the legends functions"
   ]
  },
  {
   "cell_type": "markdown",
   "metadata": {
    "id": "hrUfih9gjRFe"
   },
   "source": [
    "## Annotations and Drawing Subplot\n",
    "\n",
    "We can draw our own plot annotation.\n",
    "try drawing this given [files](https://drive.google.com/file/d/1kS5gM474w1AbYyPFMyTQdpp4hBtHDqJh/view?usp=sharing)"
   ]
  },
  {
   "cell_type": "markdown",
   "metadata": {
    "id": "hmUPV7BelQ8z"
   },
   "source": [
    "![image.png](data:image/png;base64,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)"
   ]
  },
  {
   "cell_type": "code",
   "execution_count": null,
   "metadata": {
    "colab": {
     "base_uri": "https://localhost:8080/",
     "height": 378
    },
    "id": "st42saSik6i4",
    "outputId": "b57b4990-b41c-4f66-a556-136aa5fbf846"
   },
   "outputs": [],
   "source": [
    "from datetime import datetime\n",
    "import pandas as pd\n",
    "fig = plt.figure()\n",
    "ax = fig.add_subplot(1, 1, 1)\n",
    "\n",
    "data = pd.read_csv('examples/spx.csv', index_col=0, parse_dates=True)"
   ]
  },
  {
   "cell_type": "code",
   "execution_count": null,
   "metadata": {
    "colab": {
     "base_uri": "https://localhost:8080/",
     "height": 424
    },
    "id": "ZlM4VVAIlXk0",
    "outputId": "827cbdd4-034f-42c1-ec90-bd33247c1cfc"
   },
   "outputs": [],
   "source": [
    "data"
   ]
  },
  {
   "cell_type": "code",
   "execution_count": null,
   "metadata": {
    "colab": {
     "base_uri": "https://localhost:8080/",
     "height": 353
    },
    "id": "eJGsXC-2lJSB",
    "outputId": "c3cdbfc4-e27e-4b4f-83ae-e03bfbca45b9"
   },
   "outputs": [],
   "source": [
    "spx = data['SPX']\n",
    "\n",
    "spx.plot(ax=ax, style='k-')\n",
    "fig"
   ]
  },
  {
   "cell_type": "code",
   "execution_count": null,
   "metadata": {
    "colab": {
     "base_uri": "https://localhost:8080/",
     "height": 385
    },
    "id": "M3rWU8QNlcbd",
    "outputId": "38f6d2ed-968d-41f5-f53d-f0b3bf8d4054"
   },
   "outputs": [],
   "source": [
    "crisis_data = [\n",
    "    (datetime(2007, 10, 11), 'Peak of bull market'),\n",
    "    (datetime(2008, 3, 12), 'Bear Stearns Fails'),\n",
    "    (datetime(2008, 9, 15), 'Lehman Bankruptcy')\n",
    "]\n",
    "\n",
    "for date, label in crisis_data:\n",
    "    ax.annotate(label, xy=(date, spx.asof(date) + 75),\n",
    "                xytext=(date, spx.asof(date) + 225),\n",
    "                arrowprops=dict(facecolor='black', headwidth=4, width=2,\n",
    "                                headlength=4),\n",
    "                horizontalalignment='left', verticalalignment='top')\n",
    "fig"
   ]
  },
  {
   "cell_type": "code",
   "execution_count": null,
   "metadata": {
    "colab": {
     "base_uri": "https://localhost:8080/",
     "height": 377
    },
    "id": "2DCIezBHlr5m",
    "outputId": "ec148dcf-34c5-417a-b0c7-c2c268a165ed"
   },
   "outputs": [],
   "source": [
    "# Zoom in on 2007-2010\n",
    "ax.set_xlim(['1/1/2007', '1/1/2011'])\n",
    "ax.set_ylim([600, 1800])\n",
    "\n",
    "ax.set_title('Important dates in the 2008-2009 financial crisis')\n",
    "fig"
   ]
  },
  {
   "cell_type": "code",
   "execution_count": null,
   "metadata": {
    "colab": {
     "base_uri": "https://localhost:8080/"
    },
    "id": "D_gTiwNXlwIh",
    "outputId": "73bf89a6-e829-4ca8-9c27-054b3790cbd2"
   },
   "outputs": [],
   "source": [
    "ax.set_title('Important dates in the 2008–2009 financial crisis')"
   ]
  },
  {
   "cell_type": "markdown",
   "metadata": {
    "id": "bf8V_7EXmKEy"
   },
   "source": [
    "## Saving plot to file\n",
    "\n",
    "we can save the image to the file for the further usage with the simple save command as given"
   ]
  },
  {
   "cell_type": "code",
   "execution_count": null,
   "metadata": {
    "id": "ld51gMjvmYqx"
   },
   "outputs": [],
   "source": [
    "fig.savefig('save1.svg')"
   ]
  },
  {
   "cell_type": "markdown",
   "metadata": {
    "id": "sL9bH33bmmhA"
   },
   "source": [
    "or the extensions of the file name will define the file type.\n",
    "\n",
    "we can set the output qulaty with the dpi parameter (dot per inch)\n"
   ]
  },
  {
   "cell_type": "code",
   "execution_count": null,
   "metadata": {
    "id": "bq1WrhNkm1nn"
   },
   "outputs": [],
   "source": [
    "fig.savefig('figpath.png', dpi=400, bbox_inches='tight')"
   ]
  },
  {
   "cell_type": "markdown",
   "metadata": {
    "id": "IfQDFW4VnFRk"
   },
   "source": [
    "Other input parameter are"
   ]
  },
  {
   "cell_type": "markdown",
   "metadata": {
    "id": "eyMKwxqcnIkm"
   },
   "source": [
    "![image.png](data:image/png;base64,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)"
   ]
  },
  {
   "cell_type": "markdown",
   "metadata": {
    "id": "VRubgJrxBcGw"
   },
   "source": [
    "## Work\n",
    "\n",
    "From the Thai/US Exchange data rate from The provider of the data is from Fred, St.Louis Fed (The St.Lous Fed code is DEXTHUS)\n",
    "\n",
    "Draw the graph of the exchange rate between 2020-2023 and then write the annotation to show the maximum and minimum exchange rate.\n"
   ]
  },
  {
   "cell_type": "markdown",
   "metadata": {
    "id": "QpcTmDCNnM_o"
   },
   "source": [
    "# Plotting with pandas and seaborn\n",
    "\n",
    "matplotlib is a bit low level.\n",
    "\n",
    "we need to set all the data manually with each plot\n",
    "\n",
    "Pandas provide the methods for plotting data in the Series directly\n",
    "\n",
    "The Seaborn is the other library used for the sttistical graphics library which help creating the common visualizations types, and setting the default colours.\n",
    "\n",
    "we can see from the example\n",
    "\n",
    "\n"
   ]
  },
  {
   "cell_type": "code",
   "execution_count": null,
   "metadata": {
    "id": "OV0JfK9HnuWo"
   },
   "outputs": [],
   "source": [
    "plt.close('all')"
   ]
  },
  {
   "cell_type": "code",
   "execution_count": null,
   "metadata": {
    "colab": {
     "base_uri": "https://localhost:8080/",
     "height": 391
    },
    "id": "RGJon7eonvbI",
    "outputId": "e6035518-56dd-479d-8865-7182e0f09ee4"
   },
   "outputs": [],
   "source": [
    "s = pd.Series(np.random.randn(10).cumsum(), index=np.arange(0, 100, 10))\n",
    "s.plot()"
   ]
  },
  {
   "cell_type": "markdown",
   "metadata": {
    "id": "ngfDbqBhn0cv"
   },
   "source": [
    "or we can draw from the Pandas Data frame. Each columns will be the label automatically\n",
    "\n",
    "The plot parameter can be applied here."
   ]
  },
  {
   "cell_type": "code",
   "execution_count": null,
   "metadata": {
    "colab": {
     "base_uri": "https://localhost:8080/",
     "height": 363
    },
    "id": "JIM7I7BIonHN",
    "outputId": "5608cd3b-678e-4a86-b47a-759153a4c54d"
   },
   "outputs": [],
   "source": [
    "df = pd.DataFrame(np.random.randn(10, 4).cumsum(0),\n",
    "                  columns=['A', 'B', 'C', 'D'],\n",
    "                  index=np.arange(0, 100, 10))\n",
    "df"
   ]
  },
  {
   "cell_type": "code",
   "execution_count": null,
   "metadata": {
    "colab": {
     "base_uri": "https://localhost:8080/",
     "height": 391
    },
    "id": "1PgPYHcJlOMl",
    "outputId": "1f76b624-f0f1-44dd-ea5d-ec37315da059"
   },
   "outputs": [],
   "source": [
    "df.plot()"
   ]
  },
  {
   "cell_type": "markdown",
   "metadata": {
    "id": "tL6RhJ9-pDd6"
   },
   "source": [
    "## Bar Plots\n",
    "the `plot.bar()` and `plot.barh()` make a vertical and horizaontal bar plots.\n",
    "\n",
    "The index will be used as `x` (bar) or `y` bar ticks"
   ]
  },
  {
   "cell_type": "code",
   "execution_count": null,
   "metadata": {
    "colab": {
     "base_uri": "https://localhost:8080/",
     "height": 391
    },
    "id": "2zJMgmYApWR-",
    "outputId": "56c5184d-9209-434c-c836-9d52a7dc69aa"
   },
   "outputs": [],
   "source": [
    "fig, axes = plt.subplots(2, 1)\n",
    "data = pd.Series(np.random.rand(16), index=list('abcdefghijklmnop'))\n",
    "data.plot.bar(ax=axes[0], color='k', alpha=0.7)\n",
    "data.plot.barh(ax=axes[1], color='k', alpha=0.7)"
   ]
  },
  {
   "cell_type": "code",
   "execution_count": null,
   "metadata": {
    "colab": {
     "base_uri": "https://localhost:8080/"
    },
    "id": "Sgl6hpdGluGl",
    "outputId": "8e3069f9-9584-428a-b340-557aa1da60cd"
   },
   "outputs": [],
   "source": [
    "data"
   ]
  },
  {
   "cell_type": "markdown",
   "metadata": {
    "id": "Szfp_nhapjyL"
   },
   "source": [
    "`k` is black\n",
    "\n",
    "`alpha = 0.7` is the partial transparentcy color to be filled"
   ]
  },
  {
   "cell_type": "markdown",
   "metadata": {
    "id": "R7fdi1ZzpuPT"
   },
   "source": [
    "For the dta frame the colus can be set . the name value is used as the title legend\n"
   ]
  },
  {
   "cell_type": "code",
   "execution_count": null,
   "metadata": {
    "colab": {
     "base_uri": "https://localhost:8080/",
     "height": 409
    },
    "id": "OK6huqMTp1dB",
    "outputId": "c60cc83e-8670-44eb-9cee-c5b45f71ceb4"
   },
   "outputs": [],
   "source": [
    "df = pd.DataFrame(np.random.rand(6, 4),\n",
    "                  index=['one', 'two', 'three', 'four', 'five', 'six'],\n",
    "                  columns=pd.Index(['A', 'B', 'C', 'D'], name='Genus'))\n",
    "df\n",
    "df.plot.bar()"
   ]
  },
  {
   "cell_type": "code",
   "execution_count": null,
   "metadata": {
    "colab": {
     "base_uri": "https://localhost:8080/",
     "height": 238
    },
    "id": "lwhLjFeKmMNS",
    "outputId": "82b8f3ce-dd95-4fff-8610-d3ea677657ec"
   },
   "outputs": [],
   "source": [
    "df"
   ]
  },
  {
   "cell_type": "markdown",
   "metadata": {
    "id": "xdMxE4aBp52H"
   },
   "source": [
    "If we want the stack bars form the given value can be provided\n",
    "\n"
   ]
  },
  {
   "cell_type": "code",
   "execution_count": null,
   "metadata": {
    "colab": {
     "base_uri": "https://localhost:8080/",
     "height": 391
    },
    "id": "Wlm5-eiFp_ds",
    "outputId": "42a3b48a-c481-44b4-c055-f1bf2138ab9b"
   },
   "outputs": [],
   "source": [
    "df.plot.barh(stacked=True, alpha=0.5)"
   ]
  },
  {
   "cell_type": "markdown",
   "metadata": {
    "id": "Kbm9LHPvqUuH"
   },
   "source": [
    "If we want to do the tipping on the stack bar. to show percentage of data.\n",
    "\n",
    "lets see this examples/tips.csv\n",
    "\n"
   ]
  },
  {
   "cell_type": "code",
   "execution_count": null,
   "metadata": {
    "colab": {
     "base_uri": "https://localhost:8080/",
     "height": 424
    },
    "id": "cfiQ-eNTqwGn",
    "outputId": "f79ae89e-a7e0-4910-e05a-3e7009a1fe47"
   },
   "outputs": [],
   "source": [
    "tips = pd.read_csv('examples/tips.csv')\n",
    "tips"
   ]
  },
  {
   "cell_type": "markdown",
   "metadata": {
    "id": "E1uqYkj9q5mx"
   },
   "source": [
    "We can create the cross value as the pivot table to find the relations between data in the dataframe"
   ]
  },
  {
   "cell_type": "code",
   "execution_count": null,
   "metadata": {
    "colab": {
     "base_uri": "https://localhost:8080/",
     "height": 206
    },
    "id": "HaRN17f7q5Qo",
    "outputId": "d7768a09-ebe0-4ff9-ae34-eea7ef6f7093"
   },
   "outputs": [],
   "source": [
    "party_counts = pd.crosstab(tips['day'], tips['size'])\n",
    "party_counts"
   ]
  },
  {
   "cell_type": "markdown",
   "metadata": {
    "id": "tiH0Fc5DrRZY"
   },
   "source": [
    "then we remove the size of party 1 and 6 as there are not many event occurs"
   ]
  },
  {
   "cell_type": "code",
   "execution_count": null,
   "metadata": {
    "colab": {
     "base_uri": "https://localhost:8080/",
     "height": 206
    },
    "id": "TvnAxyvfrcuV",
    "outputId": "b697ada1-764e-45ed-f83f-a57417a5c0bc"
   },
   "outputs": [],
   "source": [
    "# Not many 1- and 6-person parties\n",
    "party_counts = party_counts.loc[:, 2:5]\n",
    "party_counts"
   ]
  },
  {
   "cell_type": "markdown",
   "metadata": {
    "id": "IQ_a4kwKrf_1"
   },
   "source": [
    "Then we normalize each row to 1"
   ]
  },
  {
   "cell_type": "code",
   "execution_count": null,
   "metadata": {
    "colab": {
     "base_uri": "https://localhost:8080/"
    },
    "id": "8GrTxPmCsF6X",
    "outputId": "4c814d1f-0aa0-4be1-f568-30a928bf72f2"
   },
   "outputs": [],
   "source": [
    "party_counts.sum(1)"
   ]
  },
  {
   "cell_type": "code",
   "execution_count": null,
   "metadata": {
    "colab": {
     "base_uri": "https://localhost:8080/",
     "height": 206
    },
    "id": "taDbg67ysOcF",
    "outputId": "6a74dafa-c7f1-467d-bc1e-6be87bdc6564"
   },
   "outputs": [],
   "source": [
    "party_pcts = party_counts.div(party_counts.sum(1), axis=0)\n",
    "party_pcts"
   ]
  },
  {
   "cell_type": "code",
   "execution_count": null,
   "metadata": {
    "colab": {
     "base_uri": "https://localhost:8080/",
     "height": 418
    },
    "id": "6YhHy4GUsQh8",
    "outputId": "135634c3-ec9d-48c3-ce7d-13049760a339"
   },
   "outputs": [],
   "source": [
    "party_pcts.plot.bar()"
   ]
  },
  {
   "cell_type": "markdown",
   "metadata": {
    "id": "jZEHVXJesh0W"
   },
   "source": [
    "There are many data cleansing before ploting the graph.\n",
    "\n",
    "\n",
    "With Seaborn we can set the output easier.\n"
   ]
  },
  {
   "cell_type": "code",
   "execution_count": null,
   "metadata": {
    "colab": {
     "base_uri": "https://localhost:8080/",
     "height": 406
    },
    "id": "8lROqmhIsw05",
    "outputId": "cdda2b1f-953f-46fd-ea1f-a1bc6275dc59"
   },
   "outputs": [],
   "source": [
    "import seaborn as sns\n",
    "tips['tip_pct'] = tips['tip'] / (tips['total_bill'] - tips['tip'])\n",
    "tips.head()\n",
    "sns.barplot(x='tip_pct', y='day', data=tips, orient='h')"
   ]
  },
  {
   "cell_type": "code",
   "execution_count": null,
   "metadata": {
    "colab": {
     "base_uri": "https://localhost:8080/",
     "height": 206
    },
    "id": "0pGHsJ0Ps5oX",
    "outputId": "d21c6509-ec19-4e4b-e0b9-3b8b6ff3914c"
   },
   "outputs": [],
   "source": [
    "tips.head()"
   ]
  },
  {
   "cell_type": "markdown",
   "metadata": {
    "id": "mDCq9ix1tLI3"
   },
   "source": [
    "`data` argument is the pandas data frame\n",
    "\n",
    "other argument is the column names\n",
    "\n",
    "as there are multiple observations for each value of the day\n",
    "\n",
    "bar are the average value of `tip_pct`\n",
    "\n",
    "the black lines drraw on the bar represent the 95 % confidence interval\n",
    "> can be configured trhough optional argument"
   ]
  },
  {
   "cell_type": "markdown",
   "metadata": {
    "id": "HcX3eozAtvI4"
   },
   "source": [
    "Seaborn.barplot has a hue options that enable us to split by an additional categorical value\n",
    "\n"
   ]
  },
  {
   "cell_type": "code",
   "execution_count": null,
   "metadata": {
    "colab": {
     "base_uri": "https://localhost:8080/",
     "height": 406
    },
    "id": "8ET4QTnDt9Q8",
    "outputId": "7b0290b6-7ec6-4d99-9ed5-31b7f16983b4"
   },
   "outputs": [],
   "source": [
    "sns.barplot(x='tip_pct', y='day', hue='time', data=tips, orient='h')"
   ]
  },
  {
   "cell_type": "markdown",
   "metadata": {
    "id": "efIVg-LLuJP2"
   },
   "source": [
    "## Histograms and Density plot"
   ]
  },
  {
   "cell_type": "code",
   "execution_count": null,
   "metadata": {
    "colab": {
     "base_uri": "https://localhost:8080/",
     "height": 391
    },
    "id": "rbVmzhWIuOPU",
    "outputId": "62c0bd71-de50-4f83-9f9f-2fab809f227d"
   },
   "outputs": [],
   "source": [
    "tips['tip_pct'].plot.hist(bins=50)"
   ]
  },
  {
   "cell_type": "markdown",
   "metadata": {
    "id": "_GEez_RLuXaB"
   },
   "source": [
    "bin is the number of bin to be used\n",
    "\n",
    " the size is calculate automatically regrading to the range of the data\n"
   ]
  },
  {
   "cell_type": "markdown",
   "metadata": {
    "id": "osNvtD5Uuxyi"
   },
   "source": [
    "**A Density plot**\n",
    "\n",
    "formed by computing an estimate of the continuous probability distribution that migh have generated by the observed data"
   ]
  },
  {
   "cell_type": "code",
   "execution_count": null,
   "metadata": {
    "colab": {
     "base_uri": "https://localhost:8080/",
     "height": 391
    },
    "id": "6R0yFAwrvA7o",
    "outputId": "d2016c66-0e2f-4a7c-e4b8-daf5b4d8fdac"
   },
   "outputs": [],
   "source": [
    "tips['tip_pct'].plot.density()"
   ]
  },
  {
   "cell_type": "markdown",
   "metadata": {
    "id": "2zmw7OHZvI8s"
   },
   "source": [
    "The displot methods plot both histogram, and density together\n",
    "\n",
    "try this"
   ]
  },
  {
   "cell_type": "code",
   "execution_count": null,
   "metadata": {
    "colab": {
     "base_uri": "https://localhost:8080/",
     "height": 446
    },
    "id": "hkapOnGxtXDR",
    "outputId": "a57153e5-1088-476c-ae33-c06830ff47ce"
   },
   "outputs": [],
   "source": [
    "comp1 = np.random.normal(0, 1, size=200)\n",
    "comp2 = np.random.normal(10, 2, size=200)\n",
    "values = pd.Series(np.concatenate([comp1, comp2]))\n",
    "sns.displot(values, bins=100, color='k')"
   ]
  },
  {
   "cell_type": "code",
   "execution_count": null,
   "metadata": {
    "colab": {
     "base_uri": "https://localhost:8080/"
    },
    "id": "Gx4QJ2u7rgt3",
    "outputId": "7232d52c-05e7-461c-99df-4a33a62e5be1"
   },
   "outputs": [],
   "source": [
    "comp1"
   ]
  },
  {
   "cell_type": "code",
   "execution_count": null,
   "metadata": {
    "colab": {
     "base_uri": "https://localhost:8080/"
    },
    "id": "j_tuwEOjrinq",
    "outputId": "03853087-b2c3-4478-88f7-bf8ade1fdf00"
   },
   "outputs": [],
   "source": [
    "comp2"
   ]
  },
  {
   "cell_type": "markdown",
   "metadata": {
    "id": "fkZGGHsEvn9-"
   },
   "source": [
    "## Scatter or Point Plot\n",
    "\n",
    "the relationship between data can be show between two one-dimentional data series\n",
    "\n",
    "using the classification\n",
    "\n",
    "try the code with this [data](https://drive.google.com/file/d/13oPwWDrG2Z23XSnGBecEJGsWiRpu1APu/view?usp=sharing)\n",
    "\n",
    "\n"
   ]
  },
  {
   "cell_type": "markdown",
   "metadata": {
    "id": "qQSeX6R1wPlG"
   },
   "source": [
    "![image.png](data:image/png;base64,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)"
   ]
  },
  {
   "cell_type": "code",
   "execution_count": null,
   "metadata": {
    "colab": {
     "base_uri": "https://localhost:8080/",
     "height": 488
    },
    "id": "GyT1JQXYwHUT",
    "outputId": "10d22f1c-ddc1-4430-8491-113e04703c90"
   },
   "outputs": [],
   "source": [
    "macro = pd.read_csv('examples/macrodata.csv')\n",
    "macro"
   ]
  },
  {
   "cell_type": "code",
   "execution_count": null,
   "metadata": {
    "colab": {
     "base_uri": "https://localhost:8080/",
     "height": 424
    },
    "id": "p_IWFaB5wXhb",
    "outputId": "1efdd516-c047-4005-bb13-60f97aef9c4a"
   },
   "outputs": [],
   "source": [
    "data = macro[['cpi', 'm1', 'tbilrate', 'unemp']]\n",
    "data"
   ]
  },
  {
   "cell_type": "code",
   "execution_count": null,
   "metadata": {
    "colab": {
     "base_uri": "https://localhost:8080/",
     "height": 424
    },
    "id": "9CKU2mLFwb2b",
    "outputId": "be77b10e-c9d2-49bc-bc95-94b057fdffcb"
   },
   "outputs": [],
   "source": [
    "trans_data = np.log(data).diff().dropna()\n",
    "trans_data"
   ]
  },
  {
   "cell_type": "code",
   "execution_count": null,
   "metadata": {
    "colab": {
     "base_uri": "https://localhost:8080/",
     "height": 476
    },
    "id": "WLlfVwj5wzdx",
    "outputId": "af58eadf-d22f-4d58-dad7-9e5d4e1194ea"
   },
   "outputs": [],
   "source": [
    "sns.regplot(x='m1', y='unemp', data=trans_data)\n",
    "plt.title('Changes in log %s versus log %s' % ('m1', 'unemp'))"
   ]
  },
  {
   "cell_type": "markdown",
   "metadata": {
    "id": "QsUGbQ2LxCDn"
   },
   "source": [
    "Seaborn will plot the scattering of two value in the ploting, and also calulate the linear regression line so we can see the trend of data"
   ]
  },
  {
   "cell_type": "markdown",
   "metadata": {
    "id": "-fAtkP6GxN6W"
   },
   "source": [
    "We can exploratory the data by using the scattler plots among all groups of the variables.\n",
    "\n",
    "this is call **pairplot** or **scatter plot matrix**.\n",
    "\n"
   ]
  },
  {
   "cell_type": "code",
   "execution_count": null,
   "metadata": {
    "colab": {
     "base_uri": "https://localhost:8080/",
     "height": 743
    },
    "id": "60Xv19fxxdlP",
    "outputId": "981ba8ed-c2b0-4a53-ace9-8afb0034cf87"
   },
   "outputs": [],
   "source": [
    "sns.pairplot(trans_data, diag_kind='kde', plot_kws={'alpha': 0.2})"
   ]
  },
  {
   "cell_type": "markdown",
   "metadata": {
    "id": "doIx_6RcxuTj"
   },
   "source": [
    "The data is shown as histogram or density estimate of each variable along the diagonal.\n"
   ]
  },
  {
   "cell_type": "markdown",
   "metadata": {
    "id": "jSLZ2Ot-yDvt"
   },
   "source": [
    "kde is a layered kernel density estimate"
   ]
  },
  {
   "cell_type": "markdown",
   "metadata": {
    "id": "itB_k_MLyMrJ"
   },
   "source": [
    "### Facet Grids and Categorical Data"
   ]
  },
  {
   "cell_type": "markdown",
   "metadata": {
    "id": "dDCEqBODyTJn"
   },
   "source": [
    "Provide for the data set which we have additional grouping dimension\n",
    "\n",
    "use facet to separate each group\n"
   ]
  },
  {
   "cell_type": "code",
   "execution_count": null,
   "metadata": {
    "colab": {
     "base_uri": "https://localhost:8080/",
     "height": 386
    },
    "id": "fM9IXiUSydHJ",
    "outputId": "cec140df-be99-44e1-8718-a53717da19cd"
   },
   "outputs": [],
   "source": [
    "sns.catplot(x='day', y='tip_pct', hue='time', col='smoker',\n",
    "               kind='bar', data=tips[tips.tip_pct < 1])"
   ]
  },
  {
   "cell_type": "markdown",
   "metadata": {
    "id": "fUK9wdBoygVe"
   },
   "source": [
    "the `hue` parameter groupping the time in each day in the same facet\n",
    "\n",
    "The `column` parameter spand the facet to multiple value of the smoker"
   ]
  },
  {
   "cell_type": "markdown",
   "metadata": {
    "id": "cHBm20MWy3kq"
   },
   "source": [
    "instead of using hue parameter\n",
    "\n",
    "we can create the facet for each row\n"
   ]
  },
  {
   "cell_type": "code",
   "execution_count": null,
   "metadata": {
    "colab": {
     "base_uri": "https://localhost:8080/",
     "height": 746
    },
    "id": "V-IfUIywyCqa",
    "outputId": "74dd5922-7735-404d-d011-b02991e87ed9"
   },
   "outputs": [],
   "source": [
    "sns.catplot(x='day', y='tip_pct', row='time',\n",
    "               col='smoker',\n",
    "               kind='bar', data=tips[tips.tip_pct < 1])"
   ]
  },
  {
   "cell_type": "markdown",
   "metadata": {
    "id": "1q3vdpDe0uwJ"
   },
   "source": [
    "we can also use the box plot\n",
    "\n",
    "which show the median, quartiles, and outliner"
   ]
  },
  {
   "cell_type": "code",
   "execution_count": null,
   "metadata": {
    "colab": {
     "base_uri": "https://localhost:8080/",
     "height": 386
    },
    "id": "FWCJq5W81Eb7",
    "outputId": "c888202f-fc46-4877-b398-c2529ca3d9ba"
   },
   "outputs": [],
   "source": [
    "sns.catplot(x='tip_pct', y='day', kind='box',\n",
    "               data=tips[tips.tip_pct < 0.5])"
   ]
  },
  {
   "cell_type": "markdown",
   "metadata": {
    "id": "M30GYNMJ1NDq"
   },
   "source": [
    "you can create more facet grid class from the seaborn documents"
   ]
  },
  {
   "cell_type": "markdown",
   "metadata": {
    "id": "3bQEDcChUrvR"
   },
   "source": [
    "# Work\n",
    "\n",
    "From the given [sale data](examples/sale_data.xlsx) draw the graphs which show the total sell price, and the related sale value, per month, and per retailer. the output should be as given\n",
    "\n"
   ]
  },
  {
   "cell_type": "markdown",
   "source": [],
   "metadata": {
    "collapsed": false
   }
  },
  {
   "cell_type": "markdown",
   "source": [
    "![image-work1](./assets/work1.png)"
   ],
   "metadata": {
    "collapsed": false
   }
  },
  {
   "cell_type": "markdown",
   "source": [
    "![image-work2](./assets/work2.png)"
   ],
   "metadata": {
    "collapsed": false
   }
  }
 ],
 "metadata": {
  "colab": {
   "provenance": []
  },
  "kernelspec": {
   "name": "python3",
   "language": "python",
   "display_name": "Python 3 (ipykernel)"
  }
 },
 "nbformat": 4,
 "nbformat_minor": 0
}
