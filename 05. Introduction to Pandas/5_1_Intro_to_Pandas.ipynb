{
 "cells": [
  {
   "cell_type": "markdown",
   "metadata": {
    "id": "T-wH8n0N5w4U"
   },
   "source": [
    "# Python Library for Data Science\n",
    "\n",
    "There are many popular Python toolboxes/libraries:\n",
    "* Numpy\n",
    "* Scipy\n",
    "* Pandas\n",
    "* SciKit-Learn\n",
    "\n",
    "Visualization library\n",
    "* Matplotlib\n",
    "* Seabord"
   ]
  },
  {
   "cell_type": "markdown",
   "metadata": {
    "id": "aYtc6d_F6CqH"
   },
   "source": [
    "## Numpy\n",
    "\n",
    "\n",
    "* introduces objects for multidimensional arrays and matrices, as well as functions that allow to easily perform advanced mathematical and statistical operations on those objects\n",
    "* provides vectorization of mathematical operations on arrays and matrices which significantly improves the performance\n",
    "* many other python libraries are built on NumPy\n"
   ]
  },
  {
   "cell_type": "markdown",
   "metadata": {
    "id": "sy2bIGxq6i_J"
   },
   "source": [
    "## SciPy\n",
    "\n",
    "* collection of algorithms for linear algebra, differential equations, numerical integration, optimization, statistics and more\n",
    "* built on NumPy\n"
   ]
  },
  {
   "cell_type": "markdown",
   "metadata": {
    "id": "McPwyfU46qt2"
   },
   "source": [
    "## Pandas\n",
    "\n",
    "* adds data structures and tools designed to work with table-like data (similar to Series and Data Frames in R)\n",
    "* provides tools for data manipulation: reshaping, merging, sorting, slicing, aggregation etc.\n",
    "* allows handling missing data"
   ]
  },
  {
   "cell_type": "markdown",
   "metadata": {
    "id": "iq9W6mNT6zMe"
   },
   "source": [
    "## SciKit-Learn\n",
    "* provides machine learning algorithms: classification, regression, clustering, model validation etc.\n",
    "* built on NumPy, SciPy and matplotlib"
   ]
  },
  {
   "cell_type": "markdown",
   "metadata": {
    "id": "77eU6pgl7D9c"
   },
   "source": [
    "## matplotlib\n",
    "\n",
    "* python 2D plotting library which produces publication quality figures in a variety of hardcopy formats\n",
    "* a set of functionalities similar to those of MATLAB\n",
    "* line plots, scatter plots, barcharts, histograms, pie charts etc.\n",
    "* relatively low-level; some effort needed to create advanced visualization\n",
    "\n",
    "\n"
   ]
  },
  {
   "cell_type": "markdown",
   "metadata": {
    "id": "7H1kH2rr7OSL"
   },
   "source": [
    "## Seaborn"
   ]
  },
  {
   "cell_type": "markdown",
   "metadata": {
    "id": "n0pxIrbH7Pxa"
   },
   "source": [
    "* based on matplotlib\n",
    "* provides high level interface for drawing attractive statistical graphics\n",
    "* Similar (in style) to the popular ggplot2 library in R\n"
   ]
  },
  {
   "cell_type": "markdown",
   "metadata": {
    "id": "QMfaHYYm7WRJ"
   },
   "source": [
    "# Pandas\n",
    "\n",
    "* Open-source\n",
    "* High-performance\n",
    "* Easy to use data structure\n",
    "* Data analysis tools\n",
    "* The Data like Excel\n"
   ]
  },
  {
   "cell_type": "markdown",
   "metadata": {
    "id": "Jv9sb2dG7f70"
   },
   "source": [
    "## What Pandas can do\n",
    "\n",
    "* Modeling the data\n",
    "* Create the data frame\n",
    "* Series\n",
    " - One-dimension array\n",
    " - Similar to the Numpy arrays\n"
   ]
  },
  {
   "cell_type": "markdown",
   "metadata": {
    "id": "1XcqFXk978h9"
   },
   "source": [
    "## Pandas - Data Frame\n",
    "\n",
    "* Data frame\n",
    "  * The spreadsheet like\n",
    "* Using to prepare data\n",
    "  * For data manipulation"
   ]
  },
  {
   "cell_type": "markdown",
   "metadata": {
    "id": "dXNCiarO8FBc"
   },
   "source": [
    "## Data Frame data types\n",
    "![image-20230806153235679](./assets/image-20230806153235679.png)"
   ]
  },
  {
   "cell_type": "markdown",
   "metadata": {
    "id": "L0X4ol7V8N8g"
   },
   "source": [
    "## Data Frame attribute\n",
    "Python objects have *attributes* and *methods*\n",
    "![image-20230806153331618](./assets/image-20230806153331618.png)\n"
   ]
  },
  {
   "cell_type": "markdown",
   "metadata": {
    "id": "3winqquQlMmf"
   },
   "source": [
    "# Importing the module\n",
    "\n",
    "import the Pandas package\n",
    "```python\n",
    "import pandas as pd\n",
    "import numpy as np\n",
    "```"
   ]
  },
  {
   "cell_type": "code",
   "metadata": {
    "ExecuteTime": {
     "end_time": "2024-09-07T16:36:25.672630Z",
     "start_time": "2024-09-07T16:36:23.949257Z"
    }
   },
   "source": [
    "import pandas as pd\n",
    "import numpy as np"
   ],
   "outputs": [],
   "execution_count": 1
  },
  {
   "metadata": {
    "ExecuteTime": {
     "end_time": "2024-08-03T05:57:45.550541Z",
     "start_time": "2024-08-03T05:57:45.526224Z"
    }
   },
   "cell_type": "code",
   "source": [
    "import pandas as pd\n",
    "import numpy as np"
   ],
   "outputs": [
    {
     "ename": "ModuleNotFoundError",
     "evalue": "No module named 'pandas'",
     "output_type": "error",
     "traceback": [
      "\u001B[0;31m---------------------------------------------------------------------------\u001B[0m",
      "\u001B[0;31mModuleNotFoundError\u001B[0m                       Traceback (most recent call last)",
      "Cell \u001B[0;32mIn[3], line 1\u001B[0m\n\u001B[0;32m----> 1\u001B[0m \u001B[38;5;28;01mimport\u001B[39;00m \u001B[38;5;21;01mpandas\u001B[39;00m \u001B[38;5;28;01mas\u001B[39;00m \u001B[38;5;21;01mpd\u001B[39;00m\n\u001B[1;32m      2\u001B[0m \u001B[38;5;28;01mimport\u001B[39;00m \u001B[38;5;21;01mnumpy\u001B[39;00m \u001B[38;5;28;01mas\u001B[39;00m \u001B[38;5;21;01mnp\u001B[39;00m\n",
      "\u001B[0;31mModuleNotFoundError\u001B[0m: No module named 'pandas'"
     ]
    }
   ],
   "execution_count": 3
  },
  {
   "cell_type": "code",
   "execution_count": null,
   "metadata": {
    "id": "gsyVItfpmWXx"
   },
   "outputs": [],
   "source": [
    "#Import Python Libraries"
   ]
  },
  {
   "cell_type": "markdown",
   "metadata": {
    "id": "IQburQsPmsCu"
   },
   "source": [
    "# Data Structure - Series\n",
    "\n",
    "**Series** (1d homogeneous array)\n",
    "\n",
    "Similar to the NumPy data type"
   ]
  },
  {
   "cell_type": "markdown",
   "metadata": {
    "id": "0lF42ePbnv7R"
   },
   "source": [
    "The simple array can be created as given\n"
   ]
  },
  {
   "cell_type": "markdown",
   "metadata": {
    "id": "PCrl6V00-mjM"
   },
   "source": [
    "```python\n",
    "obj = ([4,7,-5,3])\n",
    "obj\n",
    "```"
   ]
  },
  {
   "cell_type": "code",
   "metadata": {
    "colab": {
     "base_uri": "https://localhost:8080/"
    },
    "id": "L3vEcXSMnSax",
    "outputId": "9ce90a85-6c3e-4a93-92ec-0cdf981d9b34",
    "ExecuteTime": {
     "end_time": "2024-09-07T16:36:46.641382Z",
     "start_time": "2024-09-07T16:36:46.622652Z"
    }
   },
   "source": [
    "obj = ([4,7,-5,3])\n",
    "obj"
   ],
   "outputs": [
    {
     "data": {
      "text/plain": [
       "[4, 7, -5, 3]"
      ]
     },
     "execution_count": 2,
     "metadata": {},
     "output_type": "execute_result"
    }
   ],
   "execution_count": 2
  },
  {
   "cell_type": "markdown",
   "metadata": {
    "id": "kXHtHAaGn0bW"
   },
   "source": [
    "The Series in Pandas can created"
   ]
  },
  {
   "cell_type": "markdown",
   "metadata": {
    "id": "8PXw5tcR-sRr"
   },
   "source": [
    "```python\n",
    "obj = pd.Series([4,7,-5,3])\n",
    "obj\n",
    "```"
   ]
  },
  {
   "cell_type": "code",
   "metadata": {
    "colab": {
     "base_uri": "https://localhost:8080/"
    },
    "id": "KeB29bBhnbnD",
    "outputId": "5e7a7b03-b125-4edc-c34b-5b1f5264fe93",
    "ExecuteTime": {
     "end_time": "2024-09-07T16:37:26.939678Z",
     "start_time": "2024-09-07T16:37:26.762393Z"
    }
   },
   "source": [
    "obj = pd.Series([4,7,-5,3])\n",
    "obj"
   ],
   "outputs": [
    {
     "data": {
      "text/plain": [
       "0    4\n",
       "1    7\n",
       "2   -5\n",
       "3    3\n",
       "dtype: int64"
      ]
     },
     "execution_count": 3,
     "metadata": {},
     "output_type": "execute_result"
    }
   ],
   "execution_count": 3
  },
  {
   "cell_type": "markdown",
   "metadata": {
    "id": "DmFGxn_Vn8IB"
   },
   "source": [
    "Normally the index is added automatically (The index 0-3 is shown in the previous sesion)\n",
    "The index, and value can be shown as given"
   ]
  },
  {
   "cell_type": "markdown",
   "metadata": {
    "id": "H9A_ljht-wHT"
   },
   "source": [
    "```python\n",
    "obj.values\n",
    "```\n"
   ]
  },
  {
   "cell_type": "code",
   "metadata": {
    "colab": {
     "base_uri": "https://localhost:8080/"
    },
    "id": "lNXFocVKn7iz",
    "outputId": "d458866a-9982-432a-b94f-750a6080d3de",
    "ExecuteTime": {
     "end_time": "2024-09-07T16:37:35.699556Z",
     "start_time": "2024-09-07T16:37:35.692649Z"
    }
   },
   "source": "obj.values",
   "outputs": [
    {
     "data": {
      "text/plain": [
       "array([ 4,  7, -5,  3])"
      ]
     },
     "execution_count": 4,
     "metadata": {},
     "output_type": "execute_result"
    }
   ],
   "execution_count": 4
  },
  {
   "cell_type": "markdown",
   "metadata": {
    "id": "gO96l-31-zGt"
   },
   "source": [
    "```python\n",
    "obj.index\n",
    "```"
   ]
  },
  {
   "cell_type": "code",
   "metadata": {
    "colab": {
     "base_uri": "https://localhost:8080/"
    },
    "id": "C0sB5UlgoPG5",
    "outputId": "96c36d14-106e-4bc4-9a01-7b450a7a9e4c",
    "ExecuteTime": {
     "end_time": "2024-09-07T16:37:42.586090Z",
     "start_time": "2024-09-07T16:37:42.575827Z"
    }
   },
   "source": "obj.index",
   "outputs": [
    {
     "data": {
      "text/plain": [
       "RangeIndex(start=0, stop=4, step=1)"
      ]
     },
     "execution_count": 5,
     "metadata": {},
     "output_type": "execute_result"
    }
   ],
   "execution_count": 5
  },
  {
   "cell_type": "markdown",
   "metadata": {
    "id": "-39b39YxsJ5N"
   },
   "source": [
    "The index can be created to refer to each data"
   ]
  },
  {
   "cell_type": "markdown",
   "metadata": {
    "id": "NbflEtiE-4l8"
   },
   "source": [
    "```python\n",
    "obj2 = pd.Series([4,7,-5,3],index=['d','b','a','c'])\n",
    "obj2\n",
    "```"
   ]
  },
  {
   "cell_type": "code",
   "metadata": {
    "colab": {
     "base_uri": "https://localhost:8080/"
    },
    "id": "X1hP2Mi5sJhY",
    "outputId": "506e75cf-8886-425e-ffda-8bdae37ed716",
    "ExecuteTime": {
     "end_time": "2024-09-07T16:37:48.436056Z",
     "start_time": "2024-09-07T16:37:48.424755Z"
    }
   },
   "source": [
    "obj2 = pd.Series([4,7,-5,3],index=['d','b','a','c'])\n",
    "obj2"
   ],
   "outputs": [
    {
     "data": {
      "text/plain": [
       "d    4\n",
       "b    7\n",
       "a   -5\n",
       "c    3\n",
       "dtype: int64"
      ]
     },
     "execution_count": 6,
     "metadata": {},
     "output_type": "execute_result"
    }
   ],
   "execution_count": 6
  },
  {
   "cell_type": "markdown",
   "metadata": {
    "id": "D24pxQPRsgD2"
   },
   "source": [
    "Then we can check all indexs and value using the values, and indexs data\n",
    "```python\n",
    "obj2.values\n",
    "```"
   ]
  },
  {
   "cell_type": "markdown",
   "metadata": {
    "id": "0hQTtwuB-7sR"
   },
   "source": []
  },
  {
   "cell_type": "code",
   "metadata": {
    "colab": {
     "base_uri": "https://localhost:8080/"
    },
    "id": "QqbnR6hKsl64",
    "outputId": "c07ddd10-0b31-45c8-d774-294c3d1e83d6",
    "ExecuteTime": {
     "end_time": "2024-09-07T16:37:54.834367Z",
     "start_time": "2024-09-07T16:37:54.829328Z"
    }
   },
   "source": "obj2.values",
   "outputs": [
    {
     "data": {
      "text/plain": [
       "array([ 4,  7, -5,  3])"
      ]
     },
     "execution_count": 7,
     "metadata": {},
     "output_type": "execute_result"
    }
   ],
   "execution_count": 7
  },
  {
   "cell_type": "markdown",
   "metadata": {
    "id": "g2MQZo4e-_cq"
   },
   "source": [
    "```python\n",
    "obj2.index\n",
    "```"
   ]
  },
  {
   "cell_type": "code",
   "metadata": {
    "colab": {
     "base_uri": "https://localhost:8080/"
    },
    "id": "mxPPVByGsojC",
    "outputId": "f49b5d8a-819e-4579-a2fb-9b8fa3e7e0df",
    "ExecuteTime": {
     "end_time": "2024-09-07T16:38:01.245841Z",
     "start_time": "2024-09-07T16:38:01.203248Z"
    }
   },
   "source": "obj2.index",
   "outputs": [
    {
     "data": {
      "text/plain": [
       "Index(['d', 'b', 'a', 'c'], dtype='object')"
      ]
     },
     "execution_count": 8,
     "metadata": {},
     "output_type": "execute_result"
    }
   ],
   "execution_count": 8
  },
  {
   "cell_type": "markdown",
   "metadata": {
    "id": "g2iy5V_bstT9"
   },
   "source": [
    "To get some data, we can slice the data from the series using index, or index"
   ]
  },
  {
   "cell_type": "markdown",
   "metadata": {
    "id": "Mqvwf-qp_CSv"
   },
   "source": [
    "```python\n",
    "obj2['a']\n",
    "```"
   ]
  },
  {
   "cell_type": "code",
   "metadata": {
    "colab": {
     "base_uri": "https://localhost:8080/"
    },
    "id": "aNxAXqcIsw8m",
    "outputId": "aa37197c-e485-4fd4-9161-4e0bef8e3e58",
    "ExecuteTime": {
     "end_time": "2024-09-07T16:38:08.833561Z",
     "start_time": "2024-09-07T16:38:08.821804Z"
    }
   },
   "source": "obj2['a']",
   "outputs": [
    {
     "data": {
      "text/plain": [
       "np.int64(-5)"
      ]
     },
     "execution_count": 9,
     "metadata": {},
     "output_type": "execute_result"
    }
   ],
   "execution_count": 9
  },
  {
   "cell_type": "markdown",
   "metadata": {
    "id": "pT5yeLKW_Cun"
   },
   "source": [
    "```python\n",
    "obj2[['b','c']]\n",
    "```"
   ]
  },
  {
   "cell_type": "code",
   "metadata": {
    "colab": {
     "base_uri": "https://localhost:8080/"
    },
    "id": "kydI-K0ks46I",
    "outputId": "d7491ddc-c0fe-40b6-9164-2273b389c809",
    "ExecuteTime": {
     "end_time": "2024-09-07T16:38:15.919531Z",
     "start_time": "2024-09-07T16:38:15.904938Z"
    }
   },
   "source": "obj2[['b','c']]",
   "outputs": [
    {
     "data": {
      "text/plain": [
       "b    7\n",
       "c    3\n",
       "dtype: int64"
      ]
     },
     "execution_count": 10,
     "metadata": {},
     "output_type": "execute_result"
    }
   ],
   "execution_count": 10
  },
  {
   "cell_type": "markdown",
   "metadata": {
    "id": "2GHiX4FJtAmL"
   },
   "source": [
    "We can also use the dict data structure to a series"
   ]
  },
  {
   "cell_type": "markdown",
   "metadata": {
    "id": "gnSoCI8J_LUg"
   },
   "source": [
    "```python\n",
    "sdata = {'Ohio':3500, 'Texas':71000,'Oregon':16000, 'Utah':5000}\n",
    "obj3 = pd.Series(sdata)\n",
    "obj3\n",
    "```"
   ]
  },
  {
   "cell_type": "code",
   "metadata": {
    "colab": {
     "base_uri": "https://localhost:8080/"
    },
    "id": "zT3ZD3NDtAW0",
    "outputId": "a22e651f-5e3e-4b49-9652-ee4849c244fb",
    "ExecuteTime": {
     "end_time": "2024-09-07T16:38:21.978594Z",
     "start_time": "2024-09-07T16:38:21.970484Z"
    }
   },
   "source": [
    "sdata = {'Ohio':3500, 'Texas':71000,'Oregon':16000, 'Utah':5000}\n",
    "obj3 = pd.Series(sdata)\n",
    "obj3"
   ],
   "outputs": [
    {
     "data": {
      "text/plain": [
       "Ohio       3500\n",
       "Texas     71000\n",
       "Oregon    16000\n",
       "Utah       5000\n",
       "dtype: int64"
      ]
     },
     "execution_count": 11,
     "metadata": {},
     "output_type": "execute_result"
    }
   ],
   "execution_count": 11
  },
  {
   "cell_type": "markdown",
   "metadata": {
    "id": "D1Q6AMS3t2Es"
   },
   "source": [
    "When input the index parameter, only the value that match the index will be shown"
   ]
  },
  {
   "cell_type": "markdown",
   "metadata": {
    "id": "rZrsEUWg_OV6"
   },
   "source": [
    "```python\n",
    "states = ['California','Ohio','Oregon','Texas']\n",
    "obj4 = pd.Series(sdata,index = states)\n",
    "obj4\n",
    "```"
   ]
  },
  {
   "cell_type": "code",
   "metadata": {
    "colab": {
     "base_uri": "https://localhost:8080/"
    },
    "id": "gjgrB6Byt1v6",
    "outputId": "fe0e32e9-ef7a-403d-9c07-10f9dc34ebad",
    "ExecuteTime": {
     "end_time": "2024-09-07T16:38:28.356768Z",
     "start_time": "2024-09-07T16:38:28.344439Z"
    }
   },
   "source": [
    "states = ['California','Ohio','Oregon','Texas']\n",
    "obj4 = pd.Series(sdata,index = states)\n",
    "obj4"
   ],
   "outputs": [
    {
     "data": {
      "text/plain": [
       "California        NaN\n",
       "Ohio           3500.0\n",
       "Oregon        16000.0\n",
       "Texas         71000.0\n",
       "dtype: float64"
      ]
     },
     "execution_count": 12,
     "metadata": {},
     "output_type": "execute_result"
    }
   ],
   "execution_count": 12
  },
  {
   "cell_type": "markdown",
   "metadata": {
    "id": "lyQa7RAO0T8M"
   },
   "source": [
    "`Nan` is the data that does not provide the data for the index"
   ]
  },
  {
   "cell_type": "markdown",
   "metadata": {},
   "source": [
    "We can filter the data by adding the boolean in the index\n",
    "```python\n",
    "obj4[obj4<20000]\n",
    "```"
   ]
  },
  {
   "cell_type": "code",
   "metadata": {
    "colab": {
     "base_uri": "https://localhost:8080/"
    },
    "id": "emvMDSz_L280",
    "outputId": "a41cca80-9e7e-4862-f3b1-586ec6f65123",
    "ExecuteTime": {
     "end_time": "2024-09-07T16:38:37.138188Z",
     "start_time": "2024-09-07T16:38:37.126033Z"
    }
   },
   "source": "obj4[obj4<20000]",
   "outputs": [
    {
     "data": {
      "text/plain": [
       "Ohio       3500.0\n",
       "Oregon    16000.0\n",
       "dtype: float64"
      ]
     },
     "execution_count": 13,
     "metadata": {},
     "output_type": "execute_result"
    }
   ],
   "execution_count": 13
  },
  {
   "cell_type": "markdown",
   "metadata": {},
   "source": [
    "To get the name of index use index data\n",
    "```python\n",
    "obj4[obj4 <20000].index\n",
    "```"
   ]
  },
  {
   "cell_type": "code",
   "metadata": {
    "colab": {
     "base_uri": "https://localhost:8080/"
    },
    "id": "lSbfb6y6QHww",
    "outputId": "09cd08d6-7a17-46cf-992e-4fe813cd3b36",
    "ExecuteTime": {
     "end_time": "2024-09-07T16:38:42.302223Z",
     "start_time": "2024-09-07T16:38:42.290026Z"
    }
   },
   "source": "obj4[obj4 <20000].index",
   "outputs": [
    {
     "data": {
      "text/plain": [
       "Index(['Ohio', 'Oregon'], dtype='object')"
      ]
     },
     "execution_count": 14,
     "metadata": {},
     "output_type": "execute_result"
    }
   ],
   "execution_count": 14
  },
  {
   "cell_type": "markdown",
   "metadata": {
    "id": "ap6Ah3H00ZW-"
   },
   "source": [
    "## Task Data Structure - Series Hand-ons\n",
    "create a series of students using the student id as an index, and the name as the first values. The name and student id is given\n"
   ]
  },
  {
   "cell_type": "markdown",
   "metadata": {
    "id": "Yt2SxJYp_Sx0"
   },
   "source": [
    "![image-20230806154629050](./assets/image-20230806154629050.png)"
   ]
  },
  {
   "metadata": {
    "ExecuteTime": {
     "end_time": "2024-09-07T16:43:12.144377Z",
     "start_time": "2024-09-07T16:43:12.138101Z"
    }
   },
   "cell_type": "code",
   "source": "import pandas as pd",
   "outputs": [],
   "execution_count": 16
  },
  {
   "metadata": {
    "ExecuteTime": {
     "end_time": "2024-09-07T16:46:11.007417Z",
     "start_time": "2024-09-07T16:46:10.955017Z"
    }
   },
   "cell_type": "code",
   "source": [
    "data = {\n",
    "    660632025: \"Tide\",\n",
    "    660632027: \"Up\",\n",
    "    660632028: \"Art\",\n",
    "    660632030: \"Temp\",\n",
    "    660632031: \"Tung\",\n",
    "    660632032: \"Kheng\",\n",
    "    660632033: \"Pu\",\n",
    "    660632034: \"Big\",\n",
    "    660632035: \"Toey\",\n",
    "    660632036: \"Sa\",\n",
    "    660632037: \"J\",\n",
    "    660632038: \"Pokong\",\n",
    "    660632060: \"Chompoo\",\n",
    "    660632062: \"Pokpak\",\n",
    "    660632064: \"Ning\",\n",
    "    660632065: \"Peuam\",\n",
    "    660632066: \"Bew\",\n",
    "    660632067: \"Aon\",\n",
    "    660632068: \"Poom\",\n",
    "    660632071: \"Tern\",\n",
    "    660632076: \"Fang\",\n",
    "    660632079: \"Dem\",\n",
    "    660632277: \"Nait\"\n",
    "}\n",
    "\n",
    "students_series = pd.Series(data)\n",
    "\n",
    "print(students_series)"
   ],
   "outputs": [
    {
     "name": "stdout",
     "output_type": "stream",
     "text": [
      "660632025       Tide\n",
      "660632027         Up\n",
      "660632028        Art\n",
      "660632030       Temp\n",
      "660632031       Tung\n",
      "660632032      Kheng\n",
      "660632033         Pu\n",
      "660632034        Big\n",
      "660632035       Toey\n",
      "660632036         Sa\n",
      "660632037          J\n",
      "660632038     Pokong\n",
      "660632060    Chompoo\n",
      "660632062     Pokpak\n",
      "660632064       Ning\n",
      "660632065      Peuam\n",
      "660632066        Bew\n",
      "660632067        Aon\n",
      "660632068       Poom\n",
      "660632071       Tern\n",
      "660632076       Fang\n",
      "660632079        Dem\n",
      "660632277       Nait\n",
      "dtype: object\n"
     ]
    }
   ],
   "execution_count": 20
  },
  {
   "cell_type": "code",
   "execution_count": null,
   "metadata": {
    "id": "QgFSQpah07nt"
   },
   "outputs": [],
   "source": ""
  },
  {
   "cell_type": "markdown",
   "metadata": {
    "id": "r3pZbGLt1GDw"
   },
   "source": [
    "# Data Structure - Dataframe\n",
    "\n",
    "The tubular, spreedsheet-like data structure.\n",
    "\n",
    "contains and ordered collection of columns\n",
    "\n",
    "Can be though as a Dict of series\n",
    "\n",
    "The data frame is used to manipulate the data, and we can extract the output of the data science modules by extracting the value in the Daaframe\n",
    "we can try to create the data frame as given"
   ]
  },
  {
   "cell_type": "markdown",
   "metadata": {
    "id": "OElDcW8YARD7"
   },
   "source": [
    "```python\n",
    "data = {'state':['Ohio','Ohio','Ohio','Nevada','Nevada'],\n",
    "        'year' :[2000  ,2001  ,2002  ,2001    ,2002],\n",
    "        'pop'  :[1.5   ,1.7   ,3.6   ,2.4     ,2.9]}\n",
    "frame = pd.DataFrame(data)\n",
    "frame\n",
    "```"
   ]
  },
  {
   "cell_type": "code",
   "metadata": {
    "colab": {
     "base_uri": "https://localhost:8080/",
     "height": 206
    },
    "id": "Aef9u1Ii2Tmb",
    "outputId": "1d106cd2-f3b8-4222-aeec-0b1777a7feae",
    "ExecuteTime": {
     "end_time": "2024-09-07T16:46:32.544341Z",
     "start_time": "2024-09-07T16:46:32.501103Z"
    }
   },
   "source": [
    "data = {'state':['Ohio','Ohio','Ohio','Nevada','Nevada'],\n",
    "        'year' :[2000  ,2001  ,2002  ,2001    ,2002],\n",
    "        'pop'  :[1.5   ,1.7   ,3.6   ,2.4     ,2.9]}\n",
    "frame = pd.DataFrame(data)\n",
    "frame"
   ],
   "outputs": [
    {
     "data": {
      "text/plain": [
       "    state  year  pop\n",
       "0    Ohio  2000  1.5\n",
       "1    Ohio  2001  1.7\n",
       "2    Ohio  2002  3.6\n",
       "3  Nevada  2001  2.4\n",
       "4  Nevada  2002  2.9"
      ],
      "text/html": [
       "<div>\n",
       "<style scoped>\n",
       "    .dataframe tbody tr th:only-of-type {\n",
       "        vertical-align: middle;\n",
       "    }\n",
       "\n",
       "    .dataframe tbody tr th {\n",
       "        vertical-align: top;\n",
       "    }\n",
       "\n",
       "    .dataframe thead th {\n",
       "        text-align: right;\n",
       "    }\n",
       "</style>\n",
       "<table border=\"1\" class=\"dataframe\">\n",
       "  <thead>\n",
       "    <tr style=\"text-align: right;\">\n",
       "      <th></th>\n",
       "      <th>state</th>\n",
       "      <th>year</th>\n",
       "      <th>pop</th>\n",
       "    </tr>\n",
       "  </thead>\n",
       "  <tbody>\n",
       "    <tr>\n",
       "      <th>0</th>\n",
       "      <td>Ohio</td>\n",
       "      <td>2000</td>\n",
       "      <td>1.5</td>\n",
       "    </tr>\n",
       "    <tr>\n",
       "      <th>1</th>\n",
       "      <td>Ohio</td>\n",
       "      <td>2001</td>\n",
       "      <td>1.7</td>\n",
       "    </tr>\n",
       "    <tr>\n",
       "      <th>2</th>\n",
       "      <td>Ohio</td>\n",
       "      <td>2002</td>\n",
       "      <td>3.6</td>\n",
       "    </tr>\n",
       "    <tr>\n",
       "      <th>3</th>\n",
       "      <td>Nevada</td>\n",
       "      <td>2001</td>\n",
       "      <td>2.4</td>\n",
       "    </tr>\n",
       "    <tr>\n",
       "      <th>4</th>\n",
       "      <td>Nevada</td>\n",
       "      <td>2002</td>\n",
       "      <td>2.9</td>\n",
       "    </tr>\n",
       "  </tbody>\n",
       "</table>\n",
       "</div>"
      ]
     },
     "execution_count": 21,
     "metadata": {},
     "output_type": "execute_result"
    }
   ],
   "execution_count": 21
  },
  {
   "cell_type": "markdown",
   "metadata": {
    "id": "G3H5CU8a2ubv"
   },
   "source": [
    "We can also arrange the column using the columns parameter"
   ]
  },
  {
   "cell_type": "markdown",
   "metadata": {
    "id": "bY3KUAySAUHK"
   },
   "source": [
    "```python\n",
    "frame2 = pd.DataFrame(data, columns=['year','state','pop'])\n",
    "frame2\n",
    "```"
   ]
  },
  {
   "cell_type": "code",
   "metadata": {
    "colab": {
     "base_uri": "https://localhost:8080/",
     "height": 206
    },
    "id": "gyfHsAcg29fw",
    "outputId": "921cd956-5f2c-4f92-ab34-dd1427db2882",
    "ExecuteTime": {
     "end_time": "2024-09-07T16:46:38.970478Z",
     "start_time": "2024-09-07T16:46:38.958518Z"
    }
   },
   "source": [
    "frame2 = pd.DataFrame(data, columns=['year','state','pop'])\n",
    "frame2"
   ],
   "outputs": [
    {
     "data": {
      "text/plain": [
       "   year   state  pop\n",
       "0  2000    Ohio  1.5\n",
       "1  2001    Ohio  1.7\n",
       "2  2002    Ohio  3.6\n",
       "3  2001  Nevada  2.4\n",
       "4  2002  Nevada  2.9"
      ],
      "text/html": [
       "<div>\n",
       "<style scoped>\n",
       "    .dataframe tbody tr th:only-of-type {\n",
       "        vertical-align: middle;\n",
       "    }\n",
       "\n",
       "    .dataframe tbody tr th {\n",
       "        vertical-align: top;\n",
       "    }\n",
       "\n",
       "    .dataframe thead th {\n",
       "        text-align: right;\n",
       "    }\n",
       "</style>\n",
       "<table border=\"1\" class=\"dataframe\">\n",
       "  <thead>\n",
       "    <tr style=\"text-align: right;\">\n",
       "      <th></th>\n",
       "      <th>year</th>\n",
       "      <th>state</th>\n",
       "      <th>pop</th>\n",
       "    </tr>\n",
       "  </thead>\n",
       "  <tbody>\n",
       "    <tr>\n",
       "      <th>0</th>\n",
       "      <td>2000</td>\n",
       "      <td>Ohio</td>\n",
       "      <td>1.5</td>\n",
       "    </tr>\n",
       "    <tr>\n",
       "      <th>1</th>\n",
       "      <td>2001</td>\n",
       "      <td>Ohio</td>\n",
       "      <td>1.7</td>\n",
       "    </tr>\n",
       "    <tr>\n",
       "      <th>2</th>\n",
       "      <td>2002</td>\n",
       "      <td>Ohio</td>\n",
       "      <td>3.6</td>\n",
       "    </tr>\n",
       "    <tr>\n",
       "      <th>3</th>\n",
       "      <td>2001</td>\n",
       "      <td>Nevada</td>\n",
       "      <td>2.4</td>\n",
       "    </tr>\n",
       "    <tr>\n",
       "      <th>4</th>\n",
       "      <td>2002</td>\n",
       "      <td>Nevada</td>\n",
       "      <td>2.9</td>\n",
       "    </tr>\n",
       "  </tbody>\n",
       "</table>\n",
       "</div>"
      ]
     },
     "execution_count": 22,
     "metadata": {},
     "output_type": "execute_result"
    }
   ],
   "execution_count": 22
  },
  {
   "cell_type": "markdown",
   "metadata": {
    "id": "95GerYi43Noq"
   },
   "source": [
    "The index can be set, and the column which is not in the data is also shown as Nan"
   ]
  },
  {
   "cell_type": "markdown",
   "metadata": {
    "id": "LP4i11ohAXiP"
   },
   "source": [
    "```python\n",
    "frame2 = pd.DataFrame(data, columns=['year','state','pop','debt'],\n",
    "                      index=['one','two','three','four','five'])\n",
    "frame2\n",
    "```\n"
   ]
  },
  {
   "cell_type": "code",
   "metadata": {
    "colab": {
     "base_uri": "https://localhost:8080/",
     "height": 206
    },
    "id": "EVsr_-_O3NRz",
    "outputId": "04f00311-fd72-46ec-ea34-a801b3a02616",
    "ExecuteTime": {
     "end_time": "2024-09-07T16:46:48.671689Z",
     "start_time": "2024-09-07T16:46:48.654538Z"
    }
   },
   "source": [
    "frame2 = pd.DataFrame(data, columns=['year','state','pop','debt'],\n",
    "                      index=['one','two','three','four','five'])\n",
    "frame2"
   ],
   "outputs": [
    {
     "data": {
      "text/plain": [
       "       year   state  pop debt\n",
       "one    2000    Ohio  1.5  NaN\n",
       "two    2001    Ohio  1.7  NaN\n",
       "three  2002    Ohio  3.6  NaN\n",
       "four   2001  Nevada  2.4  NaN\n",
       "five   2002  Nevada  2.9  NaN"
      ],
      "text/html": [
       "<div>\n",
       "<style scoped>\n",
       "    .dataframe tbody tr th:only-of-type {\n",
       "        vertical-align: middle;\n",
       "    }\n",
       "\n",
       "    .dataframe tbody tr th {\n",
       "        vertical-align: top;\n",
       "    }\n",
       "\n",
       "    .dataframe thead th {\n",
       "        text-align: right;\n",
       "    }\n",
       "</style>\n",
       "<table border=\"1\" class=\"dataframe\">\n",
       "  <thead>\n",
       "    <tr style=\"text-align: right;\">\n",
       "      <th></th>\n",
       "      <th>year</th>\n",
       "      <th>state</th>\n",
       "      <th>pop</th>\n",
       "      <th>debt</th>\n",
       "    </tr>\n",
       "  </thead>\n",
       "  <tbody>\n",
       "    <tr>\n",
       "      <th>one</th>\n",
       "      <td>2000</td>\n",
       "      <td>Ohio</td>\n",
       "      <td>1.5</td>\n",
       "      <td>NaN</td>\n",
       "    </tr>\n",
       "    <tr>\n",
       "      <th>two</th>\n",
       "      <td>2001</td>\n",
       "      <td>Ohio</td>\n",
       "      <td>1.7</td>\n",
       "      <td>NaN</td>\n",
       "    </tr>\n",
       "    <tr>\n",
       "      <th>three</th>\n",
       "      <td>2002</td>\n",
       "      <td>Ohio</td>\n",
       "      <td>3.6</td>\n",
       "      <td>NaN</td>\n",
       "    </tr>\n",
       "    <tr>\n",
       "      <th>four</th>\n",
       "      <td>2001</td>\n",
       "      <td>Nevada</td>\n",
       "      <td>2.4</td>\n",
       "      <td>NaN</td>\n",
       "    </tr>\n",
       "    <tr>\n",
       "      <th>five</th>\n",
       "      <td>2002</td>\n",
       "      <td>Nevada</td>\n",
       "      <td>2.9</td>\n",
       "      <td>NaN</td>\n",
       "    </tr>\n",
       "  </tbody>\n",
       "</table>\n",
       "</div>"
      ]
     },
     "execution_count": 23,
     "metadata": {},
     "output_type": "execute_result"
    }
   ],
   "execution_count": 23
  },
  {
   "cell_type": "markdown",
   "metadata": {
    "id": "dYAce0st3lSl"
   },
   "source": [
    "We can extract data regarding to the columns as given"
   ]
  },
  {
   "cell_type": "markdown",
   "metadata": {
    "id": "jOsoj8ZbAdmn"
   },
   "source": [
    "```python\n",
    "frame2['state']\n",
    "```"
   ]
  },
  {
   "cell_type": "code",
   "metadata": {
    "colab": {
     "base_uri": "https://localhost:8080/"
    },
    "id": "cgRrQZe23svw",
    "outputId": "79857d71-0a36-4242-f481-ea3c72fb8210",
    "ExecuteTime": {
     "end_time": "2024-09-07T16:46:54.550668Z",
     "start_time": "2024-09-07T16:46:54.543943Z"
    }
   },
   "source": "frame2['state']",
   "outputs": [
    {
     "data": {
      "text/plain": [
       "one        Ohio\n",
       "two        Ohio\n",
       "three      Ohio\n",
       "four     Nevada\n",
       "five     Nevada\n",
       "Name: state, dtype: object"
      ]
     },
     "execution_count": 24,
     "metadata": {},
     "output_type": "execute_result"
    }
   ],
   "execution_count": 24
  },
  {
   "cell_type": "markdown",
   "metadata": {
    "id": "6oVe1t1-AgP7"
   },
   "source": [
    "```python\n",
    "frame2.year\n",
    "```"
   ]
  },
  {
   "cell_type": "code",
   "metadata": {
    "colab": {
     "base_uri": "https://localhost:8080/"
    },
    "id": "3YuLz1eG3wNS",
    "outputId": "dec6e335-d637-4181-c68a-6187c5ce3b74",
    "ExecuteTime": {
     "end_time": "2024-09-07T16:46:59.283822Z",
     "start_time": "2024-09-07T16:46:59.278298Z"
    }
   },
   "source": "frame2.year",
   "outputs": [
    {
     "data": {
      "text/plain": [
       "one      2000\n",
       "two      2001\n",
       "three    2002\n",
       "four     2001\n",
       "five     2002\n",
       "Name: year, dtype: int64"
      ]
     },
     "execution_count": 25,
     "metadata": {},
     "output_type": "execute_result"
    }
   ],
   "execution_count": 25
  },
  {
   "cell_type": "markdown",
   "metadata": {
    "id": "pkQauySJ33AF"
   },
   "source": [
    "we can get the data from each index using `loc` methods"
   ]
  },
  {
   "cell_type": "markdown",
   "metadata": {
    "id": "KYqyHL6TAiwB"
   },
   "source": [
    "```python\n",
    "frame2.loc['three']\n",
    "```"
   ]
  },
  {
   "cell_type": "code",
   "metadata": {
    "colab": {
     "base_uri": "https://localhost:8080/",
     "height": 105
    },
    "id": "4lNEtyOl32pt",
    "outputId": "f95108f5-3dff-4672-9deb-7d2c5d68a0c1",
    "ExecuteTime": {
     "end_time": "2024-09-07T16:47:04.965774Z",
     "start_time": "2024-09-07T16:47:04.958084Z"
    }
   },
   "source": "frame2.loc['three']",
   "outputs": [
    {
     "data": {
      "text/plain": [
       "year     2002\n",
       "state    Ohio\n",
       "pop       3.6\n",
       "debt      NaN\n",
       "Name: three, dtype: object"
      ]
     },
     "execution_count": 26,
     "metadata": {},
     "output_type": "execute_result"
    }
   ],
   "execution_count": 26
  },
  {
   "cell_type": "markdown",
   "metadata": {
    "id": "rq4X3mqY4zoI"
   },
   "source": [
    "We can assign the data to each column using the scalar data, or list"
   ]
  },
  {
   "cell_type": "markdown",
   "metadata": {
    "id": "XzqoSSdTAlG_"
   },
   "source": [
    "```python\n",
    "frame2['debt'] = 16.5\n",
    "frame2\n",
    "```"
   ]
  },
  {
   "cell_type": "code",
   "metadata": {
    "colab": {
     "base_uri": "https://localhost:8080/",
     "height": 206
    },
    "id": "0vKWSIam5C5e",
    "outputId": "c6a75edd-3c7b-481f-87ff-00e7f625c333",
    "ExecuteTime": {
     "end_time": "2024-09-07T16:47:12.503872Z",
     "start_time": "2024-09-07T16:47:12.467531Z"
    }
   },
   "source": [
    "frame2['debt'] = 16.5\n",
    "frame2"
   ],
   "outputs": [
    {
     "data": {
      "text/plain": [
       "       year   state  pop  debt\n",
       "one    2000    Ohio  1.5  16.5\n",
       "two    2001    Ohio  1.7  16.5\n",
       "three  2002    Ohio  3.6  16.5\n",
       "four   2001  Nevada  2.4  16.5\n",
       "five   2002  Nevada  2.9  16.5"
      ],
      "text/html": [
       "<div>\n",
       "<style scoped>\n",
       "    .dataframe tbody tr th:only-of-type {\n",
       "        vertical-align: middle;\n",
       "    }\n",
       "\n",
       "    .dataframe tbody tr th {\n",
       "        vertical-align: top;\n",
       "    }\n",
       "\n",
       "    .dataframe thead th {\n",
       "        text-align: right;\n",
       "    }\n",
       "</style>\n",
       "<table border=\"1\" class=\"dataframe\">\n",
       "  <thead>\n",
       "    <tr style=\"text-align: right;\">\n",
       "      <th></th>\n",
       "      <th>year</th>\n",
       "      <th>state</th>\n",
       "      <th>pop</th>\n",
       "      <th>debt</th>\n",
       "    </tr>\n",
       "  </thead>\n",
       "  <tbody>\n",
       "    <tr>\n",
       "      <th>one</th>\n",
       "      <td>2000</td>\n",
       "      <td>Ohio</td>\n",
       "      <td>1.5</td>\n",
       "      <td>16.5</td>\n",
       "    </tr>\n",
       "    <tr>\n",
       "      <th>two</th>\n",
       "      <td>2001</td>\n",
       "      <td>Ohio</td>\n",
       "      <td>1.7</td>\n",
       "      <td>16.5</td>\n",
       "    </tr>\n",
       "    <tr>\n",
       "      <th>three</th>\n",
       "      <td>2002</td>\n",
       "      <td>Ohio</td>\n",
       "      <td>3.6</td>\n",
       "      <td>16.5</td>\n",
       "    </tr>\n",
       "    <tr>\n",
       "      <th>four</th>\n",
       "      <td>2001</td>\n",
       "      <td>Nevada</td>\n",
       "      <td>2.4</td>\n",
       "      <td>16.5</td>\n",
       "    </tr>\n",
       "    <tr>\n",
       "      <th>five</th>\n",
       "      <td>2002</td>\n",
       "      <td>Nevada</td>\n",
       "      <td>2.9</td>\n",
       "      <td>16.5</td>\n",
       "    </tr>\n",
       "  </tbody>\n",
       "</table>\n",
       "</div>"
      ]
     },
     "execution_count": 27,
     "metadata": {},
     "output_type": "execute_result"
    }
   ],
   "execution_count": 27
  },
  {
   "cell_type": "markdown",
   "metadata": {
    "id": "J4nWdsVNApOw"
   },
   "source": [
    "```python\n",
    "frame2['debt'] = np.arange(5)\n",
    "frame2\n",
    "```"
   ]
  },
  {
   "cell_type": "code",
   "metadata": {
    "colab": {
     "base_uri": "https://localhost:8080/"
    },
    "id": "37lQtMXLYBnv",
    "outputId": "16ee90e8-5120-470a-a0a4-c8f2e17082e5",
    "ExecuteTime": {
     "end_time": "2024-09-07T16:47:17.715605Z",
     "start_time": "2024-09-07T16:47:17.706593Z"
    }
   },
   "source": [
    "frame2['debt'] = np.arange(5)\n",
    "frame2"
   ],
   "outputs": [
    {
     "data": {
      "text/plain": [
       "       year   state  pop  debt\n",
       "one    2000    Ohio  1.5     0\n",
       "two    2001    Ohio  1.7     1\n",
       "three  2002    Ohio  3.6     2\n",
       "four   2001  Nevada  2.4     3\n",
       "five   2002  Nevada  2.9     4"
      ],
      "text/html": [
       "<div>\n",
       "<style scoped>\n",
       "    .dataframe tbody tr th:only-of-type {\n",
       "        vertical-align: middle;\n",
       "    }\n",
       "\n",
       "    .dataframe tbody tr th {\n",
       "        vertical-align: top;\n",
       "    }\n",
       "\n",
       "    .dataframe thead th {\n",
       "        text-align: right;\n",
       "    }\n",
       "</style>\n",
       "<table border=\"1\" class=\"dataframe\">\n",
       "  <thead>\n",
       "    <tr style=\"text-align: right;\">\n",
       "      <th></th>\n",
       "      <th>year</th>\n",
       "      <th>state</th>\n",
       "      <th>pop</th>\n",
       "      <th>debt</th>\n",
       "    </tr>\n",
       "  </thead>\n",
       "  <tbody>\n",
       "    <tr>\n",
       "      <th>one</th>\n",
       "      <td>2000</td>\n",
       "      <td>Ohio</td>\n",
       "      <td>1.5</td>\n",
       "      <td>0</td>\n",
       "    </tr>\n",
       "    <tr>\n",
       "      <th>two</th>\n",
       "      <td>2001</td>\n",
       "      <td>Ohio</td>\n",
       "      <td>1.7</td>\n",
       "      <td>1</td>\n",
       "    </tr>\n",
       "    <tr>\n",
       "      <th>three</th>\n",
       "      <td>2002</td>\n",
       "      <td>Ohio</td>\n",
       "      <td>3.6</td>\n",
       "      <td>2</td>\n",
       "    </tr>\n",
       "    <tr>\n",
       "      <th>four</th>\n",
       "      <td>2001</td>\n",
       "      <td>Nevada</td>\n",
       "      <td>2.4</td>\n",
       "      <td>3</td>\n",
       "    </tr>\n",
       "    <tr>\n",
       "      <th>five</th>\n",
       "      <td>2002</td>\n",
       "      <td>Nevada</td>\n",
       "      <td>2.9</td>\n",
       "      <td>4</td>\n",
       "    </tr>\n",
       "  </tbody>\n",
       "</table>\n",
       "</div>"
      ]
     },
     "execution_count": 28,
     "metadata": {},
     "output_type": "execute_result"
    }
   ],
   "execution_count": 28
  },
  {
   "cell_type": "code",
   "execution_count": null,
   "metadata": {
    "colab": {
     "base_uri": "https://localhost:8080/",
     "height": 206
    },
    "id": "3e8vT65b5HAX",
    "outputId": "b947b41c-6383-420d-d493-9890a314feca"
   },
   "outputs": [],
   "source": []
  },
  {
   "cell_type": "markdown",
   "metadata": {
    "id": "XX3z-6vj5ZZ3"
   },
   "source": [
    "Or we can add the series as the missing column"
   ]
  },
  {
   "cell_type": "markdown",
   "metadata": {
    "id": "phsQQEPAAwuH"
   },
   "source": [
    "```python\n",
    "val = pd.Series([-1.2,-1.5,-1.7],index=['two','four','five'])\n",
    "frame2['debt'] = val\n",
    "frame2\n",
    "```"
   ]
  },
  {
   "cell_type": "code",
   "source": [
    "val = pd.Series([-1.2,-1.5,-1.7],index=['two','four','five'])\n",
    "frame2['debt'] = val\n",
    "frame2"
   ],
   "metadata": {
    "collapsed": false,
    "ExecuteTime": {
     "end_time": "2024-09-07T16:47:24.290533Z",
     "start_time": "2024-09-07T16:47:24.267577Z"
    }
   },
   "outputs": [
    {
     "data": {
      "text/plain": [
       "       year   state  pop  debt\n",
       "one    2000    Ohio  1.5   NaN\n",
       "two    2001    Ohio  1.7  -1.2\n",
       "three  2002    Ohio  3.6   NaN\n",
       "four   2001  Nevada  2.4  -1.5\n",
       "five   2002  Nevada  2.9  -1.7"
      ],
      "text/html": [
       "<div>\n",
       "<style scoped>\n",
       "    .dataframe tbody tr th:only-of-type {\n",
       "        vertical-align: middle;\n",
       "    }\n",
       "\n",
       "    .dataframe tbody tr th {\n",
       "        vertical-align: top;\n",
       "    }\n",
       "\n",
       "    .dataframe thead th {\n",
       "        text-align: right;\n",
       "    }\n",
       "</style>\n",
       "<table border=\"1\" class=\"dataframe\">\n",
       "  <thead>\n",
       "    <tr style=\"text-align: right;\">\n",
       "      <th></th>\n",
       "      <th>year</th>\n",
       "      <th>state</th>\n",
       "      <th>pop</th>\n",
       "      <th>debt</th>\n",
       "    </tr>\n",
       "  </thead>\n",
       "  <tbody>\n",
       "    <tr>\n",
       "      <th>one</th>\n",
       "      <td>2000</td>\n",
       "      <td>Ohio</td>\n",
       "      <td>1.5</td>\n",
       "      <td>NaN</td>\n",
       "    </tr>\n",
       "    <tr>\n",
       "      <th>two</th>\n",
       "      <td>2001</td>\n",
       "      <td>Ohio</td>\n",
       "      <td>1.7</td>\n",
       "      <td>-1.2</td>\n",
       "    </tr>\n",
       "    <tr>\n",
       "      <th>three</th>\n",
       "      <td>2002</td>\n",
       "      <td>Ohio</td>\n",
       "      <td>3.6</td>\n",
       "      <td>NaN</td>\n",
       "    </tr>\n",
       "    <tr>\n",
       "      <th>four</th>\n",
       "      <td>2001</td>\n",
       "      <td>Nevada</td>\n",
       "      <td>2.4</td>\n",
       "      <td>-1.5</td>\n",
       "    </tr>\n",
       "    <tr>\n",
       "      <th>five</th>\n",
       "      <td>2002</td>\n",
       "      <td>Nevada</td>\n",
       "      <td>2.9</td>\n",
       "      <td>-1.7</td>\n",
       "    </tr>\n",
       "  </tbody>\n",
       "</table>\n",
       "</div>"
      ]
     },
     "execution_count": 29,
     "metadata": {},
     "output_type": "execute_result"
    }
   ],
   "execution_count": 29
  },
  {
   "cell_type": "markdown",
   "source": [
    "```python\n",
    "frame.describe()\n",
    "```"
   ],
   "metadata": {
    "collapsed": false
   }
  },
  {
   "cell_type": "code",
   "metadata": {
    "colab": {
     "base_uri": "https://localhost:8080/"
    },
    "id": "-Z0S5V3fYW4p",
    "outputId": "7bd634ed-bcd0-4aaa-bc91-e540cfd6c8e8",
    "ExecuteTime": {
     "end_time": "2024-09-07T16:47:29.317353Z",
     "start_time": "2024-09-07T16:47:29.303709Z"
    }
   },
   "source": "frame.describe()",
   "outputs": [
    {
     "data": {
      "text/plain": [
       "             year       pop\n",
       "count     5.00000  5.000000\n",
       "mean   2001.20000  2.420000\n",
       "std       0.83666  0.864292\n",
       "min    2000.00000  1.500000\n",
       "25%    2001.00000  1.700000\n",
       "50%    2001.00000  2.400000\n",
       "75%    2002.00000  2.900000\n",
       "max    2002.00000  3.600000"
      ],
      "text/html": [
       "<div>\n",
       "<style scoped>\n",
       "    .dataframe tbody tr th:only-of-type {\n",
       "        vertical-align: middle;\n",
       "    }\n",
       "\n",
       "    .dataframe tbody tr th {\n",
       "        vertical-align: top;\n",
       "    }\n",
       "\n",
       "    .dataframe thead th {\n",
       "        text-align: right;\n",
       "    }\n",
       "</style>\n",
       "<table border=\"1\" class=\"dataframe\">\n",
       "  <thead>\n",
       "    <tr style=\"text-align: right;\">\n",
       "      <th></th>\n",
       "      <th>year</th>\n",
       "      <th>pop</th>\n",
       "    </tr>\n",
       "  </thead>\n",
       "  <tbody>\n",
       "    <tr>\n",
       "      <th>count</th>\n",
       "      <td>5.00000</td>\n",
       "      <td>5.000000</td>\n",
       "    </tr>\n",
       "    <tr>\n",
       "      <th>mean</th>\n",
       "      <td>2001.20000</td>\n",
       "      <td>2.420000</td>\n",
       "    </tr>\n",
       "    <tr>\n",
       "      <th>std</th>\n",
       "      <td>0.83666</td>\n",
       "      <td>0.864292</td>\n",
       "    </tr>\n",
       "    <tr>\n",
       "      <th>min</th>\n",
       "      <td>2000.00000</td>\n",
       "      <td>1.500000</td>\n",
       "    </tr>\n",
       "    <tr>\n",
       "      <th>25%</th>\n",
       "      <td>2001.00000</td>\n",
       "      <td>1.700000</td>\n",
       "    </tr>\n",
       "    <tr>\n",
       "      <th>50%</th>\n",
       "      <td>2001.00000</td>\n",
       "      <td>2.400000</td>\n",
       "    </tr>\n",
       "    <tr>\n",
       "      <th>75%</th>\n",
       "      <td>2002.00000</td>\n",
       "      <td>2.900000</td>\n",
       "    </tr>\n",
       "    <tr>\n",
       "      <th>max</th>\n",
       "      <td>2002.00000</td>\n",
       "      <td>3.600000</td>\n",
       "    </tr>\n",
       "  </tbody>\n",
       "</table>\n",
       "</div>"
      ]
     },
     "execution_count": 30,
     "metadata": {},
     "output_type": "execute_result"
    }
   ],
   "execution_count": 30
  },
  {
   "cell_type": "code",
   "execution_count": null,
   "metadata": {
    "colab": {
     "base_uri": "https://localhost:8080/",
     "height": 206
    },
    "id": "tBLOuzKY5ZL4",
    "outputId": "0c67c6a5-ab7a-4b79-c91e-5c66671ee2aa"
   },
   "outputs": [],
   "source": []
  },
  {
   "cell_type": "markdown",
   "metadata": {
    "id": "2ugcNZhT6XkK"
   },
   "source": [
    "Other form of creating the the data frame is a nested dict of dicts format"
   ]
  },
  {
   "cell_type": "markdown",
   "metadata": {
    "id": "Z9eWxcu5Az7h"
   },
   "source": [
    "```python\n",
    "pop = {'Nevada': {2001:2.4,2002:2.9},\n",
    "       'Ohio'  : {2000:1.5,2001:1.7, 2002: 3.6}}\n",
    "frame3 = pd.DataFrame(pop)\n",
    "frame3\n",
    "```"
   ]
  },
  {
   "cell_type": "code",
   "metadata": {
    "colab": {
     "base_uri": "https://localhost:8080/",
     "height": 143
    },
    "id": "TPzkoKol5WV-",
    "outputId": "58b40025-c122-4c91-c0a0-763797d44d30",
    "ExecuteTime": {
     "end_time": "2024-09-07T16:47:35.974093Z",
     "start_time": "2024-09-07T16:47:35.963078Z"
    }
   },
   "source": [
    "pop = {'Nevada': {2001:2.4,2002:2.9},\n",
    "       'Ohio'  : {2000:1.5,2001:1.7, 2002: 3.6}}\n",
    "frame3 = pd.DataFrame(pop)\n",
    "frame3"
   ],
   "outputs": [
    {
     "data": {
      "text/plain": [
       "      Nevada  Ohio\n",
       "2001     2.4   1.7\n",
       "2002     2.9   3.6\n",
       "2000     NaN   1.5"
      ],
      "text/html": [
       "<div>\n",
       "<style scoped>\n",
       "    .dataframe tbody tr th:only-of-type {\n",
       "        vertical-align: middle;\n",
       "    }\n",
       "\n",
       "    .dataframe tbody tr th {\n",
       "        vertical-align: top;\n",
       "    }\n",
       "\n",
       "    .dataframe thead th {\n",
       "        text-align: right;\n",
       "    }\n",
       "</style>\n",
       "<table border=\"1\" class=\"dataframe\">\n",
       "  <thead>\n",
       "    <tr style=\"text-align: right;\">\n",
       "      <th></th>\n",
       "      <th>Nevada</th>\n",
       "      <th>Ohio</th>\n",
       "    </tr>\n",
       "  </thead>\n",
       "  <tbody>\n",
       "    <tr>\n",
       "      <th>2001</th>\n",
       "      <td>2.4</td>\n",
       "      <td>1.7</td>\n",
       "    </tr>\n",
       "    <tr>\n",
       "      <th>2002</th>\n",
       "      <td>2.9</td>\n",
       "      <td>3.6</td>\n",
       "    </tr>\n",
       "    <tr>\n",
       "      <th>2000</th>\n",
       "      <td>NaN</td>\n",
       "      <td>1.5</td>\n",
       "    </tr>\n",
       "  </tbody>\n",
       "</table>\n",
       "</div>"
      ]
     },
     "execution_count": 31,
     "metadata": {},
     "output_type": "execute_result"
    }
   ],
   "execution_count": 31
  },
  {
   "cell_type": "markdown",
   "metadata": {
    "id": "_C4-jDaK67fJ"
   },
   "source": [
    "`Nan`, means the data is not provided.\n",
    "The Pandas Dataframe is the symetrix tuple, it should provides as a table.\n",
    "\n",
    "We can transpose the result\n"
   ]
  },
  {
   "cell_type": "markdown",
   "metadata": {
    "id": "XqpD6qoHA3xm"
   },
   "source": [
    "```python\n",
    "frame3.T\n",
    "```"
   ]
  },
  {
   "cell_type": "code",
   "metadata": {
    "colab": {
     "base_uri": "https://localhost:8080/",
     "height": 143
    },
    "id": "_v-68r4y7Sf8",
    "outputId": "a4ffa99b-9199-4a35-bc9c-d8542deb85cb",
    "ExecuteTime": {
     "end_time": "2024-09-07T16:47:41.013636Z",
     "start_time": "2024-09-07T16:47:41.001415Z"
    }
   },
   "source": "frame3.T",
   "outputs": [
    {
     "data": {
      "text/plain": [
       "        2001  2002  2000\n",
       "Nevada   2.4   2.9   NaN\n",
       "Ohio     1.7   3.6   1.5"
      ],
      "text/html": [
       "<div>\n",
       "<style scoped>\n",
       "    .dataframe tbody tr th:only-of-type {\n",
       "        vertical-align: middle;\n",
       "    }\n",
       "\n",
       "    .dataframe tbody tr th {\n",
       "        vertical-align: top;\n",
       "    }\n",
       "\n",
       "    .dataframe thead th {\n",
       "        text-align: right;\n",
       "    }\n",
       "</style>\n",
       "<table border=\"1\" class=\"dataframe\">\n",
       "  <thead>\n",
       "    <tr style=\"text-align: right;\">\n",
       "      <th></th>\n",
       "      <th>2001</th>\n",
       "      <th>2002</th>\n",
       "      <th>2000</th>\n",
       "    </tr>\n",
       "  </thead>\n",
       "  <tbody>\n",
       "    <tr>\n",
       "      <th>Nevada</th>\n",
       "      <td>2.4</td>\n",
       "      <td>2.9</td>\n",
       "      <td>NaN</td>\n",
       "    </tr>\n",
       "    <tr>\n",
       "      <th>Ohio</th>\n",
       "      <td>1.7</td>\n",
       "      <td>3.6</td>\n",
       "      <td>1.5</td>\n",
       "    </tr>\n",
       "  </tbody>\n",
       "</table>\n",
       "</div>"
      ]
     },
     "execution_count": 32,
     "metadata": {},
     "output_type": "execute_result"
    }
   ],
   "execution_count": 32
  },
  {
   "cell_type": "markdown",
   "metadata": {
    "id": "i0rLFWIUJ9WH"
   },
   "source": []
  },
  {
   "cell_type": "markdown",
   "metadata": {
    "id": "8K11zg_E7Vvz"
   },
   "source": [
    "## Task Data Structure - Data frame\n",
    "\n",
    "From your previous work,\n",
    "Add the column midterm score, and attendance score to all the students"
   ]
  },
  {
   "cell_type": "code",
   "execution_count": null,
   "metadata": {
    "colab": {
     "base_uri": "https://localhost:8080/"
    },
    "id": "4v1Yqepe7Vb8",
    "outputId": "22e7f19f-694f-4dfc-e638-ca30e87e12fc"
   },
   "outputs": [],
   "source": []
  }
 ],
 "metadata": {
  "colab": {
   "provenance": []
  },
  "kernelspec": {
   "display_name": "Python 3 (ipykernel)",
   "language": "python",
   "name": "python3"
  },
  "language_info": {
   "codemirror_mode": {
    "name": "ipython",
    "version": 3
   },
   "file_extension": ".py",
   "mimetype": "text/x-python",
   "name": "python",
   "nbconvert_exporter": "python",
   "pygments_lexer": "ipython3",
   "version": "3.11.1"
  }
 },
 "nbformat": 4,
 "nbformat_minor": 1
}
